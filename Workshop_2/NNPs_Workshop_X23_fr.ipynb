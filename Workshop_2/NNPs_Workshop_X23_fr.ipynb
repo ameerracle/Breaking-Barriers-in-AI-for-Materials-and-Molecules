{
  "cells": [
    {
      "cell_type": "code",
      "execution_count": null,
      "metadata": {
        "colab": {
          "base_uri": "https://localhost:8080/"
        },
        "id": "Nkj7ecKMEKNM",
        "outputId": "09747f10-dd7b-462a-aa7b-21c3d5e83e36"
      },
      "outputs": [],
      "source": [
        "!pip install ase\n",
        "!pip install mace-torch\n",
        "!pip install orb_models\n",
        "!pip install pynanoflann\n",
        "\n"
      ]
    },
    {
      "cell_type": "code",
      "execution_count": null,
      "metadata": {},
      "outputs": [],
      "source": [
        "# Pour décompresser les contenus des fichiers `mols.zip` et `solids.zip`, uniquement dans Google Colab. Décompressez manuellement sur un système local.\n",
        "\n",
        "import os\n",
        "\n",
        "# Créer les sous-répertoires s'ils n'existent pas.\n",
        "if not os.path.exists(\"mols\"):\n",
        "  os.makedirs(\"mols\")\n",
        "if not os.path.exists(\"solids\"):\n",
        "  os.makedirs(\"solids\")\n",
        "\n",
        "!unzip mols.zip -d mols\n",
        "!unzip solids.zip -d solids"
      ]
    },
    {
      "cell_type": "code",
      "execution_count": null,
      "metadata": {
        "id": "-q4qdb7nFJoB"
      },
      "outputs": [],
      "source": [
        "import sys\n",
        "import time\n",
        "from ase.calculators.calculator import Calculator as ASECalculator\n",
        "from ase.io import read\n",
        "from ase.filters import FrechetCellFilter\n",
        "from ase.optimize import QuasiNewton, FIRE\n",
        "from mace.calculators import mace_mp, mace_anicc\n",
        "from orb_models.forcefield import pretrained\n",
        "from orb_models.forcefield.calculator import ORBCalculator\n"
      ]
    },
    {
      "cell_type": "code",
      "execution_count": null,
      "metadata": {
        "id": "XQ_Oaa9YFSjU"
      },
      "outputs": [],
      "source": [
        "def compute_x23_case(\n",
        "    mol_file: str,\n",
        "    solid_file: str,\n",
        "    calc: ASECalculator,\n",
        "    num_mols_per_cell: int,\n",
        "    f_cutoff: float=0.05,\n",
        "    max_steps: int=200,\n",
        "    opt_method: str=\"qn\",\n",
        ") -> tuple[float, float]:\n",
        "    \"\"\"\n",
        "    Calcule un cas X23 donné et renvoie l'énergie réticulaire + le volume de la cellule.\n",
        "\n",
        "    :param mol_file: Chemin vers le fichier de la molécule.\n",
        "    :param solid_file: Chemin vers le fichier du solide.\n",
        "    :param calc: L'outil de calcul ASE.\n",
        "    :param num_mols_per_cell: Nombre de molécules dans `solid_file`.\n",
        "    :param f_cutoff: Seuil des forces pour la convergence, en eV/A.\n",
        "    :param max_steps: Nombre maximum d'étapes d'optimisation.\n",
        "    :param opt_method: Méthode d'optimisation (\"qn\" ou \"fire\").\n",
        "    \"\"\"\n",
        "    mol_atoms = read(mol_file)\n",
        "    mol_atoms.calc = calc\n",
        "\n",
        "    if opt_method == \"qn\":\n",
        "        mol_qn = QuasiNewton(mol_atoms)\n",
        "    elif opt_method == \"fire\":\n",
        "        mol_qn = FIRE(mol_atoms)\n",
        "    else:\n",
        "        raise ValueError(\"unknown opt_method\")\n",
        "    mol_qn.run(fmax=f_cutoff, steps=max_steps)\n",
        "\n",
        "    solid_atoms = read(solid_file)\n",
        "    solid_atoms.calc = calc\n",
        "\n",
        "    if opt_method == \"qn\":\n",
        "        solid_qn = QuasiNewton(FrechetCellFilter(solid_atoms))\n",
        "    elif opt_method == \"fire\":\n",
        "        solid_qn = FIRE(FrechetCellFilter(solid_atoms))\n",
        "    else:\n",
        "        raise ValueError(\"unknown opt_method\")\n",
        "    solid_qn.run(fmax=f_cutoff, steps=max_steps)\n",
        "\n",
        "    sE = solid_atoms.get_potential_energy()\n",
        "    mE = mol_atoms.get_potential_energy()\n",
        "    lattice_energy = sE / num_mols_per_cell - mE\n",
        "\n",
        "    opt_volume = solid_atoms.get_volume() / num_mols_per_cell\n",
        "\n",
        "    return float(lattice_energy) * 23.0605419, float(opt_volume)"
      ]
    },
    {
      "cell_type": "code",
      "execution_count": null,
      "metadata": {
        "colab": {
          "base_uri": "https://localhost:8080/"
        },
        "collapsed": true,
        "id": "d6OsD43zGQmm",
        "outputId": "4713a178-f830-4fba-918c-de8c3368264b"
      },
      "outputs": [],
      "source": [
        "calc = mace_mp()\n",
        "\n",
        "num_per_cell = [2, 4, 2, 4, 2, 4, 4, 8, 4, 2, 4, 1, 4, 2, 4, 2, 2, 8, 2, 6, 6, 4, 2]\n",
        "\n",
        "for idx, num in enumerate(num_per_cell):\n",
        "    i = idx + 1\n",
        "    start_time = time.time()\n",
        "\n",
        "    E, vol = compute_x23_case(\n",
        "        f\"x23/mols/{i:02d}.extxyz\",\n",
        "        f\"x23/solids/{i:02d}.extxyz\",\n",
        "        calc,\n",
        "        num,\n",
        "    )\n",
        "\n",
        "    end_time = time.time()\n",
        "    elapsed = end_time - start_time\n",
        "\n",
        "    with open(\"mace_mp_x23.out\", \"a+\") as f:\n",
        "        f.write(f\"{i},{E:.5f},{vol:.5f},{elapsed:.1f}\\n\")"
      ]
    },
    {
      "cell_type": "code",
      "execution_count": null,
      "metadata": {
        "colab": {
          "base_uri": "https://localhost:8080/"
        },
        "id": "gCp6rFdikJYj",
        "outputId": "5de638d8-3581-408b-8c8c-fef766f5a334"
      },
      "outputs": [],
      "source": [
        "orbff = pretrained.orb_d3_v2()\n",
        "calc = ORBCalculator(orbff)\n",
        "\n",
        "num_per_cell = [2, 4, 2, 4, 2, 4, 4, 8, 4, 2, 4, 1, 4, 2, 4, 2, 2, 8, 2, 6, 6, 4, 2]\n",
        "\n",
        "for idx, num in enumerate(num_per_cell):\n",
        "    i = idx + 1\n",
        "    start_time = time.time()\n",
        "\n",
        "    E, vol = compute_x23_case(\n",
        "        f\"x23/mols/{i:02d}.extxyz\",\n",
        "        f\"x23/solids/{i:02d}.extxyz\",\n",
        "        calc,\n",
        "        num,\n",
        "        opt_method=\"fire\",\n",
        "    )\n",
        "\n",
        "    end_time = time.time()\n",
        "    elapsed = end_time - start_time\n",
        "\n",
        "    with open(\"orbd3v2_x23.out\", \"a+\") as f:\n",
        "        f.write(f\"{i},{E:.5f},{vol:.5f},{elapsed:.1f}\\n\")"
      ]
    },
    {
      "cell_type": "code",
      "execution_count": null,
      "metadata": {
        "id": "EY5jfI49ecSe"
      },
      "outputs": [],
      "source": []
    }
  ],
  "metadata": {
    "accelerator": "GPU",
    "colab": {
      "gpuType": "T4",
      "provenance": []
    },
    "kernelspec": {
      "display_name": "Python 3",
      "name": "python3"
    },
    "language_info": {
      "name": "python"
    }
  },
  "nbformat": 4,
  "nbformat_minor": 0
}
