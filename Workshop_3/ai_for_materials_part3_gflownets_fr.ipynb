{
  "cells": [
    {
      "cell_type": "markdown",
      "metadata": {
        "colab_type": "text",
        "id": "view-in-github"
      },
      "source": [
        "<a href=\"https://colab.research.google.com/github/ameerracle/Breaking-Barriers-in-AI-for-Materials-and-Molecules/blob/main/ai_for_materials_part3_gflownets.ipynb\" target=\"_parent\"><img src=\"https://colab.research.google.com/assets/colab-badge.svg\" alt=\"Open In Colab\"/></a>"
      ]
    },
    {
      "cell_type": "markdown",
      "metadata": {
        "id": "995rdQml6r6a"
      },
      "source": [
        "# Atelier d'IA pour les Matériaux (Partie 3) : GFlowNets"
      ]
    },
    {
      "cell_type": "markdown",
      "metadata": {
        "id": "UHJ_40wj693i"
      },
      "source": [
        "## Installation de la bibliothèque GFlowNet\n",
        "\n",
        "Notez que la procédure pour installer la bibliothèque dans un notebook Colab est légèrement différente de celle utilisée dans un terminal, qui serait plus simple et offrirait plus de contrôle à l'utilisateur. Veuillez vous référer aux instructions d'installation ici : [GFlowNet Installation](https://github.com/alexhernandezgarcia/gflownet#installation)\n",
        "\n",
        "Cela prendra quelques minutes. Veuillez attendre la fin de l'installation."
      ]
    },
    {
      "cell_type": "code",
      "execution_count": null,
      "metadata": {
        "colab": {
          "base_uri": "https://localhost:8080/"
        },
        "collapsed": true,
        "id": "5XD-DzFK9vfW",
        "outputId": "b49fc342-a885-4e8e-b922-58cc96976e37"
      },
      "outputs": [],
      "source": [
        "!rm -rf gflownet/\n",
        "# Cloner le dépôt\n",
        "!git clone https://github.com/alexhernandezgarcia/gflownet.git\n",
        "# Changer de répertoire vers gflownet/\n",
        "%cd gflownet/\n",
        "!pwd\n",
        "# Mettre à jour pip\n",
        "!python -m pip install --upgrade pip\n",
        "!python -m pip install numpy==1.26.4\n",
        "# Installer torch 2.5.1\n",
        "!python -m pip install torch==2.5.1 --index-url https://download.pytorch.org/whl/cpu\n",
        "!python -m pip install torch-scatter -f https://data.pyg.org/whl/torch-2.5.1+cpu.html\n",
        "# Installer la bibliothèque gflownet\n",
        "!python -m pip install .[dev,materials]"
      ]
    },
    {
      "cell_type": "markdown",
      "metadata": {
        "id": "2BW96joeun9v"
      },
      "source": [
        "## IMPORTANT\n",
        "\n",
        "**Assurez-vous que la version de `numpy` est inférieure à `2.0.0`.**\n",
        "\n",
        "1. Exécutez la cellule ci-dessous.\n",
        "2. Si la version affichée est inférieure à `2.0.0`, par exemple `1.26.4`, alors tout est bon. Passez les étapes suivantes et continuez.\n",
        "3. Sinon, redémarrez la session : Menu Runtime > Redémarrer la session.\n",
        "4. Réexécutez la cellule d'installation ci-dessus.\n"
      ]
    },
    {
      "cell_type": "code",
      "execution_count": 2,
      "metadata": {
        "colab": {
          "base_uri": "https://localhost:8080/"
        },
        "id": "KJ3sHQ5CuABn",
        "outputId": "725f3b24-0bf4-40c5-ab65-221082abf51f"
      },
      "outputs": [
        {
          "name": "stdout",
          "output_type": "stream",
          "text": [
            "1.26.4\n"
          ]
        }
      ],
      "source": [
        "import numpy as np\n",
        "print(np.__version__)"
      ]
    },
    {
      "cell_type": "markdown",
      "metadata": {
        "id": "VS15mUwDBkih"
      },
      "source": [
        "## Entraîner un GFlowNet avec la tâche Scrabble\n",
        "\n",
        "Cette étape prendra également quelques minutes. Vous pourrez voir une barre de progression pour l'entraînement.\n"
      ]
    },
    {
      "cell_type": "code",
      "execution_count": null,
      "metadata": {
        "colab": {
          "base_uri": "https://localhost:8080/"
        },
        "collapsed": true,
        "id": "ABYn1ffHBqXh",
        "outputId": "7e185718-eb3a-4e46-c65f-c02e77cf3183"
      },
      "outputs": [
        {
          "name": "stdout",
          "output_type": "stream",
          "text": [
            "\n",
            "Working directory of this run: /content/gflownet/gflownet\n",
            "Logging directory of this run: /content/gflownet/gflownet/logs/local/2025-03-28_19-19-12_236710\n",
            "\n",
            "\tImportant: offline trajectories will NOT be sampled. In order to  sample offline trajectories, the train configuration of the buffer  should be provided.\n",
            "\tImportant: test metrics will NOT be computed. In order to compute test metrics, the test configuration of the buffer should be provided.\n",
            "/usr/local/lib/python3.11/dist-packages/torch/_compile.py:32: UserWarning: optimizer contains a parameter group with duplicate parameters; in future, this will cause an error; see github.com/pytorch/pytorch/issues/40967 for more information\n",
            "  return disable_fn(*args, **kwargs)\n",
            "Loss: 0.0290 | Mean rewards: 25.10 | JSD: -1.0000: 100% 5000/5000 [01:53<00:00, 43.97it/s]\n"
          ]
        }
      ],
      "source": [
        "!python train.py env=scrabble proxy=scrabble"
      ]
    },
    {
      "cell_type": "markdown",
      "metadata": {
        "id": "4gP98tuMDZ_U"
      },
      "source": [
        "### Échantillonner 1000 séquences Scrabble à partir du GFlowNet entraîné\n",
        "\n",
        "**IMPORTANT**\n",
        "\n",
        "Copiez le répertoire de journalisation affiché dans la cellule précédente, juste après \"Logging directory of this run: \". Remplacez le répertoire dans la cellule ci-dessous, dans les deux lignes concernées. Assurez-vous de conserver le chemin entre guillemets doubles.\n"
      ]
    },
    {
      "cell_type": "code",
      "execution_count": null,
      "metadata": {
        "colab": {
          "base_uri": "https://localhost:8080/"
        },
        "id": "ig4EYxMdxbmx",
        "outputId": "4aa1f88d-af41-4e3c-994a-d3488d2b1cd2"
      },
      "outputs": [
        {
          "name": "stdout",
          "output_type": "stream",
          "text": [
            "/bin/bash: line 1: /content/gflownet/gflownet/logs/local/2025-03-28_19-19-12_236710: Is a directory\n"
          ]
        }
      ],
      "source": [
        "rundir = \"/content/gflownet/gflownet/logs/local/2025-03-28_19-19-12_236710\"\n",
        "!$rundir = \"/content/gflownet/gflownet/logs/local/2025-03-28_19-19-12_236710\""
      ]
    },
    {
      "cell_type": "code",
      "execution_count": null,
      "metadata": {
        "colab": {
          "base_uri": "https://localhost:8080/"
        },
        "collapsed": true,
        "id": "WAdx5_2gDMab",
        "outputId": "5334be6d-9595-4a89-ad4a-7209ad9edb10"
      },
      "outputs": [
        {
          "name": "stdout",
          "output_type": "stream",
          "text": [
            "device: cpu\n",
            "float_precision: 32\n",
            "rundir: /content/gflownet/gflownet/logs/local/2025-03-28_19-19-12_236710\n",
            "conditional_env_config_path: null\n",
            "n_samples: 1000\n",
            "sampling_batch_size: 100\n",
            "output_dir: null\n",
            "print_config: false\n",
            "samples_only: false\n",
            "randominit: false\n",
            "user:\n",
            "  logdir:\n",
            "    root: ./logs\n",
            "  data:\n",
            "    root: ./data\n",
            "    alanine_dipeptide: ~/gflownet/data/alanine_dipeptide_conformers_1.npy\n",
            "\n",
            "Loading GFlowNet from the configuration in /content/gflownet/gflownet/logs/local/2025-03-28_19-19-12_236710...\n",
            "/content/gflownet/gflownet/gflownet/utils/common.py:407: FutureWarning: You are using `torch.load` with `weights_only=False` (the current default value), which uses the default pickle module implicitly. It is possible to construct malicious pickle data which will execute arbitrary code during unpickling (See https://github.com/pytorch/pytorch/blob/main/SECURITY.md#untrusted-models for more details). In a future release, the default value for `weights_only` will be flipped to `True`. This limits the functions that could be executed during unpickling. Arbitrary objects will no longer be allowed to be loaded via this mode unless they are explicitly allowlisted by the user via `torch.serialization.add_safe_globals`. We recommend you start setting `weights_only=True` for any use case where you don't have full control of the loaded file. Please open an issue on GitHub for any issues related to this experimental feature.\n",
            "  checkpoint = torch.load(checkpoint_latest, map_location=set_device(device))\n",
            "\tImportant: offline trajectories will NOT be sampled. In order to  sample offline trajectories, the train configuration of the buffer  should be provided.\n",
            "\tImportant: test metrics will NOT be computed. In order to compute test metrics, the test configuration of the buffer should be provided.\n",
            "/usr/local/lib/python3.11/dist-packages/torch/_compile.py:32: UserWarning: optimizer contains a parameter group with duplicate parameters; in future, this will cause an error; see github.com/pytorch/pytorch/issues/40967 for more information\n",
            "  return disable_fn(*args, **kwargs)\n",
            "output_dir:  /content/gflownet/gflownet/logs/local/2025-03-28_19-19-12_236710/figures\n",
            "Metrics:\n",
            "\tl1: -1.0000\n",
            "\tkl: -1.0000\n",
            "\tjsd: -1.0000\n",
            "\tcorr_prob_traj_rewards: 0.0000\n",
            "\tvar_logrewards_logp: -1.0000\n",
            "\tnll_tt: 0.0000\n",
            "\tmean_logprobs_std: -1.0000\n",
            "\tmean_probs_std: -1.0000\n",
            "\tlogprobs_std_nll_ratio: -1.0000\n",
            "Sampling 1000 forward trajectories from GFlowNet in batches of 100\n",
            "100% 10/10 [00:00<00:00, 18.04it/s]\n",
            "Concatenating sample CSVs\n",
            "100% 10/10 [00:00<00:00, 723.67it/s]\n",
            "100% 10/10 [00:00<00:00, 8828.26it/s]\n",
            "Delete temporary files? (y/n)"
          ]
        }
      ],
      "source": [
        "!yes | python eval.py rundir=$rundir n_samples=1000"
      ]
    },
    {
      "cell_type": "markdown",
      "metadata": {
        "id": "MTDIwEA_ycgU"
      },
      "source": [
        "Importer pandas et seaborn pour les visualisations"
      ]
    },
    {
      "cell_type": "code",
      "execution_count": null,
      "metadata": {
        "id": "J1wtUxu-D_5N"
      },
      "outputs": [],
      "source": [
        "import pandas as pd\n",
        "import seaborn as sns"
      ]
    },
    {
      "cell_type": "markdown",
      "metadata": {
        "id": "fLPnUep9ygmc"
      },
      "source": [
        "Lisez l'ensemble de données des échantillons générés par le Scrabble-GFN.\n"
      ]
    },
    {
      "cell_type": "code",
      "execution_count": null,
      "metadata": {
        "colab": {
          "base_uri": "https://localhost:8080/",
          "height": 424
        },
        "id": "V6oquA1iD8Df",
        "outputId": "745492e4-05e3-44ae-f3ee-ece8fdc4c004"
      },
      "outputs": [
        {
          "data": {
            "application/vnd.google.colaboratory.intrinsic+json": {
              "summary": "{\n  \"name\": \"df\",\n  \"rows\": 1000,\n  \"fields\": [\n    {\n      \"column\": \"Unnamed: 0\",\n      \"properties\": {\n        \"dtype\": \"number\",\n        \"std\": 28,\n        \"min\": 0,\n        \"max\": 99,\n        \"num_unique_values\": 100,\n        \"samples\": [\n          83,\n          53,\n          70\n        ],\n        \"semantic_type\": \"\",\n        \"description\": \"\"\n      }\n    },\n    {\n      \"column\": \"readable\",\n      \"properties\": {\n        \"dtype\": \"string\",\n        \"num_unique_values\": 999,\n        \"samples\": [\n          \"V F L A W C G\",\n          \"Q U H F R W S\",\n          \"O X X P E Q Q\"\n        ],\n        \"semantic_type\": \"\",\n        \"description\": \"\"\n      }\n    },\n    {\n      \"column\": \"energies\",\n      \"properties\": {\n        \"dtype\": \"number\",\n        \"std\": 7.492146305048791,\n        \"min\": 0.0,\n        \"max\": 51.0,\n        \"num_unique_values\": 43,\n        \"samples\": [\n          10.0,\n          27.0,\n          20.0\n        ],\n        \"semantic_type\": \"\",\n        \"description\": \"\"\n      }\n    }\n  ]\n}",
              "type": "dataframe",
              "variable_name": "df"
            },
            "text/html": [
              "\n",
              "  <div id=\"df-099914b9-779d-4849-ab26-f9564438cff0\" class=\"colab-df-container\">\n",
              "    <div>\n",
              "<style scoped>\n",
              "    .dataframe tbody tr th:only-of-type {\n",
              "        vertical-align: middle;\n",
              "    }\n",
              "\n",
              "    .dataframe tbody tr th {\n",
              "        vertical-align: top;\n",
              "    }\n",
              "\n",
              "    .dataframe thead th {\n",
              "        text-align: right;\n",
              "    }\n",
              "</style>\n",
              "<table border=\"1\" class=\"dataframe\">\n",
              "  <thead>\n",
              "    <tr style=\"text-align: right;\">\n",
              "      <th></th>\n",
              "      <th>Unnamed: 0</th>\n",
              "      <th>readable</th>\n",
              "      <th>energies</th>\n",
              "    </tr>\n",
              "  </thead>\n",
              "  <tbody>\n",
              "    <tr>\n",
              "      <th>0</th>\n",
              "      <td>0</td>\n",
              "      <td>C D L P K</td>\n",
              "      <td>14.0</td>\n",
              "    </tr>\n",
              "    <tr>\n",
              "      <th>1</th>\n",
              "      <td>1</td>\n",
              "      <td>E F Q X N X</td>\n",
              "      <td>32.0</td>\n",
              "    </tr>\n",
              "    <tr>\n",
              "      <th>2</th>\n",
              "      <td>2</td>\n",
              "      <td>C K P M F Z D</td>\n",
              "      <td>30.0</td>\n",
              "    </tr>\n",
              "    <tr>\n",
              "      <th>3</th>\n",
              "      <td>3</td>\n",
              "      <td>M Z C D G H D</td>\n",
              "      <td>26.0</td>\n",
              "    </tr>\n",
              "    <tr>\n",
              "      <th>4</th>\n",
              "      <td>4</td>\n",
              "      <td>W B K B Q F U</td>\n",
              "      <td>30.0</td>\n",
              "    </tr>\n",
              "    <tr>\n",
              "      <th>...</th>\n",
              "      <td>...</td>\n",
              "      <td>...</td>\n",
              "      <td>...</td>\n",
              "    </tr>\n",
              "    <tr>\n",
              "      <th>995</th>\n",
              "      <td>95</td>\n",
              "      <td>P Y G F X Y M</td>\n",
              "      <td>28.0</td>\n",
              "    </tr>\n",
              "    <tr>\n",
              "      <th>996</th>\n",
              "      <td>96</td>\n",
              "      <td>J X G S J O X</td>\n",
              "      <td>36.0</td>\n",
              "    </tr>\n",
              "    <tr>\n",
              "      <th>997</th>\n",
              "      <td>97</td>\n",
              "      <td>R H Z B A V S</td>\n",
              "      <td>24.0</td>\n",
              "    </tr>\n",
              "    <tr>\n",
              "      <th>998</th>\n",
              "      <td>98</td>\n",
              "      <td>Z M E O N J Q</td>\n",
              "      <td>34.0</td>\n",
              "    </tr>\n",
              "    <tr>\n",
              "      <th>999</th>\n",
              "      <td>99</td>\n",
              "      <td>V V W P W R Y</td>\n",
              "      <td>24.0</td>\n",
              "    </tr>\n",
              "  </tbody>\n",
              "</table>\n",
              "<p>1000 rows × 3 columns</p>\n",
              "</div>\n",
              "    <div class=\"colab-df-buttons\">\n",
              "\n",
              "  <div class=\"colab-df-container\">\n",
              "    <button class=\"colab-df-convert\" onclick=\"convertToInteractive('df-099914b9-779d-4849-ab26-f9564438cff0')\"\n",
              "            title=\"Convert this dataframe to an interactive table.\"\n",
              "            style=\"display:none;\">\n",
              "\n",
              "  <svg xmlns=\"http://www.w3.org/2000/svg\" height=\"24px\" viewBox=\"0 -960 960 960\">\n",
              "    <path d=\"M120-120v-720h720v720H120Zm60-500h600v-160H180v160Zm220 220h160v-160H400v160Zm0 220h160v-160H400v160ZM180-400h160v-160H180v160Zm440 0h160v-160H620v160ZM180-180h160v-160H180v160Zm440 0h160v-160H620v160Z\"/>\n",
              "  </svg>\n",
              "    </button>\n",
              "\n",
              "  <style>\n",
              "    .colab-df-container {\n",
              "      display:flex;\n",
              "      gap: 12px;\n",
              "    }\n",
              "\n",
              "    .colab-df-convert {\n",
              "      background-color: #E8F0FE;\n",
              "      border: none;\n",
              "      border-radius: 50%;\n",
              "      cursor: pointer;\n",
              "      display: none;\n",
              "      fill: #1967D2;\n",
              "      height: 32px;\n",
              "      padding: 0 0 0 0;\n",
              "      width: 32px;\n",
              "    }\n",
              "\n",
              "    .colab-df-convert:hover {\n",
              "      background-color: #E2EBFA;\n",
              "      box-shadow: 0px 1px 2px rgba(60, 64, 67, 0.3), 0px 1px 3px 1px rgba(60, 64, 67, 0.15);\n",
              "      fill: #174EA6;\n",
              "    }\n",
              "\n",
              "    .colab-df-buttons div {\n",
              "      margin-bottom: 4px;\n",
              "    }\n",
              "\n",
              "    [theme=dark] .colab-df-convert {\n",
              "      background-color: #3B4455;\n",
              "      fill: #D2E3FC;\n",
              "    }\n",
              "\n",
              "    [theme=dark] .colab-df-convert:hover {\n",
              "      background-color: #434B5C;\n",
              "      box-shadow: 0px 1px 3px 1px rgba(0, 0, 0, 0.15);\n",
              "      filter: drop-shadow(0px 1px 2px rgba(0, 0, 0, 0.3));\n",
              "      fill: #FFFFFF;\n",
              "    }\n",
              "  </style>\n",
              "\n",
              "    <script>\n",
              "      const buttonEl =\n",
              "        document.querySelector('#df-099914b9-779d-4849-ab26-f9564438cff0 button.colab-df-convert');\n",
              "      buttonEl.style.display =\n",
              "        google.colab.kernel.accessAllowed ? 'block' : 'none';\n",
              "\n",
              "      async function convertToInteractive(key) {\n",
              "        const element = document.querySelector('#df-099914b9-779d-4849-ab26-f9564438cff0');\n",
              "        const dataTable =\n",
              "          await google.colab.kernel.invokeFunction('convertToInteractive',\n",
              "                                                    [key], {});\n",
              "        if (!dataTable) return;\n",
              "\n",
              "        const docLinkHtml = 'Like what you see? Visit the ' +\n",
              "          '<a target=\"_blank\" href=https://colab.research.google.com/notebooks/data_table.ipynb>data table notebook</a>'\n",
              "          + ' to learn more about interactive tables.';\n",
              "        element.innerHTML = '';\n",
              "        dataTable['output_type'] = 'display_data';\n",
              "        await google.colab.output.renderOutput(dataTable, element);\n",
              "        const docLink = document.createElement('div');\n",
              "        docLink.innerHTML = docLinkHtml;\n",
              "        element.appendChild(docLink);\n",
              "      }\n",
              "    </script>\n",
              "  </div>\n",
              "\n",
              "\n",
              "<div id=\"df-e84a80e2-acf4-424f-9322-cc50c9a5b1e0\">\n",
              "  <button class=\"colab-df-quickchart\" onclick=\"quickchart('df-e84a80e2-acf4-424f-9322-cc50c9a5b1e0')\"\n",
              "            title=\"Suggest charts\"\n",
              "            style=\"display:none;\">\n",
              "\n",
              "<svg xmlns=\"http://www.w3.org/2000/svg\" height=\"24px\"viewBox=\"0 0 24 24\"\n",
              "     width=\"24px\">\n",
              "    <g>\n",
              "        <path d=\"M19 3H5c-1.1 0-2 .9-2 2v14c0 1.1.9 2 2 2h14c1.1 0 2-.9 2-2V5c0-1.1-.9-2-2-2zM9 17H7v-7h2v7zm4 0h-2V7h2v10zm4 0h-2v-4h2v4z\"/>\n",
              "    </g>\n",
              "</svg>\n",
              "  </button>\n",
              "\n",
              "<style>\n",
              "  .colab-df-quickchart {\n",
              "      --bg-color: #E8F0FE;\n",
              "      --fill-color: #1967D2;\n",
              "      --hover-bg-color: #E2EBFA;\n",
              "      --hover-fill-color: #174EA6;\n",
              "      --disabled-fill-color: #AAA;\n",
              "      --disabled-bg-color: #DDD;\n",
              "  }\n",
              "\n",
              "  [theme=dark] .colab-df-quickchart {\n",
              "      --bg-color: #3B4455;\n",
              "      --fill-color: #D2E3FC;\n",
              "      --hover-bg-color: #434B5C;\n",
              "      --hover-fill-color: #FFFFFF;\n",
              "      --disabled-bg-color: #3B4455;\n",
              "      --disabled-fill-color: #666;\n",
              "  }\n",
              "\n",
              "  .colab-df-quickchart {\n",
              "    background-color: var(--bg-color);\n",
              "    border: none;\n",
              "    border-radius: 50%;\n",
              "    cursor: pointer;\n",
              "    display: none;\n",
              "    fill: var(--fill-color);\n",
              "    height: 32px;\n",
              "    padding: 0;\n",
              "    width: 32px;\n",
              "  }\n",
              "\n",
              "  .colab-df-quickchart:hover {\n",
              "    background-color: var(--hover-bg-color);\n",
              "    box-shadow: 0 1px 2px rgba(60, 64, 67, 0.3), 0 1px 3px 1px rgba(60, 64, 67, 0.15);\n",
              "    fill: var(--button-hover-fill-color);\n",
              "  }\n",
              "\n",
              "  .colab-df-quickchart-complete:disabled,\n",
              "  .colab-df-quickchart-complete:disabled:hover {\n",
              "    background-color: var(--disabled-bg-color);\n",
              "    fill: var(--disabled-fill-color);\n",
              "    box-shadow: none;\n",
              "  }\n",
              "\n",
              "  .colab-df-spinner {\n",
              "    border: 2px solid var(--fill-color);\n",
              "    border-color: transparent;\n",
              "    border-bottom-color: var(--fill-color);\n",
              "    animation:\n",
              "      spin 1s steps(1) infinite;\n",
              "  }\n",
              "\n",
              "  @keyframes spin {\n",
              "    0% {\n",
              "      border-color: transparent;\n",
              "      border-bottom-color: var(--fill-color);\n",
              "      border-left-color: var(--fill-color);\n",
              "    }\n",
              "    20% {\n",
              "      border-color: transparent;\n",
              "      border-left-color: var(--fill-color);\n",
              "      border-top-color: var(--fill-color);\n",
              "    }\n",
              "    30% {\n",
              "      border-color: transparent;\n",
              "      border-left-color: var(--fill-color);\n",
              "      border-top-color: var(--fill-color);\n",
              "      border-right-color: var(--fill-color);\n",
              "    }\n",
              "    40% {\n",
              "      border-color: transparent;\n",
              "      border-right-color: var(--fill-color);\n",
              "      border-top-color: var(--fill-color);\n",
              "    }\n",
              "    60% {\n",
              "      border-color: transparent;\n",
              "      border-right-color: var(--fill-color);\n",
              "    }\n",
              "    80% {\n",
              "      border-color: transparent;\n",
              "      border-right-color: var(--fill-color);\n",
              "      border-bottom-color: var(--fill-color);\n",
              "    }\n",
              "    90% {\n",
              "      border-color: transparent;\n",
              "      border-bottom-color: var(--fill-color);\n",
              "    }\n",
              "  }\n",
              "</style>\n",
              "\n",
              "  <script>\n",
              "    async function quickchart(key) {\n",
              "      const quickchartButtonEl =\n",
              "        document.querySelector('#' + key + ' button');\n",
              "      quickchartButtonEl.disabled = true;  // To prevent multiple clicks.\n",
              "      quickchartButtonEl.classList.add('colab-df-spinner');\n",
              "      try {\n",
              "        const charts = await google.colab.kernel.invokeFunction(\n",
              "            'suggestCharts', [key], {});\n",
              "      } catch (error) {\n",
              "        console.error('Error during call to suggestCharts:', error);\n",
              "      }\n",
              "      quickchartButtonEl.classList.remove('colab-df-spinner');\n",
              "      quickchartButtonEl.classList.add('colab-df-quickchart-complete');\n",
              "    }\n",
              "    (() => {\n",
              "      let quickchartButtonEl =\n",
              "        document.querySelector('#df-e84a80e2-acf4-424f-9322-cc50c9a5b1e0 button');\n",
              "      quickchartButtonEl.style.display =\n",
              "        google.colab.kernel.accessAllowed ? 'block' : 'none';\n",
              "    })();\n",
              "  </script>\n",
              "</div>\n",
              "\n",
              "  <div id=\"id_9d0aa992-fe82-44d3-868c-d90ed07df46a\">\n",
              "    <style>\n",
              "      .colab-df-generate {\n",
              "        background-color: #E8F0FE;\n",
              "        border: none;\n",
              "        border-radius: 50%;\n",
              "        cursor: pointer;\n",
              "        display: none;\n",
              "        fill: #1967D2;\n",
              "        height: 32px;\n",
              "        padding: 0 0 0 0;\n",
              "        width: 32px;\n",
              "      }\n",
              "\n",
              "      .colab-df-generate:hover {\n",
              "        background-color: #E2EBFA;\n",
              "        box-shadow: 0px 1px 2px rgba(60, 64, 67, 0.3), 0px 1px 3px 1px rgba(60, 64, 67, 0.15);\n",
              "        fill: #174EA6;\n",
              "      }\n",
              "\n",
              "      [theme=dark] .colab-df-generate {\n",
              "        background-color: #3B4455;\n",
              "        fill: #D2E3FC;\n",
              "      }\n",
              "\n",
              "      [theme=dark] .colab-df-generate:hover {\n",
              "        background-color: #434B5C;\n",
              "        box-shadow: 0px 1px 3px 1px rgba(0, 0, 0, 0.15);\n",
              "        filter: drop-shadow(0px 1px 2px rgba(0, 0, 0, 0.3));\n",
              "        fill: #FFFFFF;\n",
              "      }\n",
              "    </style>\n",
              "    <button class=\"colab-df-generate\" onclick=\"generateWithVariable('df')\"\n",
              "            title=\"Generate code using this dataframe.\"\n",
              "            style=\"display:none;\">\n",
              "\n",
              "  <svg xmlns=\"http://www.w3.org/2000/svg\" height=\"24px\"viewBox=\"0 0 24 24\"\n",
              "       width=\"24px\">\n",
              "    <path d=\"M7,19H8.4L18.45,9,17,7.55,7,17.6ZM5,21V16.75L18.45,3.32a2,2,0,0,1,2.83,0l1.4,1.43a1.91,1.91,0,0,1,.58,1.4,1.91,1.91,0,0,1-.58,1.4L9.25,21ZM18.45,9,17,7.55Zm-12,3A5.31,5.31,0,0,0,4.9,8.1,5.31,5.31,0,0,0,1,6.5,5.31,5.31,0,0,0,4.9,4.9,5.31,5.31,0,0,0,6.5,1,5.31,5.31,0,0,0,8.1,4.9,5.31,5.31,0,0,0,12,6.5,5.46,5.46,0,0,0,6.5,12Z\"/>\n",
              "  </svg>\n",
              "    </button>\n",
              "    <script>\n",
              "      (() => {\n",
              "      const buttonEl =\n",
              "        document.querySelector('#id_9d0aa992-fe82-44d3-868c-d90ed07df46a button.colab-df-generate');\n",
              "      buttonEl.style.display =\n",
              "        google.colab.kernel.accessAllowed ? 'block' : 'none';\n",
              "\n",
              "      buttonEl.onclick = () => {\n",
              "        google.colab.notebook.generateWithVariable('df');\n",
              "      }\n",
              "      })();\n",
              "    </script>\n",
              "  </div>\n",
              "\n",
              "    </div>\n",
              "  </div>\n"
            ],
            "text/plain": [
              "     Unnamed: 0       readable  energies\n",
              "0             0      C D L P K      14.0\n",
              "1             1    E F Q X N X      32.0\n",
              "2             2  C K P M F Z D      30.0\n",
              "3             3  M Z C D G H D      26.0\n",
              "4             4  W B K B Q F U      30.0\n",
              "..          ...            ...       ...\n",
              "995          95  P Y G F X Y M      28.0\n",
              "996          96  J X G S J O X      36.0\n",
              "997          97  R H Z B A V S      24.0\n",
              "998          98  Z M E O N J Q      34.0\n",
              "999          99  V V W P W R Y      24.0\n",
              "\n",
              "[1000 rows x 3 columns]"
            ]
          },
          "execution_count": 86,
          "metadata": {},
          "output_type": "execute_result"
        }
      ],
      "source": [
        "df = pd.read_csv(f\"{rundir}/eval/samples/gfn_samples.csv\")\n",
        "df"
      ]
    },
    {
      "cell_type": "markdown",
      "metadata": {
        "id": "hkldzlH2ynT6"
      },
      "source": [
        "Tracez la distribution des scores Scrabble à partir des 1000 échantillons générés.\n"
      ]
    },
    {
      "cell_type": "code",
      "execution_count": null,
      "metadata": {
        "colab": {
          "base_uri": "https://localhost:8080/",
          "height": 524
        },
        "id": "qBsDnBLIEhCr",
        "outputId": "111e66a8-c4d0-4a4b-98d5-d111d9265915"
      },
      "outputs": [
        {
          "data": {
            "text/plain": [
              "<seaborn.axisgrid.FacetGrid at 0x7aabab308f50>"
            ]
          },
          "execution_count": 87,
          "metadata": {},
          "output_type": "execute_result"
        },
        {
          "data": {
            "image/png": "[encoded data removed]",
            "text/plain": [
              "<Figure size 500x500 with 1 Axes>"
            ]
          },
          "metadata": {},
          "output_type": "display_data"
        }
      ],
      "source": [
        "sns.displot(data=df, x=\"energies\", kde=True)"
      ]
    },
    {
      "cell_type": "markdown",
      "metadata": {
        "id": "PGVjAUSUy87K"
      },
      "source": [
        "Cette distribution, à elle seule, ne permet pas d'évaluer si le GFlowNet a appris à échantillonner des séquences Scrabble avec des récompenses plus élevées que celles obtenues par un échantillonnage aléatoire.\n"
      ]
    },
    {
      "cell_type": "code",
      "execution_count": null,
      "metadata": {
        "colab": {
          "base_uri": "https://localhost:8080/"
        },
        "id": "_H3in4UlEqxA",
        "outputId": "bf6f9bcf-7e38-4670-fcc1-c7e70a82c5ea"
      },
      "outputs": [
        {
          "name": "stdout",
          "output_type": "stream",
          "text": [
            "device: cpu\n",
            "float_precision: 32\n",
            "rundir: /content/gflownet/gflownet/logs/local/2025-03-28_19-19-12_236710\n",
            "conditional_env_config_path: null\n",
            "n_samples: 1000\n",
            "sampling_batch_size: 100\n",
            "output_dir: null\n",
            "print_config: false\n",
            "samples_only: false\n",
            "randominit: true\n",
            "user:\n",
            "  logdir:\n",
            "    root: ./logs\n",
            "  data:\n",
            "    root: ./data\n",
            "    alanine_dipeptide: ~/gflownet/data/alanine_dipeptide_conformers_1.npy\n",
            "\n",
            "Loading GFlowNet from the configuration in /content/gflownet/gflownet/logs/local/2025-03-28_19-19-12_236710...\n",
            "\tImportant: offline trajectories will NOT be sampled. In order to  sample offline trajectories, the train configuration of the buffer  should be provided.\n",
            "\tImportant: test metrics will NOT be computed. In order to compute test metrics, the test configuration of the buffer should be provided.\n",
            "/usr/local/lib/python3.11/dist-packages/torch/_compile.py:32: UserWarning: optimizer contains a parameter group with duplicate parameters; in future, this will cause an error; see github.com/pytorch/pytorch/issues/40967 for more information\n",
            "  return disable_fn(*args, **kwargs)\n",
            "output_dir:  /content/gflownet/gflownet/logs/local/2025-03-28_19-19-12_236710/figures\n",
            "Metrics:\n",
            "\tl1: -1.0000\n",
            "\tkl: -1.0000\n",
            "\tjsd: -1.0000\n",
            "\tcorr_prob_traj_rewards: 0.0000\n",
            "\tvar_logrewards_logp: -1.0000\n",
            "\tnll_tt: 0.0000\n",
            "\tmean_logprobs_std: -1.0000\n",
            "\tmean_probs_std: -1.0000\n",
            "\tlogprobs_std_nll_ratio: -1.0000\n",
            "Sampling 1000 forward trajectories from GFlowNet in batches of 100\n",
            "100% 10/10 [00:00<00:00, 19.25it/s]\n",
            "Concatenating sample CSVs\n",
            "100% 10/10 [00:00<00:00, 682.56it/s]\n",
            "100% 10/10 [00:00<00:00, 9679.91it/s]\n",
            "Delete temporary files? (y/n)"
          ]
        }
      ],
      "source": [
        "!yes | python eval.py rundir=$rundir n_samples=1000 randominit=True"
      ]
    },
    {
      "cell_type": "markdown",
      "metadata": {
        "id": "VTHGaSWM0GF-"
      },
      "source": [
        "Lisez l'ensemble de données des échantillons générés aléatoirement et tracez la distribution des scores.\n"
      ]
    },
    {
      "cell_type": "code",
      "execution_count": null,
      "metadata": {
        "colab": {
          "base_uri": "https://localhost:8080/",
          "height": 424
        },
        "id": "4Ytwwku9E8zu",
        "outputId": "d77cee79-2b6c-4c84-dacb-b02b688831db"
      },
      "outputs": [
        {
          "data": {
            "application/vnd.google.colaboratory.intrinsic+json": {
              "summary": "{\n  \"name\": \"df_rnd\",\n  \"rows\": 1000,\n  \"fields\": [\n    {\n      \"column\": \"Unnamed: 0\",\n      \"properties\": {\n        \"dtype\": \"number\",\n        \"std\": 28,\n        \"min\": 0,\n        \"max\": 99,\n        \"num_unique_values\": 100,\n        \"samples\": [\n          83,\n          53,\n          70\n        ],\n        \"semantic_type\": \"\",\n        \"description\": \"\"\n      }\n    },\n    {\n      \"column\": \"readable\",\n      \"properties\": {\n        \"dtype\": \"string\",\n        \"num_unique_values\": 961,\n        \"samples\": [\n          \"S L J Q P P N\",\n          \"L M P A R B Z\",\n          \"W G T Q E F W\"\n        ],\n        \"semantic_type\": \"\",\n        \"description\": \"\"\n      }\n    },\n    {\n      \"column\": \"energies\",\n      \"properties\": {\n        \"dtype\": \"number\",\n        \"std\": 9.145216563099314,\n        \"min\": 0.0,\n        \"max\": 55.0,\n        \"num_unique_values\": 46,\n        \"samples\": [\n          42.0,\n          29.0,\n          30.0\n        ],\n        \"semantic_type\": \"\",\n        \"description\": \"\"\n      }\n    }\n  ]\n}",
              "type": "dataframe",
              "variable_name": "df_rnd"
            },
            "text/html": [
              "\n",
              "  <div id=\"df-79046820-5b6c-475c-94d8-2dab14ef0ef0\" class=\"colab-df-container\">\n",
              "    <div>\n",
              "<style scoped>\n",
              "    .dataframe tbody tr th:only-of-type {\n",
              "        vertical-align: middle;\n",
              "    }\n",
              "\n",
              "    .dataframe tbody tr th {\n",
              "        vertical-align: top;\n",
              "    }\n",
              "\n",
              "    .dataframe thead th {\n",
              "        text-align: right;\n",
              "    }\n",
              "</style>\n",
              "<table border=\"1\" class=\"dataframe\">\n",
              "  <thead>\n",
              "    <tr style=\"text-align: right;\">\n",
              "      <th></th>\n",
              "      <th>Unnamed: 0</th>\n",
              "      <th>readable</th>\n",
              "      <th>energies</th>\n",
              "    </tr>\n",
              "  </thead>\n",
              "  <tbody>\n",
              "    <tr>\n",
              "      <th>0</th>\n",
              "      <td>0</td>\n",
              "      <td>NaN</td>\n",
              "      <td>0.0</td>\n",
              "    </tr>\n",
              "    <tr>\n",
              "      <th>1</th>\n",
              "      <td>1</td>\n",
              "      <td>NaN</td>\n",
              "      <td>0.0</td>\n",
              "    </tr>\n",
              "    <tr>\n",
              "      <th>2</th>\n",
              "      <td>2</td>\n",
              "      <td>NaN</td>\n",
              "      <td>0.0</td>\n",
              "    </tr>\n",
              "    <tr>\n",
              "      <th>3</th>\n",
              "      <td>3</td>\n",
              "      <td>G</td>\n",
              "      <td>2.0</td>\n",
              "    </tr>\n",
              "    <tr>\n",
              "      <th>4</th>\n",
              "      <td>4</td>\n",
              "      <td>G</td>\n",
              "      <td>2.0</td>\n",
              "    </tr>\n",
              "    <tr>\n",
              "      <th>...</th>\n",
              "      <td>...</td>\n",
              "      <td>...</td>\n",
              "      <td>...</td>\n",
              "    </tr>\n",
              "    <tr>\n",
              "      <th>995</th>\n",
              "      <td>95</td>\n",
              "      <td>D D N W A G M</td>\n",
              "      <td>15.0</td>\n",
              "    </tr>\n",
              "    <tr>\n",
              "      <th>996</th>\n",
              "      <td>96</td>\n",
              "      <td>Z Z W Q G C T</td>\n",
              "      <td>40.0</td>\n",
              "    </tr>\n",
              "    <tr>\n",
              "      <th>997</th>\n",
              "      <td>97</td>\n",
              "      <td>M V Y V N C H</td>\n",
              "      <td>23.0</td>\n",
              "    </tr>\n",
              "    <tr>\n",
              "      <th>998</th>\n",
              "      <td>98</td>\n",
              "      <td>W S U P V K V</td>\n",
              "      <td>22.0</td>\n",
              "    </tr>\n",
              "    <tr>\n",
              "      <th>999</th>\n",
              "      <td>99</td>\n",
              "      <td>U P J F W B L</td>\n",
              "      <td>24.0</td>\n",
              "    </tr>\n",
              "  </tbody>\n",
              "</table>\n",
              "<p>1000 rows × 3 columns</p>\n",
              "</div>\n",
              "    <div class=\"colab-df-buttons\">\n",
              "\n",
              "  <div class=\"colab-df-container\">\n",
              "    <button class=\"colab-df-convert\" onclick=\"convertToInteractive('df-79046820-5b6c-475c-94d8-2dab14ef0ef0')\"\n",
              "            title=\"Convert this dataframe to an interactive table.\"\n",
              "            style=\"display:none;\">\n",
              "\n",
              "  <svg xmlns=\"http://www.w3.org/2000/svg\" height=\"24px\" viewBox=\"0 -960 960 960\">\n",
              "    <path d=\"M120-120v-720h720v720H120Zm60-500h600v-160H180v160Zm220 220h160v-160H400v160Zm0 220h160v-160H400v160ZM180-400h160v-160H180v160Zm440 0h160v-160H620v160ZM180-180h160v-160H180v160Zm440 0h160v-160H620v160Z\"/>\n",
              "  </svg>\n",
              "    </button>\n",
              "\n",
              "  <style>\n",
              "    .colab-df-container {\n",
              "      display:flex;\n",
              "      gap: 12px;\n",
              "    }\n",
              "\n",
              "    .colab-df-convert {\n",
              "      background-color: #E8F0FE;\n",
              "      border: none;\n",
              "      border-radius: 50%;\n",
              "      cursor: pointer;\n",
              "      display: none;\n",
              "      fill: #1967D2;\n",
              "      height: 32px;\n",
              "      padding: 0 0 0 0;\n",
              "      width: 32px;\n",
              "    }\n",
              "\n",
              "    .colab-df-convert:hover {\n",
              "      background-color: #E2EBFA;\n",
              "      box-shadow: 0px 1px 2px rgba(60, 64, 67, 0.3), 0px 1px 3px 1px rgba(60, 64, 67, 0.15);\n",
              "      fill: #174EA6;\n",
              "    }\n",
              "\n",
              "    .colab-df-buttons div {\n",
              "      margin-bottom: 4px;\n",
              "    }\n",
              "\n",
              "    [theme=dark] .colab-df-convert {\n",
              "      background-color: #3B4455;\n",
              "      fill: #D2E3FC;\n",
              "    }\n",
              "\n",
              "    [theme=dark] .colab-df-convert:hover {\n",
              "      background-color: #434B5C;\n",
              "      box-shadow: 0px 1px 3px 1px rgba(0, 0, 0, 0.15);\n",
              "      filter: drop-shadow(0px 1px 2px rgba(0, 0, 0, 0.3));\n",
              "      fill: #FFFFFF;\n",
              "    }\n",
              "  </style>\n",
              "\n",
              "    <script>\n",
              "      const buttonEl =\n",
              "        document.querySelector('#df-79046820-5b6c-475c-94d8-2dab14ef0ef0 button.colab-df-convert');\n",
              "      buttonEl.style.display =\n",
              "        google.colab.kernel.accessAllowed ? 'block' : 'none';\n",
              "\n",
              "      async function convertToInteractive(key) {\n",
              "        const element = document.querySelector('#df-79046820-5b6c-475c-94d8-2dab14ef0ef0');\n",
              "        const dataTable =\n",
              "          await google.colab.kernel.invokeFunction('convertToInteractive',\n",
              "                                                    [key], {});\n",
              "        if (!dataTable) return;\n",
              "\n",
              "        const docLinkHtml = 'Like what you see? Visit the ' +\n",
              "          '<a target=\"_blank\" href=https://colab.research.google.com/notebooks/data_table.ipynb>data table notebook</a>'\n",
              "          + ' to learn more about interactive tables.';\n",
              "        element.innerHTML = '';\n",
              "        dataTable['output_type'] = 'display_data';\n",
              "        await google.colab.output.renderOutput(dataTable, element);\n",
              "        const docLink = document.createElement('div');\n",
              "        docLink.innerHTML = docLinkHtml;\n",
              "        element.appendChild(docLink);\n",
              "      }\n",
              "    </script>\n",
              "  </div>\n",
              "\n",
              "\n",
              "<div id=\"df-90ce5f53-35cc-4eb7-babd-0c1f938a8890\">\n",
              "  <button class=\"colab-df-quickchart\" onclick=\"quickchart('df-90ce5f53-35cc-4eb7-babd-0c1f938a8890')\"\n",
              "            title=\"Suggest charts\"\n",
              "            style=\"display:none;\">\n",
              "\n",
              "<svg xmlns=\"http://www.w3.org/2000/svg\" height=\"24px\"viewBox=\"0 0 24 24\"\n",
              "     width=\"24px\">\n",
              "    <g>\n",
              "        <path d=\"M19 3H5c-1.1 0-2 .9-2 2v14c0 1.1.9 2 2 2h14c1.1 0 2-.9 2-2V5c0-1.1-.9-2-2-2zM9 17H7v-7h2v7zm4 0h-2V7h2v10zm4 0h-2v-4h2v4z\"/>\n",
              "    </g>\n",
              "</svg>\n",
              "  </button>\n",
              "\n",
              "<style>\n",
              "  .colab-df-quickchart {\n",
              "      --bg-color: #E8F0FE;\n",
              "      --fill-color: #1967D2;\n",
              "      --hover-bg-color: #E2EBFA;\n",
              "      --hover-fill-color: #174EA6;\n",
              "      --disabled-fill-color: #AAA;\n",
              "      --disabled-bg-color: #DDD;\n",
              "  }\n",
              "\n",
              "  [theme=dark] .colab-df-quickchart {\n",
              "      --bg-color: #3B4455;\n",
              "      --fill-color: #D2E3FC;\n",
              "      --hover-bg-color: #434B5C;\n",
              "      --hover-fill-color: #FFFFFF;\n",
              "      --disabled-bg-color: #3B4455;\n",
              "      --disabled-fill-color: #666;\n",
              "  }\n",
              "\n",
              "  .colab-df-quickchart {\n",
              "    background-color: var(--bg-color);\n",
              "    border: none;\n",
              "    border-radius: 50%;\n",
              "    cursor: pointer;\n",
              "    display: none;\n",
              "    fill: var(--fill-color);\n",
              "    height: 32px;\n",
              "    padding: 0;\n",
              "    width: 32px;\n",
              "  }\n",
              "\n",
              "  .colab-df-quickchart:hover {\n",
              "    background-color: var(--hover-bg-color);\n",
              "    box-shadow: 0 1px 2px rgba(60, 64, 67, 0.3), 0 1px 3px 1px rgba(60, 64, 67, 0.15);\n",
              "    fill: var(--button-hover-fill-color);\n",
              "  }\n",
              "\n",
              "  .colab-df-quickchart-complete:disabled,\n",
              "  .colab-df-quickchart-complete:disabled:hover {\n",
              "    background-color: var(--disabled-bg-color);\n",
              "    fill: var(--disabled-fill-color);\n",
              "    box-shadow: none;\n",
              "  }\n",
              "\n",
              "  .colab-df-spinner {\n",
              "    border: 2px solid var(--fill-color);\n",
              "    border-color: transparent;\n",
              "    border-bottom-color: var(--fill-color);\n",
              "    animation:\n",
              "      spin 1s steps(1) infinite;\n",
              "  }\n",
              "\n",
              "  @keyframes spin {\n",
              "    0% {\n",
              "      border-color: transparent;\n",
              "      border-bottom-color: var(--fill-color);\n",
              "      border-left-color: var(--fill-color);\n",
              "    }\n",
              "    20% {\n",
              "      border-color: transparent;\n",
              "      border-left-color: var(--fill-color);\n",
              "      border-top-color: var(--fill-color);\n",
              "    }\n",
              "    30% {\n",
              "      border-color: transparent;\n",
              "      border-left-color: var(--fill-color);\n",
              "      border-top-color: var(--fill-color);\n",
              "      border-right-color: var(--fill-color);\n",
              "    }\n",
              "    40% {\n",
              "      border-color: transparent;\n",
              "      border-right-color: var(--fill-color);\n",
              "      border-top-color: var(--fill-color);\n",
              "    }\n",
              "    60% {\n",
              "      border-color: transparent;\n",
              "      border-right-color: var(--fill-color);\n",
              "    }\n",
              "    80% {\n",
              "      border-color: transparent;\n",
              "      border-right-color: var(--fill-color);\n",
              "      border-bottom-color: var(--fill-color);\n",
              "    }\n",
              "    90% {\n",
              "      border-color: transparent;\n",
              "      border-bottom-color: var(--fill-color);\n",
              "    }\n",
              "  }\n",
              "</style>\n",
              "\n",
              "  <script>\n",
              "    async function quickchart(key) {\n",
              "      const quickchartButtonEl =\n",
              "        document.querySelector('#' + key + ' button');\n",
              "      quickchartButtonEl.disabled = true;  // To prevent multiple clicks.\n",
              "      quickchartButtonEl.classList.add('colab-df-spinner');\n",
              "      try {\n",
              "        const charts = await google.colab.kernel.invokeFunction(\n",
              "            'suggestCharts', [key], {});\n",
              "      } catch (error) {\n",
              "        console.error('Error during call to suggestCharts:', error);\n",
              "      }\n",
              "      quickchartButtonEl.classList.remove('colab-df-spinner');\n",
              "      quickchartButtonEl.classList.add('colab-df-quickchart-complete');\n",
              "    }\n",
              "    (() => {\n",
              "      let quickchartButtonEl =\n",
              "        document.querySelector('#df-90ce5f53-35cc-4eb7-babd-0c1f938a8890 button');\n",
              "      quickchartButtonEl.style.display =\n",
              "        google.colab.kernel.accessAllowed ? 'block' : 'none';\n",
              "    })();\n",
              "  </script>\n",
              "</div>\n",
              "\n",
              "  <div id=\"id_a4e0569a-ec51-4914-9567-26684514aab1\">\n",
              "    <style>\n",
              "      .colab-df-generate {\n",
              "        background-color: #E8F0FE;\n",
              "        border: none;\n",
              "        border-radius: 50%;\n",
              "        cursor: pointer;\n",
              "        display: none;\n",
              "        fill: #1967D2;\n",
              "        height: 32px;\n",
              "        padding: 0 0 0 0;\n",
              "        width: 32px;\n",
              "      }\n",
              "\n",
              "      .colab-df-generate:hover {\n",
              "        background-color: #E2EBFA;\n",
              "        box-shadow: 0px 1px 2px rgba(60, 64, 67, 0.3), 0px 1px 3px 1px rgba(60, 64, 67, 0.15);\n",
              "        fill: #174EA6;\n",
              "      }\n",
              "\n",
              "      [theme=dark] .colab-df-generate {\n",
              "        background-color: #3B4455;\n",
              "        fill: #D2E3FC;\n",
              "      }\n",
              "\n",
              "      [theme=dark] .colab-df-generate:hover {\n",
              "        background-color: #434B5C;\n",
              "        box-shadow: 0px 1px 3px 1px rgba(0, 0, 0, 0.15);\n",
              "        filter: drop-shadow(0px 1px 2px rgba(0, 0, 0, 0.3));\n",
              "        fill: #FFFFFF;\n",
              "      }\n",
              "    </style>\n",
              "    <button class=\"colab-df-generate\" onclick=\"generateWithVariable('df_rnd')\"\n",
              "            title=\"Generate code using this dataframe.\"\n",
              "            style=\"display:none;\">\n",
              "\n",
              "  <svg xmlns=\"http://www.w3.org/2000/svg\" height=\"24px\"viewBox=\"0 0 24 24\"\n",
              "       width=\"24px\">\n",
              "    <path d=\"M7,19H8.4L18.45,9,17,7.55,7,17.6ZM5,21V16.75L18.45,3.32a2,2,0,0,1,2.83,0l1.4,1.43a1.91,1.91,0,0,1,.58,1.4,1.91,1.91,0,0,1-.58,1.4L9.25,21ZM18.45,9,17,7.55Zm-12,3A5.31,5.31,0,0,0,4.9,8.1,5.31,5.31,0,0,0,1,6.5,5.31,5.31,0,0,0,4.9,4.9,5.31,5.31,0,0,0,6.5,1,5.31,5.31,0,0,0,8.1,4.9,5.31,5.31,0,0,0,12,6.5,5.46,5.46,0,0,0,6.5,12Z\"/>\n",
              "  </svg>\n",
              "    </button>\n",
              "    <script>\n",
              "      (() => {\n",
              "      const buttonEl =\n",
              "        document.querySelector('#id_a4e0569a-ec51-4914-9567-26684514aab1 button.colab-df-generate');\n",
              "      buttonEl.style.display =\n",
              "        google.colab.kernel.accessAllowed ? 'block' : 'none';\n",
              "\n",
              "      buttonEl.onclick = () => {\n",
              "        google.colab.notebook.generateWithVariable('df_rnd');\n",
              "      }\n",
              "      })();\n",
              "    </script>\n",
              "  </div>\n",
              "\n",
              "    </div>\n",
              "  </div>\n"
            ],
            "text/plain": [
              "     Unnamed: 0       readable  energies\n",
              "0             0            NaN       0.0\n",
              "1             1            NaN       0.0\n",
              "2             2            NaN       0.0\n",
              "3             3              G       2.0\n",
              "4             4              G       2.0\n",
              "..          ...            ...       ...\n",
              "995          95  D D N W A G M      15.0\n",
              "996          96  Z Z W Q G C T      40.0\n",
              "997          97  M V Y V N C H      23.0\n",
              "998          98  W S U P V K V      22.0\n",
              "999          99  U P J F W B L      24.0\n",
              "\n",
              "[1000 rows x 3 columns]"
            ]
          },
          "execution_count": 89,
          "metadata": {},
          "output_type": "execute_result"
        }
      ],
      "source": [
        "df_rnd = pd.read_csv(f\"{rundir}/eval/samples/randominit_samples.csv\")\n",
        "df_rnd"
      ]
    },
    {
      "cell_type": "code",
      "execution_count": null,
      "metadata": {
        "colab": {
          "base_uri": "https://localhost:8080/",
          "height": 524
        },
        "id": "XRh2Y2eWFDEh",
        "outputId": "b75aac05-99cb-4d88-e708-a578aa6815bf"
      },
      "outputs": [
        {
          "data": {
            "text/plain": [
              "<seaborn.axisgrid.FacetGrid at 0x7aaba0a12710>"
            ]
          },
          "execution_count": 90,
          "metadata": {},
          "output_type": "execute_result"
        },
        {
          "data": {
            "image/png": "[encoded data removed]",
            "text/plain": [
              "<Figure size 500x500 with 1 Axes>"
            ]
          },
          "metadata": {},
          "output_type": "display_data"
        }
      ],
      "source": [
        "sns.displot(data=df_rnd, x=\"energies\", kde=True)"
      ]
    },
    {
      "cell_type": "markdown",
      "metadata": {
        "id": "zVPRO40B0NdT"
      },
      "source": [
        "Pour comparer les distributions, fusionnons les deux DataFrames et traçons les distributions conjointement."
      ]
    },
    {
      "cell_type": "code",
      "execution_count": null,
      "metadata": {
        "id": "eC3zSqnmFN14"
      },
      "outputs": [],
      "source": [
        "df[\"source\"] = \"GFN\"\n",
        "df_rnd[\"source\"] = \"Random\"\n",
        "df = pd.concat([df, df_rnd])"
      ]
    },
    {
      "cell_type": "code",
      "execution_count": null,
      "metadata": {
        "colab": {
          "base_uri": "https://localhost:8080/",
          "height": 524
        },
        "id": "AcyUM4ZgFTct",
        "outputId": "e32182df-81d3-480d-acf1-df4310baab15"
      },
      "outputs": [
        {
          "data": {
            "text/plain": [
              "<seaborn.axisgrid.FacetGrid at 0x7aaba3c48110>"
            ]
          },
          "execution_count": 92,
          "metadata": {},
          "output_type": "execute_result"
        },
        {
          "data": {
            "image/png": "[encoded data removed]",
            "text/plain": [
              "<Figure size 607.625x500 with 1 Axes>"
            ]
          },
          "metadata": {},
          "output_type": "display_data"
        }
      ],
      "source": [
        "sns.displot(data=df, x=\"energies\", hue=\"source\", kde=True)"
      ]
    },
    {
      "cell_type": "markdown",
      "metadata": {
        "id": "cs96hI1W0UQJ"
      },
      "source": [
        "Nous observons que, malgré un temps d'entraînement court, les GFlowNets ont commencé à apprendre à échantillonner des séquences Scrabble de lettres avec des récompenses plus élevées que lors de l'initialisation aléatoire."
      ]
    },
    {
      "cell_type": "markdown",
      "metadata": {
        "id": "L3SZI17R1wLd"
      },
      "source": [
        "## Crystal-GFN\n",
        "\n",
        "À des fins d'illustration, nous allons entraîner un Crystal-GFN avec une récompense synthétique et un espace d'échantillonnage limité, restreint à :\n",
        "- Les groupes spatiaux 225 et 229\n",
        "- Les éléments Pd (46) et Pt (78)\n",
        "- Une longueur cubique `a` allant de 2,0 à 4,0 angströms.\n",
        "\n",
        "Cela limite les composés possibles à Pd2, Pt2, Pd4 et Pt4.\n"
      ]
    },
    {
      "cell_type": "code",
      "execution_count": null,
      "metadata": {
        "id": "gTH7eGoH1vQp"
      },
      "outputs": [],
      "source": [
        "from gflownet.utils.logger import Logger\n",
        "from gflownet.envs.crystals.crystal import Crystal\n",
        "from gflownet.buffer.base import BaseBuffer\n",
        "from gflownet.evaluator.base import BaseEvaluator\n",
        "from gflownet.gflownet import GFlowNetAgent\n",
        "from gflownet.proxy.crystals.corners import CrystalCorners\n",
        "from gflownet.policy.base import Policy\n",
        "\n",
        "from functools import partial\n",
        "from omegaconf import OmegaConf\n",
        "from pathlib import Path"
      ]
    },
    {
      "cell_type": "markdown",
      "metadata": {
        "id": "-xV7ANhl271e"
      },
      "source": [
        "La cellule ci-dessous initialise tous les composants nécessaires pour entraîner un Crystal-GFN avec la configuration décrite ci-dessus."
      ]
    },
    {
      "cell_type": "code",
      "execution_count": null,
      "metadata": {
        "colab": {
          "base_uri": "https://localhost:8080/"
        },
        "id": "6LpZedtR49Yu",
        "outputId": "35b6e1d6-b351-4543-9697-0b926e24a74d"
      },
      "outputs": [
        {
          "name": "stdout",
          "output_type": "stream",
          "text": [
            "\tImportant: offline trajectories will NOT be sampled. In order to  sample offline trajectories, the train configuration of the buffer  should be provided.\n",
            "\n",
            "Constructing data set from CSV: ./data/crystals/gull.csv\n",
            "\n",
            "The data set containts 156 samples\n",
            "Test data\n",
            "\tMean score: 1.1672104774831193\n",
            "\tStd score: 1.2612877233818416\n",
            "\tMin score: 0.0002174416440539062\n",
            "\tMax score: 3.703606128692627\n"
          ]
        }
      ],
      "source": [
        "# Environnement\n",
        "env = Crystal(\n",
        "    do_composition_to_sg_constraints=False,\n",
        "    do_sg_to_composition_constraints=True,\n",
        "    do_sg_to_lp_constraints=True,\n",
        "    do_sg_before_composition=True,\n",
        "    composition_kwargs={\n",
        "      \"elements\": [78, 46],\n",
        "      \"max_diff_elem\": 1,\n",
        "      \"min_diff_elem\": 1,\n",
        "      \"min_atoms\": 2,\n",
        "      \"max_atoms\": 4,\n",
        "      \"min_atom_i\": 2,\n",
        "      \"max_atom_i\": 4,\n",
        "      \"do_charge_check\": False,\n",
        "    },\n",
        "    space_group_kwargs={\n",
        "      \"space_groups_subset\": [229, 225],\n",
        "      \"policy_fmt\": \"onehot\",\n",
        "    },\n",
        "    lattice_parameters_kwargs={\n",
        "      \"min_length\": 2.0,\n",
        "      \"max_length\": 4.0,\n",
        "      \"min_angle\": 60.0,\n",
        "      \"max_angle\": 140.0 ,\n",
        "    },\n",
        ")\n",
        "\n",
        "# Proxy\n",
        "proxy = CrystalCorners(\n",
        "    config=[\n",
        "       {\n",
        "         \"spacegroup\": 225,\n",
        "         \"mu\": 0.85,\n",
        "         \"sigma\": 0.05,\n",
        "       },\n",
        "       {\n",
        "         \"spacegroup\": 229,\n",
        "         \"mu\": 0.65,\n",
        "         \"sigma\": 0.05,\n",
        "       },\n",
        "       {\n",
        "         \"element\": 46,\n",
        "         \"mu\": 0.75,\n",
        "         \"sigma\": 0.2,\n",
        "       },\n",
        "       {\n",
        "         \"element\": 78,\n",
        "         \"mu\": 0.75,\n",
        "         \"sigma\": 0.1,\n",
        "       },\n",
        "    ],\n",
        "    device=\"cpu\",\n",
        "    float_precision=32,\n",
        ")\n",
        "\n",
        "# Politique\n",
        "policy_forward = Policy(\n",
        "    env=env,\n",
        "    config=OmegaConf.create({\"type\": \"mlp\", \"n_layers\": 2, \"n_hid\": 128}),\n",
        "    device=\"cpu\",\n",
        "    float_precision=32,\n",
        ")\n",
        "policy_backward = Policy(\n",
        "    env=env,\n",
        "    config=OmegaConf.create({\"type\": \"mlp\", \"n_layers\": 2, \"n_hid\": 128}),\n",
        "    device=\"cpu\",\n",
        "    float_precision=32,\n",
        ")\n",
        "\n",
        "# Tampon (Buffer)\n",
        "buffer = BaseBuffer(\n",
        "    env=env,\n",
        "    proxy=proxy,\n",
        "    test=OmegaConf.create({\n",
        "      \"type\": \"csv\",\n",
        "      \"path\": \"./data/crystals/gull.csv\",\n",
        "    }),\n",
        "    datadir=Path(\"./data/\"),\n",
        ")\n",
        "\n",
        "# Journalisation (Logger)\n",
        "logger = Logger(\n",
        "   config=None,\n",
        "   do=OmegaConf.create({\"online\": False, \"times\": False }),\n",
        "   logdir=OmegaConf.create({\"root\": \"./logs\", \"ckpts\": \"./ckpts\", \"overwrite\": True}),\n",
        "   project_name=\"aiformaterials\",\n",
        "   lightweight=False,\n",
        "   debug=False,\n",
        ")\n",
        "\n",
        "# Évaluateur\n",
        "evaluator = BaseEvaluator(\n",
        "    first_it=False,\n",
        "    period=-1,\n",
        "    metrics=\"all\",\n",
        "    top_k=100,\n",
        "    top_k_period=-1,\n",
        "    n_trajs_logprobs=10,\n",
        "    logprobs_batch_size=100,\n",
        "    logprobs_bootstrap_size=10000,\n",
        "    train_log_period=1,\n",
        "    checkpoints_period=500,\n",
        ")\n",
        "\n",
        "# Agent GFlowNet\n",
        "gflownet = GFlowNetAgent(\n",
        "    env_maker=partial(env.copy),\n",
        "    proxy=proxy,\n",
        "    forward_policy=policy_forward,\n",
        "    backward_policy=policy_backward,\n",
        "    buffer=buffer,\n",
        "    logger=logger,\n",
        "    evaluator=evaluator,\n",
        "    seed=0,\n",
        "    optimizer=OmegaConf.create(\n",
        "        {\n",
        "            \"loss\": \"trajectorybalance\",\n",
        "            \"lr\": 0.0001,\n",
        "            \"method\": \"adam\",\n",
        "            \"n_train_steps\": 1000,\n",
        "            \"batch_size\": {\n",
        "                \"forward\": 10,\n",
        "                \"backward_dataset\": 0,\n",
        "                \"backward_replay\": 0,\n",
        "            },\n",
        "            \"z_dim\": 16,\n",
        "            \"lr_z_mult\": 10,\n",
        "            \"lr_decay_period\": 1e9,\n",
        "            \"lr_decay_gamma\": 0.5,\n",
        "            \"adam_beta1\": 0.9,\n",
        "            \"adam_beta2\": 0.999,\n",
        "            \"sgd_momentum\": 0.9,\n",
        "            \"train_to_sample_ratio\": 1,\n",
        "            \"clip_grad_norm\": 0.0,\n",
        "            \"bootstrap_tau\": 0.0,\n",
        "            \"ema_alpha\": 0.5,\n",
        "            \"early_stopping\": 0.0,\n",
        "        }),\n",
        "    mask_invalid_actions=True,\n",
        "    temperature_logits=1.0,\n",
        "    random_action_prob=0.0,\n",
        "    device=\"cpu\",\n",
        "    float_precision=32,\n",
        ")"
      ]
    },
    {
      "cell_type": "markdown",
      "metadata": {
        "id": "L9a9HJve5FHM"
      },
      "source": [
        "### Explorer le proxy synthétique (fonction de récompenses)"
      ]
    },
    {
      "cell_type": "code",
      "execution_count": null,
      "metadata": {
        "id": "eZqnSjwj5VM-"
      },
      "outputs": [],
      "source": [
        "# Constantes\n",
        "an2el = {46: \"Pd\", 78: \"Pt\"}\n",
        "hue_order = [\"Pd4\", \"Pd2\", \"Pt4\", \"Pt2\"]"
      ]
    },
    {
      "cell_type": "markdown",
      "metadata": {
        "id": "GYDxd3p4592m"
      },
      "source": [
        "Lisez un ensemble de données d'échantillons et leurs scores pour tracer la distribution des scores du proxy synthétique."
      ]
    },
    {
      "cell_type": "code",
      "execution_count": null,
      "metadata": {
        "colab": {
          "base_uri": "https://localhost:8080/",
          "height": 424
        },
        "id": "SoEDmXL75dis",
        "outputId": "4fd8f080-cf45-4c53-95f4-7dd7ad3cb420"
      },
      "outputs": [
        {
          "data": {
            "application/vnd.google.colaboratory.intrinsic+json": {
              "summary": "{\n  \"name\": \"df_test\",\n  \"rows\": 156,\n  \"fields\": [\n    {\n      \"column\": \"Unnamed: 0\",\n      \"properties\": {\n        \"dtype\": \"number\",\n        \"std\": 0,\n        \"min\": 1,\n        \"max\": 1,\n        \"num_unique_values\": 1,\n        \"samples\": [\n          1\n        ],\n        \"semantic_type\": \"\",\n        \"description\": \"\"\n      }\n    },\n    {\n      \"column\": \"Formulae\",\n      \"properties\": {\n        \"dtype\": \"category\",\n        \"num_unique_values\": 4,\n        \"samples\": [\n          \"Pt2\"\n        ],\n        \"semantic_type\": \"\",\n        \"description\": \"\"\n      }\n    },\n    {\n      \"column\": \"Space Group\",\n      \"properties\": {\n        \"dtype\": \"number\",\n        \"std\": 2,\n        \"min\": 225,\n        \"max\": 229,\n        \"num_unique_values\": 2,\n        \"samples\": [\n          229\n        ],\n        \"semantic_type\": \"\",\n        \"description\": \"\"\n      }\n    },\n    {\n      \"column\": \"a\",\n      \"properties\": {\n        \"dtype\": \"number\",\n        \"std\": 0.5645437781247393,\n        \"min\": 2.05,\n        \"max\": 3.95,\n        \"num_unique_values\": 39,\n        \"samples\": [\n          3.7\n        ],\n        \"semantic_type\": \"\",\n        \"description\": \"\"\n      }\n    },\n    {\n      \"column\": \"b\",\n      \"properties\": {\n        \"dtype\": \"number\",\n        \"std\": 0.5645437781247393,\n        \"min\": 2.05,\n        \"max\": 3.95,\n        \"num_unique_values\": 39,\n        \"samples\": [\n          3.7\n        ],\n        \"semantic_type\": \"\",\n        \"description\": \"\"\n      }\n    },\n    {\n      \"column\": \"c\",\n      \"properties\": {\n        \"dtype\": \"number\",\n        \"std\": 0.5645437781247393,\n        \"min\": 2.05,\n        \"max\": 3.95,\n        \"num_unique_values\": 39,\n        \"samples\": [\n          3.7\n        ],\n        \"semantic_type\": \"\",\n        \"description\": \"\"\n      }\n    },\n    {\n      \"column\": \"alpha\",\n      \"properties\": {\n        \"dtype\": \"number\",\n        \"std\": 0.0,\n        \"min\": 90.0,\n        \"max\": 90.0,\n        \"num_unique_values\": 1,\n        \"samples\": [\n          90.0\n        ],\n        \"semantic_type\": \"\",\n        \"description\": \"\"\n      }\n    },\n    {\n      \"column\": \"beta\",\n      \"properties\": {\n        \"dtype\": \"number\",\n        \"std\": 0.0,\n        \"min\": 90.0,\n        \"max\": 90.0,\n        \"num_unique_values\": 1,\n        \"samples\": [\n          90.0\n        ],\n        \"semantic_type\": \"\",\n        \"description\": \"\"\n      }\n    },\n    {\n      \"column\": \"gamma\",\n      \"properties\": {\n        \"dtype\": \"number\",\n        \"std\": 0.0,\n        \"min\": 90.0,\n        \"max\": 90.0,\n        \"num_unique_values\": 1,\n        \"samples\": [\n          90.0\n        ],\n        \"semantic_type\": \"\",\n        \"description\": \"\"\n      }\n    }\n  ]\n}",
              "type": "dataframe",
              "variable_name": "df_test"
            },
            "text/html": [
              "\n",
              "  <div id=\"df-9e543a4c-080a-4468-9142-eb745f322d7f\" class=\"colab-df-container\">\n",
              "    <div>\n",
              "<style scoped>\n",
              "    .dataframe tbody tr th:only-of-type {\n",
              "        vertical-align: middle;\n",
              "    }\n",
              "\n",
              "    .dataframe tbody tr th {\n",
              "        vertical-align: top;\n",
              "    }\n",
              "\n",
              "    .dataframe thead th {\n",
              "        text-align: right;\n",
              "    }\n",
              "</style>\n",
              "<table border=\"1\" class=\"dataframe\">\n",
              "  <thead>\n",
              "    <tr style=\"text-align: right;\">\n",
              "      <th></th>\n",
              "      <th>Unnamed: 0</th>\n",
              "      <th>Formulae</th>\n",
              "      <th>Space Group</th>\n",
              "      <th>a</th>\n",
              "      <th>b</th>\n",
              "      <th>c</th>\n",
              "      <th>alpha</th>\n",
              "      <th>beta</th>\n",
              "      <th>gamma</th>\n",
              "    </tr>\n",
              "  </thead>\n",
              "  <tbody>\n",
              "    <tr>\n",
              "      <th>0</th>\n",
              "      <td>1</td>\n",
              "      <td>Pt4</td>\n",
              "      <td>225</td>\n",
              "      <td>2.05</td>\n",
              "      <td>2.05</td>\n",
              "      <td>2.05</td>\n",
              "      <td>90.0</td>\n",
              "      <td>90.0</td>\n",
              "      <td>90.0</td>\n",
              "    </tr>\n",
              "    <tr>\n",
              "      <th>1</th>\n",
              "      <td>1</td>\n",
              "      <td>Pt4</td>\n",
              "      <td>225</td>\n",
              "      <td>2.10</td>\n",
              "      <td>2.10</td>\n",
              "      <td>2.10</td>\n",
              "      <td>90.0</td>\n",
              "      <td>90.0</td>\n",
              "      <td>90.0</td>\n",
              "    </tr>\n",
              "    <tr>\n",
              "      <th>2</th>\n",
              "      <td>1</td>\n",
              "      <td>Pt4</td>\n",
              "      <td>225</td>\n",
              "      <td>2.15</td>\n",
              "      <td>2.15</td>\n",
              "      <td>2.15</td>\n",
              "      <td>90.0</td>\n",
              "      <td>90.0</td>\n",
              "      <td>90.0</td>\n",
              "    </tr>\n",
              "    <tr>\n",
              "      <th>3</th>\n",
              "      <td>1</td>\n",
              "      <td>Pt4</td>\n",
              "      <td>225</td>\n",
              "      <td>2.20</td>\n",
              "      <td>2.20</td>\n",
              "      <td>2.20</td>\n",
              "      <td>90.0</td>\n",
              "      <td>90.0</td>\n",
              "      <td>90.0</td>\n",
              "    </tr>\n",
              "    <tr>\n",
              "      <th>4</th>\n",
              "      <td>1</td>\n",
              "      <td>Pt4</td>\n",
              "      <td>225</td>\n",
              "      <td>2.25</td>\n",
              "      <td>2.25</td>\n",
              "      <td>2.25</td>\n",
              "      <td>90.0</td>\n",
              "      <td>90.0</td>\n",
              "      <td>90.0</td>\n",
              "    </tr>\n",
              "    <tr>\n",
              "      <th>...</th>\n",
              "      <td>...</td>\n",
              "      <td>...</td>\n",
              "      <td>...</td>\n",
              "      <td>...</td>\n",
              "      <td>...</td>\n",
              "      <td>...</td>\n",
              "      <td>...</td>\n",
              "      <td>...</td>\n",
              "      <td>...</td>\n",
              "    </tr>\n",
              "    <tr>\n",
              "      <th>151</th>\n",
              "      <td>1</td>\n",
              "      <td>Pd2</td>\n",
              "      <td>229</td>\n",
              "      <td>3.75</td>\n",
              "      <td>3.75</td>\n",
              "      <td>3.75</td>\n",
              "      <td>90.0</td>\n",
              "      <td>90.0</td>\n",
              "      <td>90.0</td>\n",
              "    </tr>\n",
              "    <tr>\n",
              "      <th>152</th>\n",
              "      <td>1</td>\n",
              "      <td>Pd2</td>\n",
              "      <td>229</td>\n",
              "      <td>3.80</td>\n",
              "      <td>3.80</td>\n",
              "      <td>3.80</td>\n",
              "      <td>90.0</td>\n",
              "      <td>90.0</td>\n",
              "      <td>90.0</td>\n",
              "    </tr>\n",
              "    <tr>\n",
              "      <th>153</th>\n",
              "      <td>1</td>\n",
              "      <td>Pd2</td>\n",
              "      <td>229</td>\n",
              "      <td>3.85</td>\n",
              "      <td>3.85</td>\n",
              "      <td>3.85</td>\n",
              "      <td>90.0</td>\n",
              "      <td>90.0</td>\n",
              "      <td>90.0</td>\n",
              "    </tr>\n",
              "    <tr>\n",
              "      <th>154</th>\n",
              "      <td>1</td>\n",
              "      <td>Pd2</td>\n",
              "      <td>229</td>\n",
              "      <td>3.90</td>\n",
              "      <td>3.90</td>\n",
              "      <td>3.90</td>\n",
              "      <td>90.0</td>\n",
              "      <td>90.0</td>\n",
              "      <td>90.0</td>\n",
              "    </tr>\n",
              "    <tr>\n",
              "      <th>155</th>\n",
              "      <td>1</td>\n",
              "      <td>Pd2</td>\n",
              "      <td>229</td>\n",
              "      <td>3.95</td>\n",
              "      <td>3.95</td>\n",
              "      <td>3.95</td>\n",
              "      <td>90.0</td>\n",
              "      <td>90.0</td>\n",
              "      <td>90.0</td>\n",
              "    </tr>\n",
              "  </tbody>\n",
              "</table>\n",
              "<p>156 rows × 9 columns</p>\n",
              "</div>\n",
              "    <div class=\"colab-df-buttons\">\n",
              "\n",
              "  <div class=\"colab-df-container\">\n",
              "    <button class=\"colab-df-convert\" onclick=\"convertToInteractive('df-9e543a4c-080a-4468-9142-eb745f322d7f')\"\n",
              "            title=\"Convert this dataframe to an interactive table.\"\n",
              "            style=\"display:none;\">\n",
              "\n",
              "  <svg xmlns=\"http://www.w3.org/2000/svg\" height=\"24px\" viewBox=\"0 -960 960 960\">\n",
              "    <path d=\"M120-120v-720h720v720H120Zm60-500h600v-160H180v160Zm220 220h160v-160H400v160Zm0 220h160v-160H400v160ZM180-400h160v-160H180v160Zm440 0h160v-160H620v160ZM180-180h160v-160H180v160Zm440 0h160v-160H620v160Z\"/>\n",
              "  </svg>\n",
              "    </button>\n",
              "\n",
              "  <style>\n",
              "    .colab-df-container {\n",
              "      display:flex;\n",
              "      gap: 12px;\n",
              "    }\n",
              "\n",
              "    .colab-df-convert {\n",
              "      background-color: #E8F0FE;\n",
              "      border: none;\n",
              "      border-radius: 50%;\n",
              "      cursor: pointer;\n",
              "      display: none;\n",
              "      fill: #1967D2;\n",
              "      height: 32px;\n",
              "      padding: 0 0 0 0;\n",
              "      width: 32px;\n",
              "    }\n",
              "\n",
              "    .colab-df-convert:hover {\n",
              "      background-color: #E2EBFA;\n",
              "      box-shadow: 0px 1px 2px rgba(60, 64, 67, 0.3), 0px 1px 3px 1px rgba(60, 64, 67, 0.15);\n",
              "      fill: #174EA6;\n",
              "    }\n",
              "\n",
              "    .colab-df-buttons div {\n",
              "      margin-bottom: 4px;\n",
              "    }\n",
              "\n",
              "    [theme=dark] .colab-df-convert {\n",
              "      background-color: #3B4455;\n",
              "      fill: #D2E3FC;\n",
              "    }\n",
              "\n",
              "    [theme=dark] .colab-df-convert:hover {\n",
              "      background-color: #434B5C;\n",
              "      box-shadow: 0px 1px 3px 1px rgba(0, 0, 0, 0.15);\n",
              "      filter: drop-shadow(0px 1px 2px rgba(0, 0, 0, 0.3));\n",
              "      fill: #FFFFFF;\n",
              "    }\n",
              "  </style>\n",
              "\n",
              "    <script>\n",
              "      const buttonEl =\n",
              "        document.querySelector('#df-9e543a4c-080a-4468-9142-eb745f322d7f button.colab-df-convert');\n",
              "      buttonEl.style.display =\n",
              "        google.colab.kernel.accessAllowed ? 'block' : 'none';\n",
              "\n",
              "      async function convertToInteractive(key) {\n",
              "        const element = document.querySelector('#df-9e543a4c-080a-4468-9142-eb745f322d7f');\n",
              "        const dataTable =\n",
              "          await google.colab.kernel.invokeFunction('convertToInteractive',\n",
              "                                                    [key], {});\n",
              "        if (!dataTable) return;\n",
              "\n",
              "        const docLinkHtml = 'Like what you see? Visit the ' +\n",
              "          '<a target=\"_blank\" href=https://colab.research.google.com/notebooks/data_table.ipynb>data table notebook</a>'\n",
              "          + ' to learn more about interactive tables.';\n",
              "        element.innerHTML = '';\n",
              "        dataTable['output_type'] = 'display_data';\n",
              "        await google.colab.output.renderOutput(dataTable, element);\n",
              "        const docLink = document.createElement('div');\n",
              "        docLink.innerHTML = docLinkHtml;\n",
              "        element.appendChild(docLink);\n",
              "      }\n",
              "    </script>\n",
              "  </div>\n",
              "\n",
              "\n",
              "<div id=\"df-bab1418f-998c-408d-8878-50e3295f7992\">\n",
              "  <button class=\"colab-df-quickchart\" onclick=\"quickchart('df-bab1418f-998c-408d-8878-50e3295f7992')\"\n",
              "            title=\"Suggest charts\"\n",
              "            style=\"display:none;\">\n",
              "\n",
              "<svg xmlns=\"http://www.w3.org/2000/svg\" height=\"24px\"viewBox=\"0 0 24 24\"\n",
              "     width=\"24px\">\n",
              "    <g>\n",
              "        <path d=\"M19 3H5c-1.1 0-2 .9-2 2v14c0 1.1.9 2 2 2h14c1.1 0 2-.9 2-2V5c0-1.1-.9-2-2-2zM9 17H7v-7h2v7zm4 0h-2V7h2v10zm4 0h-2v-4h2v4z\"/>\n",
              "    </g>\n",
              "</svg>\n",
              "  </button>\n",
              "\n",
              "<style>\n",
              "  .colab-df-quickchart {\n",
              "      --bg-color: #E8F0FE;\n",
              "      --fill-color: #1967D2;\n",
              "      --hover-bg-color: #E2EBFA;\n",
              "      --hover-fill-color: #174EA6;\n",
              "      --disabled-fill-color: #AAA;\n",
              "      --disabled-bg-color: #DDD;\n",
              "  }\n",
              "\n",
              "  [theme=dark] .colab-df-quickchart {\n",
              "      --bg-color: #3B4455;\n",
              "      --fill-color: #D2E3FC;\n",
              "      --hover-bg-color: #434B5C;\n",
              "      --hover-fill-color: #FFFFFF;\n",
              "      --disabled-bg-color: #3B4455;\n",
              "      --disabled-fill-color: #666;\n",
              "  }\n",
              "\n",
              "  .colab-df-quickchart {\n",
              "    background-color: var(--bg-color);\n",
              "    border: none;\n",
              "    border-radius: 50%;\n",
              "    cursor: pointer;\n",
              "    display: none;\n",
              "    fill: var(--fill-color);\n",
              "    height: 32px;\n",
              "    padding: 0;\n",
              "    width: 32px;\n",
              "  }\n",
              "\n",
              "  .colab-df-quickchart:hover {\n",
              "    background-color: var(--hover-bg-color);\n",
              "    box-shadow: 0 1px 2px rgba(60, 64, 67, 0.3), 0 1px 3px 1px rgba(60, 64, 67, 0.15);\n",
              "    fill: var(--button-hover-fill-color);\n",
              "  }\n",
              "\n",
              "  .colab-df-quickchart-complete:disabled,\n",
              "  .colab-df-quickchart-complete:disabled:hover {\n",
              "    background-color: var(--disabled-bg-color);\n",
              "    fill: var(--disabled-fill-color);\n",
              "    box-shadow: none;\n",
              "  }\n",
              "\n",
              "  .colab-df-spinner {\n",
              "    border: 2px solid var(--fill-color);\n",
              "    border-color: transparent;\n",
              "    border-bottom-color: var(--fill-color);\n",
              "    animation:\n",
              "      spin 1s steps(1) infinite;\n",
              "  }\n",
              "\n",
              "  @keyframes spin {\n",
              "    0% {\n",
              "      border-color: transparent;\n",
              "      border-bottom-color: var(--fill-color);\n",
              "      border-left-color: var(--fill-color);\n",
              "    }\n",
              "    20% {\n",
              "      border-color: transparent;\n",
              "      border-left-color: var(--fill-color);\n",
              "      border-top-color: var(--fill-color);\n",
              "    }\n",
              "    30% {\n",
              "      border-color: transparent;\n",
              "      border-left-color: var(--fill-color);\n",
              "      border-top-color: var(--fill-color);\n",
              "      border-right-color: var(--fill-color);\n",
              "    }\n",
              "    40% {\n",
              "      border-color: transparent;\n",
              "      border-right-color: var(--fill-color);\n",
              "      border-top-color: var(--fill-color);\n",
              "    }\n",
              "    60% {\n",
              "      border-color: transparent;\n",
              "      border-right-color: var(--fill-color);\n",
              "    }\n",
              "    80% {\n",
              "      border-color: transparent;\n",
              "      border-right-color: var(--fill-color);\n",
              "      border-bottom-color: var(--fill-color);\n",
              "    }\n",
              "    90% {\n",
              "      border-color: transparent;\n",
              "      border-bottom-color: var(--fill-color);\n",
              "    }\n",
              "  }\n",
              "</style>\n",
              "\n",
              "  <script>\n",
              "    async function quickchart(key) {\n",
              "      const quickchartButtonEl =\n",
              "        document.querySelector('#' + key + ' button');\n",
              "      quickchartButtonEl.disabled = true;  // To prevent multiple clicks.\n",
              "      quickchartButtonEl.classList.add('colab-df-spinner');\n",
              "      try {\n",
              "        const charts = await google.colab.kernel.invokeFunction(\n",
              "            'suggestCharts', [key], {});\n",
              "      } catch (error) {\n",
              "        console.error('Error during call to suggestCharts:', error);\n",
              "      }\n",
              "      quickchartButtonEl.classList.remove('colab-df-spinner');\n",
              "      quickchartButtonEl.classList.add('colab-df-quickchart-complete');\n",
              "    }\n",
              "    (() => {\n",
              "      let quickchartButtonEl =\n",
              "        document.querySelector('#df-bab1418f-998c-408d-8878-50e3295f7992 button');\n",
              "      quickchartButtonEl.style.display =\n",
              "        google.colab.kernel.accessAllowed ? 'block' : 'none';\n",
              "    })();\n",
              "  </script>\n",
              "</div>\n",
              "\n",
              "  <div id=\"id_062ec724-d088-4952-9659-d6ea6cda5a61\">\n",
              "    <style>\n",
              "      .colab-df-generate {\n",
              "        background-color: #E8F0FE;\n",
              "        border: none;\n",
              "        border-radius: 50%;\n",
              "        cursor: pointer;\n",
              "        display: none;\n",
              "        fill: #1967D2;\n",
              "        height: 32px;\n",
              "        padding: 0 0 0 0;\n",
              "        width: 32px;\n",
              "      }\n",
              "\n",
              "      .colab-df-generate:hover {\n",
              "        background-color: #E2EBFA;\n",
              "        box-shadow: 0px 1px 2px rgba(60, 64, 67, 0.3), 0px 1px 3px 1px rgba(60, 64, 67, 0.15);\n",
              "        fill: #174EA6;\n",
              "      }\n",
              "\n",
              "      [theme=dark] .colab-df-generate {\n",
              "        background-color: #3B4455;\n",
              "        fill: #D2E3FC;\n",
              "      }\n",
              "\n",
              "      [theme=dark] .colab-df-generate:hover {\n",
              "        background-color: #434B5C;\n",
              "        box-shadow: 0px 1px 3px 1px rgba(0, 0, 0, 0.15);\n",
              "        filter: drop-shadow(0px 1px 2px rgba(0, 0, 0, 0.3));\n",
              "        fill: #FFFFFF;\n",
              "      }\n",
              "    </style>\n",
              "    <button class=\"colab-df-generate\" onclick=\"generateWithVariable('df_test')\"\n",
              "            title=\"Generate code using this dataframe.\"\n",
              "            style=\"display:none;\">\n",
              "\n",
              "  <svg xmlns=\"http://www.w3.org/2000/svg\" height=\"24px\"viewBox=\"0 0 24 24\"\n",
              "       width=\"24px\">\n",
              "    <path d=\"M7,19H8.4L18.45,9,17,7.55,7,17.6ZM5,21V16.75L18.45,3.32a2,2,0,0,1,2.83,0l1.4,1.43a1.91,1.91,0,0,1,.58,1.4,1.91,1.91,0,0,1-.58,1.4L9.25,21ZM18.45,9,17,7.55Zm-12,3A5.31,5.31,0,0,0,4.9,8.1,5.31,5.31,0,0,0,1,6.5,5.31,5.31,0,0,0,4.9,4.9,5.31,5.31,0,0,0,6.5,1,5.31,5.31,0,0,0,8.1,4.9,5.31,5.31,0,0,0,12,6.5,5.46,5.46,0,0,0,6.5,12Z\"/>\n",
              "  </svg>\n",
              "    </button>\n",
              "    <script>\n",
              "      (() => {\n",
              "      const buttonEl =\n",
              "        document.querySelector('#id_062ec724-d088-4952-9659-d6ea6cda5a61 button.colab-df-generate');\n",
              "      buttonEl.style.display =\n",
              "        google.colab.kernel.accessAllowed ? 'block' : 'none';\n",
              "\n",
              "      buttonEl.onclick = () => {\n",
              "        google.colab.notebook.generateWithVariable('df_test');\n",
              "      }\n",
              "      })();\n",
              "    </script>\n",
              "  </div>\n",
              "\n",
              "    </div>\n",
              "  </div>\n"
            ],
            "text/plain": [
              "     Unnamed: 0 Formulae  Space Group     a     b     c  alpha  beta  gamma\n",
              "0             1      Pt4          225  2.05  2.05  2.05   90.0  90.0   90.0\n",
              "1             1      Pt4          225  2.10  2.10  2.10   90.0  90.0   90.0\n",
              "2             1      Pt4          225  2.15  2.15  2.15   90.0  90.0   90.0\n",
              "3             1      Pt4          225  2.20  2.20  2.20   90.0  90.0   90.0\n",
              "4             1      Pt4          225  2.25  2.25  2.25   90.0  90.0   90.0\n",
              "..          ...      ...          ...   ...   ...   ...    ...   ...    ...\n",
              "151           1      Pd2          229  3.75  3.75  3.75   90.0  90.0   90.0\n",
              "152           1      Pd2          229  3.80  3.80  3.80   90.0  90.0   90.0\n",
              "153           1      Pd2          229  3.85  3.85  3.85   90.0  90.0   90.0\n",
              "154           1      Pd2          229  3.90  3.90  3.90   90.0  90.0   90.0\n",
              "155           1      Pd2          229  3.95  3.95  3.95   90.0  90.0   90.0\n",
              "\n",
              "[156 rows x 9 columns]"
            ]
          },
          "execution_count": 96,
          "metadata": {},
          "output_type": "execute_result"
        }
      ],
      "source": [
        "df_test = pd.read_csv(\"./data/crystals/gull.csv\")\n",
        "df_test"
      ]
    },
    {
      "cell_type": "code",
      "execution_count": null,
      "metadata": {
        "colab": {
          "base_uri": "https://localhost:8080/"
        },
        "id": "BFW0ELJY6ZZ4",
        "outputId": "a44f4727-0a6a-44f9-e661-40686bf121a8"
      },
      "outputs": [
        {
          "name": "stdout",
          "output_type": "stream",
          "text": [
            "                                      samples_readable    scores  \\\n",
            "0    Stage 2; 225 | Fm-3m | cubic (8) | centrosymme...  2.654533   \n",
            "1    Stage 2; 225 | Fm-3m | cubic (8) | centrosymme...  3.350698   \n",
            "2    Stage 2; 225 | Fm-3m | cubic (8) | centrosymme...  3.703606   \n",
            "3    Stage 2; 225 | Fm-3m | cubic (8) | centrosymme...  3.601320   \n",
            "4    Stage 2; 225 | Fm-3m | cubic (8) | centrosymme...  3.107492   \n",
            "..                                                 ...       ...   \n",
            "151  Stage 2; 229 | Im-3m | cubic (8) | centrosymme...  2.458509   \n",
            "152  Stage 2; 229 | Im-3m | cubic (8) | centrosymme...  1.794108   \n",
            "153  Stage 2; 229 | Im-3m | cubic (8) | centrosymme...  1.184542   \n",
            "154  Stage 2; 229 | Im-3m | cubic (8) | centrosymme...  0.735279   \n",
            "155  Stage 2; 229 | Im-3m | cubic (8) | centrosymme...  0.453777   \n",
            "\n",
            "                                               samples   rewards  \n",
            "0    [2, [8, 2, 225], {78: 4}, [0.02499999999999991...  2.654533  \n",
            "1    [2, [8, 2, 225], {78: 4}, [0.05000000000000004...  3.350698  \n",
            "2    [2, [8, 2, 225], {78: 4}, [0.07499999999999996...  3.703606  \n",
            "3    [2, [8, 2, 225], {78: 4}, [0.10000000000000009...  3.601320  \n",
            "4    [2, [8, 2, 225], {78: 4}, [0.125, 0.125, 0.125...  3.107492  \n",
            "..                                                 ...       ...  \n",
            "151  [2, [8, 2, 229], {46: 2}, [0.875, 0.875, 0.875...  2.458509  \n",
            "152  [2, [8, 2, 229], {46: 2}, [0.8999999999999999,...  1.794108  \n",
            "153  [2, [8, 2, 229], {46: 2}, [0.925, 0.925, 0.925...  1.184542  \n",
            "154  [2, [8, 2, 229], {46: 2}, [0.95, 0.95, 0.95, 0...  0.735279  \n",
            "155  [2, [8, 2, 229], {46: 2}, [0.9750000000000001,...  0.453777  \n",
            "\n",
            "[156 rows x 4 columns]\n"
          ]
        }
      ],
      "source": [
        "data_test = buffer.test\n",
        "print(data_test)"
      ]
    },
    {
      "cell_type": "markdown",
      "metadata": {
        "id": "k69jv50O7U0Z"
      },
      "source": [
        "Create data frame for plotting purposes"
      ]
    },
    {
      "cell_type": "code",
      "execution_count": null,
      "metadata": {
        "id": "9VrBarEs7G1d"
      },
      "outputs": [],
      "source": [
        "samples_tt = data_test[\"samples\"]\n",
        "scores_tt = data_test[\"scores\"]\n",
        "\n",
        "df_tt = pd.DataFrame(columns=[\"Groupe spatial\", \"Élément\", \"Composition\", \"a\", \"Score\"])\n",
        "\n",
        "for idx, (sample, score) in enumerate(zip(samples_tt, scores_tt)):\n",
        "    df_tt.loc[idx] = pd.Series(\n",
        "        {\n",
        "            \"Groupe spatial\": sample[1][2],\n",
        "            \"ElemeÉlémentnt\": list(sample[2].keys())[0],\n",
        "            \"Composition\": f\"{an2el[list(sample[2].keys())[0]]}{list(sample[2].values())[0]}\",\n",
        "            \"a\": 2.0 + sample[3][0] * (4.0 - 2.0),\n",
        "            \"Score\": score,\n",
        "        })"
      ]
    },
    {
      "cell_type": "markdown",
      "metadata": {
        "id": "OzjpxiPu8QVI"
      },
      "source": [
        "Tracer les distributions des scores"
      ]
    },
    {
      "cell_type": "code",
      "execution_count": null,
      "metadata": {
        "colab": {
          "base_uri": "https://localhost:8080/",
          "height": 467
        },
        "id": "miuIfk-Y8WFw",
        "outputId": "194328e2-0687-4092-f916-978d35b4b747"
      },
      "outputs": [
        {
          "data": {
            "text/plain": [
              "<Axes: xlabel='a', ylabel='Score'>"
            ]
          },
          "execution_count": 99,
          "metadata": {},
          "output_type": "execute_result"
        },
        {
          "data": {
            "image/png": "[encoded data removed]",
            "text/plain": [
              "<Figure size 640x480 with 1 Axes>"
            ]
          },
          "metadata": {},
          "output_type": "display_data"
        }
      ],
      "source": [
        "sns.lineplot(data=df_tt, x=\"a\", y=\"Score\", hue=\"Composition\", hue_order=hue_order)"
      ]
    },
    {
      "cell_type": "markdown",
      "metadata": {
        "id": "UxDayqbp9HlU"
      },
      "source": [
        "### Explorer l’Environnement Crystal"
      ]
    },
    {
      "cell_type": "markdown",
      "metadata": {
        "id": "6XQcj9C69Mzi"
      },
      "source": [
        "`env.state` contient l’état actuel d’un environnement Crystal.\n",
        "\n",
        "L’état d’un environnement Crystal est une liste avec quatre éléments :\n",
        "- L’étape, représentant le groupe spatial (0), la composition (1) et les paramètres de réseau (2).\n",
        "- L’état du groupe spatial, qui est une liste de trois indices, faisant référence au système cristallin, à la symétrie ponctuelle et au groupe spatial.\n",
        "- L’état de la composition, qui est un dictionnaire de `élément : nombre d’atomes`, où l’élément est le numéro atomique.\n",
        "- L’état des paramètres de réseau, qui est une liste de six éléments : a, b, c, α, β, γ.\n",
        "\n",
        "Lors de l’initialisation, l’état est l’état source."
      ]
    },
    {
      "cell_type": "code",
      "execution_count": null,
      "metadata": {
        "colab": {
          "base_uri": "https://localhost:8080/"
        },
        "id": "cUaC8Hg29KBg",
        "outputId": "d3b66379-81b5-4af1-826c-490c819b0b8b"
      },
      "outputs": [
        {
          "name": "stdout",
          "output_type": "stream",
          "text": [
            "[0, [0, 0, 0], {}, [-1, -1, -1, -1, -1, -1]]\n"
          ]
        }
      ],
      "source": [
        "print(env.state)"
      ]
    },
    {
      "cell_type": "markdown",
      "metadata": {
        "id": "LlZpTQ31-bMY"
      },
      "source": [
        "Nous pouvons effectuer des étapes aléatoires dans l’environnement. Vous pouvez exécuter cette cellule plusieurs fois pour effectuer plusieurs étapes."
      ]
    },
    {
      "cell_type": "code",
      "execution_count": null,
      "metadata": {
        "colab": {
          "base_uri": "https://localhost:8080/"
        },
        "id": "6y3ooEjS-fMs",
        "outputId": "b225d526-c1c4-4e9a-a84e-637bc275a87a"
      },
      "outputs": [
        {
          "name": "stdout",
          "output_type": "stream",
          "text": [
            "New state: \n",
            "[2, [8, 2, 225], {78: 4}, [0.7178686559200287, 0.7178686559200287, 0.7178686559200287, 0.375, 0.375, 0.375]]\n",
            "Action performed\n",
            "(2, inf, inf, inf, inf, inf, inf, inf)\n",
            "The trajectory is done - the state is a terminated crystal\n"
          ]
        }
      ],
      "source": [
        "new_state, action, is_valid = env.step_random()\n",
        "print(\"Nouvel état : \")\n",
        "print(new_state)\n",
        "print(\"Action effectuée :\")\n",
        "print(action)\n",
        "if env.done:\n",
        "  print(\"La trajectoire est terminée - l'état est un cristal finalisé\")"
      ]
    },
    {
      "cell_type": "markdown",
      "metadata": {
        "id": "pbe6v--A-39H"
      },
      "source": [
        "Vous pouvez réinitialiser un environnement à son état source avec `env.reset()`."
      ]
    },
    {
      "cell_type": "code",
      "execution_count": null,
      "metadata": {
        "colab": {
          "base_uri": "https://localhost:8080/"
        },
        "id": "ztP_eMrS-86C",
        "outputId": "9d85cab7-7285-4fcd-fa92-526a661b3d89"
      },
      "outputs": [
        {
          "data": {
            "text/plain": [
              "<gflownet.envs.crystals.crystal.Crystal at 0x7aab988d0150>"
            ]
          },
          "execution_count": 108,
          "metadata": {},
          "output_type": "execute_result"
        }
      ],
      "source": [
        "env.reset()"
      ]
    },
    {
      "cell_type": "markdown",
      "metadata": {
        "id": "__vsvDft_NKs"
      },
      "source": [
        "\n",
        "### Entraîner un Crystal-GFN pendant 1000 étapes\n",
        "\n",
        "Nous entraînerons le Crystal-GFN pendant seulement 1000 étapes, ce qui prendra environ une minute. Ce court entraînement ne permettra pas au modèle de correspondre parfaitement à la distribution des récompenses, mais il devrait déjà montrer une amélioration visible.\n"
      ]
    },
    {
      "cell_type": "code",
      "execution_count": null,
      "metadata": {
        "colab": {
          "base_uri": "https://localhost:8080/"
        },
        "collapsed": true,
        "id": "Mfl8ZP8O8553",
        "outputId": "98ce0a2a-c543-432e-dda8-b5734ece6b6a"
      },
      "outputs": [
        {
          "name": "stderr",
          "output_type": "stream",
          "text": [
            "Loss: 1019.1100 | Mean rewards: 1.40 | JSD: -1.0000: 100%|██████████| 1000/1000 [00:56<00:00, 17.71it/s]\n"
          ]
        }
      ],
      "source": [
        "gflownet.train()"
      ]
    },
    {
      "cell_type": "markdown",
      "metadata": {
        "id": "xTo4dxbeJPd6"
      },
      "source": [
        "### Évaluer le Crystal-GFN Entraîné\n",
        "\n",
        "Échantillonner un lot de 10 000 cristaux générés et calculer leurs scores. Cela prendra quelques secondes.\n"
      ]
    },
    {
      "cell_type": "code",
      "execution_count": null,
      "metadata": {
        "id": "3jHfaGly_Wgi"
      },
      "outputs": [],
      "source": [
        "gfn_samples_batch, _ = gflownet.sample_batch(n_forward=10000, train=False)\n",
        "samples_gfn = gfn_samples_batch.get_terminating_states()\n",
        "scores_gfn = gflownet.proxy(env.states2proxy(samples_gfn))"
      ]
    },
    {
      "cell_type": "markdown",
      "metadata": {
        "id": "C9SljIr9KNiO"
      },
      "source": [
        "Construire un DataFrame à des fins de visualisation.\n"
      ]
    },
    {
      "cell_type": "code",
      "execution_count": null,
      "metadata": {
        "id": "g9Zu2-ZDFqGc"
      },
      "outputs": [],
      "source": [
        "df_gfn = pd.DataFrame(columns=[\"Groupe spatial\", \"Élément\", \"Composition\", \"a\", \"Score\"])\n",
        "\n",
        "for idx, (sample, score) in enumerate(zip(samples_gfn, scores_gfn)):\n",
        "    df_gfn.loc[idx] = pd.Series(\n",
        "        {\n",
        "            \"Groupe spatial\": sample[1][2],\n",
        "            \"Élément\": list(sample[2].keys())[0],\n",
        "            \"Composition\": f\"{an2el[list(sample[2].keys())[0]]}{list(sample[2].values())[0]}\",\n",
        "            \"a\": 2.0 + sample[3][0] * (4.0 - 2.0),\n",
        "            \"Score\": score,\n",
        "        })"
      ]
    },
    {
      "cell_type": "markdown",
      "metadata": {
        "id": "-1YWj7tPKSH5"
      },
      "source": [
        "Tracer l’histogramme et les densités KDE des échantillons générés"
      ]
    },
    {
      "cell_type": "code",
      "execution_count": null,
      "metadata": {
        "colab": {
          "base_uri": "https://localhost:8080/",
          "height": 524
        },
        "id": "ecEOh3tdIm9T",
        "outputId": "0dcae113-178d-4bff-a037-a76af5dfa967"
      },
      "outputs": [
        {
          "data": {
            "text/plain": [
              "<seaborn.axisgrid.FacetGrid at 0x7aab810c1310>"
            ]
          },
          "execution_count": 112,
          "metadata": {},
          "output_type": "execute_result"
        },
        {
          "data": {
            "image/png": "[encoded data removed]",
            "text/plain": [
              "<Figure size 597.861x500 with 1 Axes>"
            ]
          },
          "metadata": {},
          "output_type": "display_data"
        }
      ],
      "source": [
        "sns.displot(data=df_gfn, x=\"a\", hue=\"Composition\", kde=True, bins=20, hue_order=hue_order)"
      ]
    },
    {
      "cell_type": "code",
      "execution_count": null,
      "metadata": {
        "colab": {
          "base_uri": "https://localhost:8080/",
          "height": 524
        },
        "id": "okMgp1YhKDt8",
        "outputId": "034397af-a3c8-4d8a-8acc-c36f8dd05f0c"
      },
      "outputs": [
        {
          "data": {
            "text/plain": [
              "<seaborn.axisgrid.FacetGrid at 0x7aab9b5c5f10>"
            ]
          },
          "execution_count": 113,
          "metadata": {},
          "output_type": "execute_result"
        },
        {
          "data": {
            "image/png": "[encoded data removed]",
            "text/plain": [
              "<Figure size 597.861x500 with 1 Axes>"
            ]
          },
          "metadata": {},
          "output_type": "display_data"
        }
      ],
      "source": [
        "sns.displot(data=df_gfn, x=\"a\", hue=\"Composition\", kind=\"kde\", hue_order=hue_order)"
      ]
    },
    {
      "cell_type": "markdown",
      "metadata": {
        "id": "ycwKPF5DKXoy"
      },
      "source": [
        "Nous observons que les densités des échantillons générés sont loin de correspondre à la vraie fonction de récompense, mais nous voyons qu’elles commencent à s’en rapprocher, malgré un entraînement de seulement 1000 itérations en quelques minutes."
      ]
    }
  ],
  "metadata": {
    "colab": {
      "include_colab_link": true,
      "provenance": []
    },
    "kernelspec": {
      "display_name": "Python 3",
      "name": "python3"
    },
    "language_info": {
      "name": "python"
    }
  },
  "nbformat": 4,
  "nbformat_minor": 0
}
