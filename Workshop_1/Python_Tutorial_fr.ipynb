{
  "cells": [
    {
      "cell_type": "markdown",
      "metadata": {},
      "source": [
        "# Cours Accéléré de Python\n",
        "## Configuration de Votre Environnement\n",
        "Comme vous le savez probablement, configurer votre environnement peut être l'une des parties les plus difficiles lors de l'apprentissage d'un nouvel outil. Heureusement, Python le rend très facile grâce à son gestionnaire de paquets intégré `pip`. D'autres gestionnaires de paquets existent également, tels que `conda`, qui est très souvent utilisé.\n",
        "\n",
        "Il est recommandé de maintenir **un environnement isolé** pour chaque projet, afin d'éviter les conflits avec l'environnement système de base. Dans la première partie de ce tutoriel, nous verrons comment faire cela pour :\n",
        "- Google Colab\n",
        "- un environnement local sur votre poste de travail\n",
        "- une configuration de base pour un environnement SLURM (par exemple, ARNC / Calcul Canada)\n",
        "\n",
        "Dans Google Colab, nous n'avons pas besoin de choisir quel gestionnaire de paquets utiliser, car il est préconfiguré avec `pip` et crée automatiquement un nouvel environnement pour chaque session (ce qui est à la fois une bénédiction et une malédiction).\n",
        "\n",
        "Pour un environnement local sur votre poste de travail, `conda` est recommandé car il s'agit d'un gestionnaire de paquets plus puissant que `pip`, et il permet d'utiliser facilement différentes versions de Python pour différents projets. Conda prend en charge les commandes `conda install` ainsi que `pip install`.\n",
        "\n",
        "Dans un environnement SLURM, il est généralement recommandé de créer votre environnement avec `virtualenv` plutôt qu'avec `conda`, car il est plus léger. Les paquets peuvent ensuite être installés avec `pip`. ARNC / Calcul Canada fournit d'excellentes instructions pour [configurer un environnement Python sur leur cluster.](https://docs.alliancecan.ca/wiki/Python)\n",
        "\n",
        "### Configuration dans Google Colab\n",
        "Heureusement, Google Colab est livré avec la plupart des bibliothèques dont nous avons besoin pour l'apprentissage machine et la science des données préinstallées. Cependant, il arrive que nous ayons besoin d'accéder à des bibliothèques de code ou à des ensembles de données qui ne sont pas préinstallés. Dans ce cas, Colab facilite leur installation, bien que la méthode soit légèrement différente de celle utilisée pour installer des bibliothèques localement.\n",
        "\n",
        "Google Colab est basé sur les Jupyter Notebooks, qui ont une syntaxe spéciale pour exécuter des commandes système. Nous pouvons exécuter des commandes bash en utilisant la syntaxe `!command`. Par exemple, nous pouvons vérifier la liste des paquets actuellement installés :"
      ]
    },
    {
      "cell_type": "code",
      "execution_count": null,
      "metadata": {
        "colab": {
          "base_uri": "https://localhost:8080/"
        },
        "id": "SQXv194nMdhC",
        "outputId": "321de0d1-287f-460b-dfe9-b23ef709f1f2"
      },
      "outputs": [],
      "source": [
        "!pip list"
      ]
    },
    {
      "cell_type": "markdown",
      "metadata": {
        "id": "AZudkIUbWPRu"
      },
      "source": []
    },
    {
      "cell_type": "markdown",
      "metadata": {
        "id": "ioZ5sDI1Wzer"
      },
      "source": [
        "Nous pouvons également installer et gérer des bibliothèques logicielles en utilisant pip de la même manière. Cependant, il est préférable d'utiliser la commande spéciale `%pip`, car cela permettra de s'assurer que tout fonctionne correctement avec l'environnement Jupyter notebook."
      ]
    },
    {
      "cell_type": "code",
      "execution_count": null,
      "metadata": {
        "colab": {
          "base_uri": "https://localhost:8080/"
        },
        "id": "ykmf-tvSWxX4",
        "outputId": "c7204770-bece-469b-8aad-a331410e352f"
      },
      "outputs": [],
      "source": [
        "# Nous pouvons installer PyTorch Geometric qui sera utilisé pendant le tutoriel sur les GNN\n",
        "%pip install torch_geometric"
      ]
    },
    {
      "cell_type": "markdown",
      "metadata": {
        "id": "jz3pMNFsc170"
      },
      "source": [
        "Souvent, nous ne souhaitons pas voir les journaux d'exécution du processus d'installation, car cela encombre simplement nos notebooks. Nous pouvons utiliser la commande \"magie\" de cellule `%%capture` pour désactiver l'affichage des journaux d'exécution:"
      ]
    },
    {
      "cell_type": "code",
      "execution_count": null,
      "metadata": {
        "id": "4yXlP7v3c0CV"
      },
      "outputs": [],
      "source": [
        "%%capture\n",
        "%pip install torch_geometric"
      ]
    },
    {
      "cell_type": "markdown",
      "metadata": {
        "id": "KGcPPGBsMZXU"
      },
      "source": [
        "### Configuration sur votre Poste de Travail Local\n",
        "Nous allons maintenant voir comment configurer un environnement sur votre poste de travail local. Tout d'abord, nous allons installer `conda`. Si vous n'avez pas encore de version de `conda` installée, suivez les [instructions officielles](https://docs.anaconda.com/miniconda/install/) pour installer Miniconda3. **REMARQUE** Afin d'éviter toute interférence avec l'environnement Colab ou Jupyter, les extraits de code ci-dessous ne sont pas exécutables.\n",
        "\n",
        "Par exemple, pour une installation sur Linux, nous pouvons copier la commande d'installation rapide fournie par Miniconda :\n",
        "```bash\n",
        "mkdir -p ~/miniconda3\n",
        "wget https://repo.anaconda.com/miniconda/Miniconda3-latest-Linux-x86_64.sh -O ~/miniconda3/miniconda.sh\n",
        "bash ~/miniconda3/miniconda.sh -b -u -p ~/miniconda3\n",
        "rm ~/miniconda3/miniconda.sh\n",
        "```\n",
        "\n",
        "Ensuite, nous pouvons activer l'environnement pour la première fois et le configurer pour qu'il s'active automatiquement lors des futures sessions terminal :\n",
        "```bash\n",
        "source ~/miniconda3/bin/activate\n",
        "conda init --all\n",
        "```\n",
        "\n",
        "Ensuite, nous pouvons créer un nouvel environnement pour ce projet :\n",
        "```bash\n",
        "conda create -n gnn python=3.11\n",
        "```\n",
        "Cela créera un nouvel environnement conda appelé `gnn` utilisant Python 3.11. Nous pouvons ensuite activer l'environnement et installer les bibliothèques nécessaires sans interférer avec d'autres projets.\n",
        "```bash\n",
        "conda activate gnn\n",
        "```\n",
        "\n",
        "Il est conseillé de garder une trace des bibliothèques nécessaires à votre code en utilisant un fichier `requirements.txt`. Ce fichier liste chaque bibliothèque pip (et facultativement leurs versions) requise sur une ligne distincte. Par exemple, nous pouvons définir un fichier requirements pour le tutoriel GNN comme suit :\n",
        "\n",
        "```\n",
        "# requirements.txt\n",
        "emmet\n",
        "matplotlib\n",
        "mp-api\n",
        "networkx\n",
        "numpy\n",
        "pymatgen\n",
        "scikit-learn\n",
        "torch\n",
        "torch_geometric\n",
        "```\n",
        "\n",
        "Ensuite, nous pouvons installer ces bibliothèques dans notre environnement conda (après avoir exécuté `conda activate gnn`) avec la commande suivante :\n",
        "```bash\n",
        "pip install -r requirements.txt\n",
        "```"
      ]
    },
    {
      "cell_type": "markdown",
      "metadata": {
        "id": "LNDhPq75Mm8g"
      },
      "source": [
        "## Notions de Base en Python\n",
        "### Importation de Modules\n",
        "L'un des éléments distinctifs de Python est son système de modules. Python facilite grandement le chargement et l'utilisation de bibliothèques logicielles. Certaines bibliothèques sont intégrées, tandis que d'autres doivent être installées auprès de tiers. De plus, il est possible de diviser votre code en plusieurs fichiers et d'\"importer\" du code depuis un autre fichier.\n",
        "\n",
        "```\n",
        "import numpy as np  # ici, nous importons la bibliothèque tierce \"numpy\" sous l'alias \"np\"\n",
        "import torch\n",
        "\n",
        "# math est une bibliothèque intégrée\n",
        "from math import sin # nous pouvons importer des fonctions spécifiques en utilisant \"from ... import ...\"\n",
        "\n",
        "np.sum([0, 1, 2]), sin(np.pi / 2), torch.rand(1)  # nous pouvons maintenant utiliser les fonctionnalités de numpy, torch ou la fonction \"sin\" de \"math\"\n",
        "```\n",
        "\n",
        "Python vérifiera d'abord le répertoire actuel pour trouver un fichier correspondant, puis il vérifiera parmi les bibliothèques installées et les modules intégrés."
      ]
    },
    {
      "cell_type": "code",
      "execution_count": null,
      "metadata": {
        "colab": {
          "base_uri": "https://localhost:8080/"
        },
        "id": "G7W4ik4FjtDA",
        "outputId": "06034d00-22e6-42b9-f70e-4d744582bc98"
      },
      "outputs": [],
      "source": [
        "import numpy as np  # ici, nous importons la bibliothèque tierce \"numpy\" sous l'alias \"np\"\n",
        "import torch\n",
        "\n",
        "# math est une bibliothèque intégrée\n",
        "from math import sin # nous pouvons importer des fonctions spécifiques en utilisant \"from ... import ...\"\n",
        "\n",
        "np.sum([0, 1, 2]), sin(np.pi / 2), torch.rand(1)  # nous pouvons maintenant utiliser les fonctionnalités de numpy, torch ou la fonction \"sin\" de \"math\""
      ]
    },
    {
      "cell_type": "markdown",
      "metadata": {
        "id": "q52frnQ6kARU"
      },
      "source": [
        "Python vérifiera d'abord le répertoire actuel pour trouver un fichier correspondant, puis il vérifiera parmi les bibliothèques installées et les modules intégrés."
      ]
    },
    {
      "cell_type": "markdown",
      "metadata": {
        "id": "33dK9le7Mp43"
      },
      "source": [
        "### Variables et Types de Données\n",
        "Comme dans d'autres langages de programmation, Python nous permet de créer et de stocker des données dans des **variables**. Il est important de considérer une variable comme un **conteneur** de données. Les données elles-mêmes peuvent exister même sans la variable, ou être référencées par plusieurs conteneurs. Comprendre ce concept vous aidera à éviter de nombreux bugs courants dans votre code.\n",
        "\n",
        "En Python, tout est un _objet_ qui peut stocker des données et contenir des méthodes agissant sur ces données. Cela signifie qu'il n'existe **pas de types primitifs** en Python. De plus, Python utilise le concept de **duck typing** (\"si ça cancane comme un canard, alors c'est un canard\"). Cela signifie que les programmes, en général, ne doivent pas dépendre de types spécifiques, mais plutôt d'objets implémentant des méthodes spécifiques. Nous verrons que de nombreuses fonctions intégrées en Python suivent cette idée.\n",
        "\n",
        "Nous pouvons créer des variables pour contenir certains des types de données courants en Python comme suit :\n",
        "\n",
        "Par convention, nous utilisons le format `snake_case` pour les noms de variables en Python.\n",
        "\n",
        "Remarquez que nous n'avons jamais \"déclaré\" le type de nos variables. Cela s'explique par le fait que Python n'est pas un langage strictement typé. Nous pouvons même attribuer différents types à une variable au cours du programme. Parfois, cela est utile, mais souvent, cela peut nuire à la lisibilité de nos programmes."
      ]
    },
    {
      "cell_type": "code",
      "execution_count": null,
      "metadata": {
        "colab": {
          "base_uri": "https://localhost:8080/"
        },
        "id": "qdCSsEAFMqUz",
        "outputId": "c2c44bc1-a7e2-4754-a374-658eea62be23"
      },
      "outputs": [],
      "source": [
        "a = 5  # Nombre, spécifiquement un \"int\"\n",
        "b = 3.14  # Nombre, spécifiquement un \"float\"\n",
        "c = \"hello world\"  # \"string\"\n",
        "d = 'a'  # Aussi un \"string\", Python n'a pas de type \"char\"\n",
        "e = [\"a\", \"list\", \"of\", \"strings\"]  # Les listes utilisent des crochets [ ]\n",
        "f = [1, 3.14, \"string\"]  # Les listes peuvent mélanger différents types (chaque entrée est juste un \"conteneur\")\n",
        "g = True  # Un \"bool\" prend les valeurs True / False\n",
        "h = None  # Utilisé de manière similaire à \"null\" dans d'autres langages\n",
        "i = { \"Drew\": 28, \"Jama\": None}\n",
        "type(a), type(b), type(c), type(d), type(e), type(f), type(g), type(h), type(i)"
      ]
    },
    {
      "cell_type": "markdown",
      "metadata": {
        "id": "gpkzFd95tZTG"
      },
      "source": [
        "Par convention, nous utilisons le format `snake_case` pour les noms de variables en Python.\n",
        "\n",
        "Remarquez que nous n'avons jamais \"déclaré\" le type de nos variables. Cela s'explique par le fait que Python n'est pas un langage strictement typé. Nous pouvons même attribuer différents types à une variable au cours du programme. Parfois, cela est utile, mais souvent, cela peut nuire à la lisibilité de nos programmes."
      ]
    },
    {
      "cell_type": "code",
      "execution_count": null,
      "metadata": {
        "colab": {
          "base_uri": "https://localhost:8080/"
        },
        "id": "CkcNo24ItYkP",
        "outputId": "6586b66b-2260-4b76-9e06-7a45ec5ee9f8"
      },
      "outputs": [],
      "source": [
        "a = \"yikes\"  # maintenant, la variable `a` contient un \"string\" au lieu d'un entier\n",
        "type(a)"
      ]
    },
    {
      "cell_type": "markdown",
      "metadata": {
        "id": "XSzWGbHzuBHs"
      },
      "source": [
        "Depuis Python 3.5, il est possible d'inclure des annotations de type pour les variables. Ces annotations sont utilisées pour améliorer la lisibilité et aider l'IDE avec l'autocomplétion, mais elles ne sont pas (en général) appliquées à l'exécution."
      ]
    },
    {
      "cell_type": "code",
      "execution_count": null,
      "metadata": {
        "id": "kqFjKboYuAXi"
      },
      "outputs": [],
      "source": [
        "a: int = 5"
      ]
    },
    {
      "cell_type": "markdown",
      "metadata": {
        "id": "jZGaffztMr3-"
      },
      "source": [
        "### Opérations de Base\n",
        "Python prend en charge les opérations arithmétiques de base sur les nombres.\n"
      ]
    },
    {
      "cell_type": "code",
      "execution_count": null,
      "metadata": {
        "colab": {
          "base_uri": "https://localhost:8080/"
        },
        "id": "NGyaiUA_Msmq",
        "outputId": "982fd356-661b-4893-8fc9-9de1efdc52fa"
      },
      "outputs": [],
      "source": [
        "a = 1\n",
        "b = 3\n",
        "c = a + b  # l'addition d'entiers produit un \"int\"\n",
        "c, type(c)"
      ]
    },
    {
      "cell_type": "code",
      "execution_count": null,
      "metadata": {
        "colab": {
          "base_uri": "https://localhost:8080/"
        },
        "id": "bhVeJdbB1KiP",
        "outputId": "50673a98-9871-4f34-b1df-8f9c4360d885"
      },
      "outputs": [],
      "source": [
        "a = 1.5\n",
        "b = 4\n",
        "c = b - a # les opérations avec des \"float\" produisent un \"float\"\n",
        "c, type(c)"
      ]
    },
    {
      "cell_type": "code",
      "execution_count": null,
      "metadata": {
        "colab": {
          "base_uri": "https://localhost:8080/"
        },
        "id": "whYOXA_01VNt",
        "outputId": "e60c1850-6cf2-4246-dcea-e1df2f88d9f7"
      },
      "outputs": [],
      "source": [
        "a = 7\n",
        "b = 3\n",
        "c = a / b  # la division d'entiers produira naturellement un \"float\"\n",
        "c, type(c)"
      ]
    },
    {
      "cell_type": "code",
      "execution_count": null,
      "metadata": {
        "colab": {
          "base_uri": "https://localhost:8080/"
        },
        "id": "Bd4vLEVK1b6k",
        "outputId": "305fce8b-6519-4100-844d-7ebb4fa9982e"
      },
      "outputs": [],
      "source": [
        "a = 7\n",
        "b = 3\n",
        "c = a // b # nous pouvons effectuer une division entière avec le symbole //\n",
        "c, type(c)"
      ]
    },
    {
      "cell_type": "code",
      "execution_count": null,
      "metadata": {
        "colab": {
          "base_uri": "https://localhost:8080/"
        },
        "id": "y9-vhPJZ1hUV",
        "outputId": "91852301-de6d-42d2-c822-afe546b074ac"
      },
      "outputs": [],
      "source": [
        "a = 6\n",
        "b = 8\n",
        "c = a * b  # la multiplication utilise le symbole *\n",
        "c, type(c)"
      ]
    },
    {
      "cell_type": "code",
      "execution_count": null,
      "metadata": {
        "colab": {
          "base_uri": "https://localhost:8080/"
        },
        "id": "rZGk6ZvM1sY2",
        "outputId": "8c621648-9e7e-4c53-8c0e-b9344c25f766"
      },
      "outputs": [],
      "source": [
        "a = 2\n",
        "b = 4\n",
        "c = a ** b # l'exponentiation utilise le symbole **\n",
        "c"
      ]
    },
    {
      "cell_type": "markdown",
      "metadata": {
        "id": "LZUADDan1zlj"
      },
      "source": [
        "**REMARQUE** Python implémente également le symbole `^`, mais cela effectue un XOR au niveau du bit et non une exponentiation."
      ]
    },
    {
      "cell_type": "code",
      "execution_count": null,
      "metadata": {
        "colab": {
          "base_uri": "https://localhost:8080/"
        },
        "id": "Ipih5mKr1y1C",
        "outputId": "0ed7f9ec-c0ea-4117-f153-7b7ea03ded08"
      },
      "outputs": [],
      "source": [
        "a ^ b"
      ]
    },
    {
      "cell_type": "markdown",
      "metadata": {
        "id": "-jxd2_W02SEl"
      },
      "source": [
        "L'opérateur modulo / reste est implémenté en utilisant le symbole `%`:\n"
      ]
    },
    {
      "cell_type": "code",
      "execution_count": null,
      "metadata": {
        "colab": {
          "base_uri": "https://localhost:8080/"
        },
        "id": "4csXvrrV2bDK",
        "outputId": "71799090-caf0-4a3f-ba8d-0e5e96f875e1"
      },
      "outputs": [],
      "source": [
        "a = 10\n",
        "b = 3\n",
        "c = a % b  # 10 mod 3\n",
        "c"
      ]
    },
    {
      "cell_type": "markdown",
      "metadata": {
        "id": "f5WiMdSm2j0H"
      },
      "source": [
        "Python nous permet également de définir des nombres en notation scientifique, hexadécimale ou binaire:"
      ]
    },
    {
      "cell_type": "code",
      "execution_count": null,
      "metadata": {
        "colab": {
          "base_uri": "https://localhost:8080/"
        },
        "id": "DL2tuIxA2i-1",
        "outputId": "521c2e4f-f7b2-46ef-aa8a-74a0423ae912"
      },
      "outputs": [],
      "source": [
        "a = 1880  # notation standard\n",
        "a = 1_880 # nous pouvons séparer les milliers avec un _ pour améliorer la lisibilité\n",
        "b = 1.88e3  # notation scientifique\n",
        "c = 0b11101011000 # en binaire\n",
        "d = 0x758 # en hexadécimal\n",
        "a == b == c == d"
      ]
    },
    {
      "cell_type": "markdown",
      "metadata": {
        "id": "zoDsuDgbMt7r"
      },
      "source": [
        "### Structure de contrôle et Boucles\n",
        "Python propose plusieurs structures pour le contrôle de flux, mais peut-être pas autant que certains autres langages.\n",
        "\n",
        "La structure la plus basique est l'exécution conditionnelle de code avec des instructions `if`, ce qui veut dire \"si\"."
      ]
    },
    {
      "cell_type": "code",
      "execution_count": null,
      "metadata": {
        "colab": {
          "base_uri": "https://localhost:8080/"
        },
        "id": "E-ZY059bMuVv",
        "outputId": "14236d92-affe-4e67-bf16-3ecce554bbcd"
      },
      "outputs": [],
      "source": [
        "# Valeur absolue\n",
        "x = 32\n",
        "if x >= 0:\n",
        "  y = x\n",
        "else:\n",
        "  y = -x\n",
        "y"
      ]
    },
    {
      "cell_type": "code",
      "execution_count": null,
      "metadata": {
        "colab": {
          "base_uri": "https://localhost:8080/"
        },
        "id": "g6O_4-vVNgvi",
        "outputId": "eecb498f-227c-4d6c-a0f0-42ae109f97b7"
      },
      "outputs": [],
      "source": [
        "# Valeur absolue\n",
        "x = -16\n",
        "if x >= 0:\n",
        "  y = x\n",
        "else:\n",
        "  y = -x\n",
        "y"
      ]
    },
    {
      "cell_type": "code",
      "execution_count": null,
      "metadata": {
        "colab": {
          "base_uri": "https://localhost:8080/"
        },
        "id": "RaRLUjw_No8o",
        "outputId": "6aee9ff9-3503-4102-e88d-5af17d2841f3"
      },
      "outputs": [],
      "source": [
        "animal = 'dog'\n",
        "if animal == 'cat':\n",
        "  print('Meow!')\n",
        "elif animal == 'dog':\n",
        "  print('Bark!')\n",
        "elif animal == 'frog':\n",
        "  print('Ribbit!')\n",
        "else:\n",
        "  print('Grrr...')"
      ]
    },
    {
      "cell_type": "markdown",
      "metadata": {
        "id": "Eirg3U6-N0YX"
      },
      "source": [
        "Notez qu'avec la construction `if-elif-else` (si, sinon si, sinon), _exactement_ un bloc est exécuté.\n",
        "\n",
        "Une autre structure utile pour la structure de contrôle est la boucle. Python propose des boucles du type \"foreach\" et \"while\"."
      ]
    },
    {
      "cell_type": "code",
      "execution_count": null,
      "metadata": {
        "colab": {
          "base_uri": "https://localhost:8080/"
        },
        "id": "qKLO35S8ZUY3",
        "outputId": "45376e0e-a7f9-4521-a1fa-c45e8bbaba8b"
      },
      "outputs": [],
      "source": [
        "names = [\"drew\", \"jama\", \"ameer\", \"mehdi\",]\n",
        "for name in names:  # itérer sur chaque élément de la liste\n",
        "  print(\"hello\", name.capitalize())"
      ]
    },
    {
      "cell_type": "markdown",
      "metadata": {
        "id": "M26C6p7lZjpn"
      },
      "source": [
        "Il n'existe pas de structure comme `for (int i=0; i < 6; i++)` en Python. À la place, la manière idiomatique de faire ce genre de boucle est :"
      ]
    },
    {
      "cell_type": "code",
      "execution_count": null,
      "metadata": {
        "colab": {
          "base_uri": "https://localhost:8080/"
        },
        "id": "XEYA6_fwZico",
        "outputId": "f427ca24-f2d5-42e9-b384-5033a7fb145a"
      },
      "outputs": [],
      "source": [
        "for i in range(6):\n",
        "  print(i)"
      ]
    },
    {
      "cell_type": "markdown",
      "metadata": {
        "id": "vk7lspUwaNeU"
      },
      "source": [
        "Encore mieux, nous pouvons utiliser la fonction `enumerate` :"
      ]
    },
    {
      "cell_type": "code",
      "execution_count": null,
      "metadata": {
        "colab": {
          "base_uri": "https://localhost:8080/"
        },
        "id": "mkmnO9O4aL5b",
        "outputId": "c9f92645-2cf7-4264-c138-06b23da74c7a"
      },
      "outputs": [],
      "source": [
        "for i, name in enumerate(names):\n",
        "  print(\"Hello\", name.capitalize(), \"you're number\", i)"
      ]
    },
    {
      "cell_type": "markdown",
      "metadata": {
        "id": "MoooNkSJaa6t"
      },
      "source": [
        "Nous pouvons également exécuter un bloc de code de manière répétée tant qu'une condition est vraie :"
      ]
    },
    {
      "cell_type": "code",
      "execution_count": null,
      "metadata": {
        "colab": {
          "base_uri": "https://localhost:8080/"
        },
        "id": "VX38fu7GaacJ",
        "outputId": "3b97dd99-4a01-4854-e682-b0a4afe1451a"
      },
      "outputs": [],
      "source": [
        "names = [\"drew\", \"jama\", \"ameer\", \"mehdi\",]\n",
        "while len(names) > 0:\n",
        "  print(names.pop(), len(names))  # retirer et retourner le dernier élément de `names`"
      ]
    },
    {
      "cell_type": "markdown",
      "metadata": {
        "id": "oQBEpzdqMvon"
      },
      "source": [
        "### Définir des Fonctions\n",
        "\n",
        "Souvent, nous voulons réutiliser du code. Nous pouvons le faire en définissant des fonctions qui acceptent des paramètres et retournent un résultat."
      ]
    },
    {
      "cell_type": "code",
      "execution_count": null,
      "metadata": {
        "colab": {
          "base_uri": "https://localhost:8080/"
        },
        "id": "qY8vMHfXa83B",
        "outputId": "22438435-4898-4bcc-e5ff-95216fec7dd4"
      },
      "outputs": [],
      "source": [
        "def square(x):\n",
        "  return x * x\n",
        "\n",
        "for i in range(10):\n",
        "  print(i, '->', square(i))"
      ]
    },
    {
      "cell_type": "markdown",
      "metadata": {
        "id": "PUBRX83ybHT4"
      },
      "source": [
        "Les fonctions peuvent accepter des arguments positionnels ainsi que des arguments nommés :"
      ]
    },
    {
      "cell_type": "code",
      "execution_count": null,
      "metadata": {
        "colab": {
          "base_uri": "https://localhost:8080/"
        },
        "id": "c-St239ebFot",
        "outputId": "328b1067-dee0-4ee6-e2ed-902cc13b3607"
      },
      "outputs": [],
      "source": [
        "def power(x, p=1):\n",
        "  return x ** p\n",
        "\n",
        "x = 2\n",
        "for i in range(4):\n",
        "  print(power(x, p=i))"
      ]
    },
    {
      "cell_type": "markdown",
      "metadata": {
        "id": "lwCcfTjzg_Vl"
      },
      "source": [
        "Il est également possible de définir des fonctions anonymes appelées \"fonctions lambda\" :"
      ]
    },
    {
      "cell_type": "code",
      "execution_count": null,
      "metadata": {
        "colab": {
          "base_uri": "https://localhost:8080/"
        },
        "id": "GCxDXwChg-Q9",
        "outputId": "4b042697-5539-491f-8ae3-8cdab6491fb0"
      },
      "outputs": [],
      "source": [
        "x = [-3, 4, 12, -2, 8, 0, 1, 7]\n",
        "sorted(x, key=lambda x: abs(x)) # trier par valeur absolue"
      ]
    },
    {
      "cell_type": "markdown",
      "metadata": {
        "id": "xdYGNqPbMy-P"
      },
      "source": [
        "### Définir des Classes\n",
        "Les classes sont des objets personnalisés. Elles regroupent des données et des méthodes qui opèrent sur ces données. Elles constituent un excellent moyen d'améliorer la lisibilité et la réutilisabilité de votre code. Nous utiliserons des classes personnalisées tout le temps dans PyTorch pour définir de nouveaux modèles :\n"
      ]
    },
    {
      "cell_type": "code",
      "execution_count": null,
      "metadata": {
        "id": "T6x9zE5UMzb1"
      },
      "outputs": [],
      "source": [
        "from torch import nn\n",
        "\n",
        "class CustomModel(nn.Module):  # nous \"héritons\" de Module, ce qui signifie que nous réutilisons ses fonctionnalités\n",
        "\n",
        "  def __init__(self, in_size, out_size): # la méthode __init__ sert à initialiser une nouvelle instance, comme un constructeur\n",
        "    # \"super\" nous permet d'appeler des méthodes de l'implémentation de base, dans ce cas nn.Module\n",
        "    super().__init__()\n",
        "\n",
        "    # self est un paramètre spécial qui fait référence à l'instance actuelle, ici\n",
        "    # nous l'utilisons pour stocker des données personnalisées sur l'instance\n",
        "    self.in_size = in_size\n",
        "    self.out_size = out_size\n",
        "\n",
        "    self.fc = nn.Linear(in_size, out_size)\n",
        "    self.act = nn.ReLU()\n",
        "\n",
        "  # \"forward\" est une méthode attendue par nn.Module\n",
        "  def forward(self, x):\n",
        "    # Nous pouvons accéder aux données ou aux méthodes du module avec `self.`\n",
        "    x = self.fc(x)\n",
        "    x = self.act(x)\n",
        "\n",
        "    return x"
      ]
    },
    {
      "cell_type": "markdown",
      "metadata": {
        "id": "Ed4S7KuCM0iR"
      },
      "source": [
        "### Quelques Autres Fonctionnalités\n",
        "Comme dans la plupart des langages, il est possible que des opérations lèvent des erreurs lorsqu'elles rencontrent des entrées inattendues ou d'autres problèmes. Nous pouvons encapsuler le code susceptible de lever des erreurs dans un bloc `try` et les capturer avec `except`. Cela nous permet d'écrire du code qui gère les erreurs de manière élégante.\n"
      ]
    },
    {
      "cell_type": "code",
      "execution_count": null,
      "metadata": {
        "colab": {
          "base_uri": "https://localhost:8080/"
        },
        "id": "gWMP34RZM1Cl",
        "outputId": "b4ddb1c3-5320-4cfe-8e0e-f00b6ced547c"
      },
      "outputs": [],
      "source": [
        "try:\n",
        "  x = 10 / 0\n",
        "except ZeroDivisionError:\n",
        "  print(\"Oups, impossible de diviser par 0...\")\n",
        "  x = 0\n",
        "except:\n",
        "  print(\"quelque chose s'est mal passé\")\n",
        "  x = -1\n",
        "x  # la valeur de x est maintenant 0"
      ]
    },
    {
      "cell_type": "markdown",
      "metadata": {
        "id": "DRVWbOr5DYTG"
      },
      "source": [
        "Python prend en charge nativement l'idée de \"gestionnaires de contexte\". Cela nous permet d'exécuter un code spécifique au début d'un bloc de code et, à nouveau, lorsque le programme quitte le bloc (peu importe si des erreurs sont levées) :"
      ]
    },
    {
      "cell_type": "code",
      "execution_count": null,
      "metadata": {
        "colab": {
          "base_uri": "https://localhost:8080/"
        },
        "id": "C2gCQ33UDVhV",
        "outputId": "e53549b7-6ab9-46a0-8aeb-82434c4201c3"
      },
      "outputs": [],
      "source": [
        "with open('/content/sample_data/README.md') as f:  # un certain code est exécuté ici, et le résultat est fourni dans la variable \"f\"\n",
        "  txt = f.readline()\n",
        "\n",
        "# une logique de sortie est exécutée implicitement ici\n",
        "\n",
        "print(txt)"
      ]
    },
    {
      "cell_type": "markdown",
      "metadata": {
        "id": "XadegJ31EE4v"
      },
      "source": [
        "Dans ce cas, en entrant dans le contexte `with`, nous ouvrons le fichier spécifié et retournons une référence à l'objet fichier dans la variable `f`. Lorsque nous quittons le contexte `with`, `f.close()` sera appelé automatiquement.\n",
        "\n",
        "Nous verrons souvent ce modèle `with` dans PyTorch comme suit :\n",
        "```python\n",
        "with torch.no_grad():  # le calcul des gradients est désactivé, ce qui économise de la mémoire\n",
        "  model.eval()\n",
        "  ... # évaluer notre modèle\n",
        "# le calcul des gradients est maintenant réactivé (s'il était activé avant d'entrer dans le bloc)\n",
        "```\n",
        "\n",
        "En interne, le contexte `with` fonctionne en appelant les méthodes `__enter__` et `__exit__` sur l'objet qui lui est transmis. Cela signifie que vous pouvez définir vos propres gestionnaires de contexte personnalisés en implémentant ces méthodes dans votre classe."
      ]
    },
    {
      "cell_type": "markdown",
      "metadata": {
        "id": "u5M48aB9M1y4"
      },
      "source": [
        "### Numpy et PyTorch\n",
        "Numpy et PyTorch sont deux bibliothèques très utiles en apprentissage automatique.\n",
        "\n",
        "Numpy implémente des \"arrays\" qui sont une forme plus efficace et multidimensionnelle de liste. De plus, elle définit de nombreuses opérations mathématiques utiles."
      ]
    },
    {
      "cell_type": "code",
      "execution_count": null,
      "metadata": {
        "id": "r-lOcJPilmNS"
      },
      "outputs": [],
      "source": [
        "# Tout d'abord, nous nous assurons que numpy est importé\n",
        "import numpy as np"
      ]
    },
    {
      "cell_type": "code",
      "execution_count": null,
      "metadata": {
        "colab": {
          "base_uri": "https://localhost:8080/"
        },
        "id": "BzSCgFtUlpzh",
        "outputId": "6ecfd572-9be9-4ec2-cf8c-f4438f52f06d"
      },
      "outputs": [],
      "source": [
        "x = np.zeros((6, 6)) # nous pouvons créer une matrice 6x6 de zéros\n",
        "x"
      ]
    },
    {
      "cell_type": "code",
      "execution_count": null,
      "metadata": {
        "colab": {
          "base_uri": "https://localhost:8080/"
        },
        "id": "pE3oHEutlx1p",
        "outputId": "77959831-95fb-4bfc-eb72-cfcf61051edc"
      },
      "outputs": [],
      "source": [
        "x.shape, x.dtype # la forme est 6 lignes par 6 colonnes, le type de donnée est un float de 64 bits par défaut"
      ]
    },
    {
      "cell_type": "code",
      "execution_count": null,
      "metadata": {
        "colab": {
          "base_uri": "https://localhost:8080/"
        },
        "id": "ap7g5pcPl4zP",
        "outputId": "e7253a06-3e6f-4fd9-f394-1ca72cfdcf1f"
      },
      "outputs": [],
      "source": [
        "x = np.ones((3, 8, 8)) # nous ne sommes pas limités aux tableaux à 2 dimensions...\n",
        "x"
      ]
    },
    {
      "cell_type": "code",
      "execution_count": null,
      "metadata": {
        "colab": {
          "base_uri": "https://localhost:8080/"
        },
        "id": "db9AR2-2mAwn",
        "outputId": "6921749d-1691-43de-b732-3d8a5ab9850b"
      },
      "outputs": [],
      "source": [
        "x = np.random.rand(3, 4, 4) # crée un tableau 3x4x4 de nombres aléatoires entre [0, 1]\n",
        "x"
      ]
    },
    {
      "cell_type": "code",
      "execution_count": null,
      "metadata": {
        "colab": {
          "base_uri": "https://localhost:8080/"
        },
        "id": "jtovuzifmQR1",
        "outputId": "ed6b3dbb-4862-4c30-8226-701fc87213e8"
      },
      "outputs": [],
      "source": [
        "y = x.sum(axis=0) # somme le long du premier axe (3 éléments)\n",
        "y.shape, y"
      ]
    },
    {
      "cell_type": "code",
      "execution_count": null,
      "metadata": {
        "colab": {
          "base_uri": "https://localhost:8080/"
        },
        "id": "FQqwNBY1mYXx",
        "outputId": "e845f599-617c-4945-e5ee-851b35d30593"
      },
      "outputs": [],
      "source": [
        "x.mean() # retourne la valeur moyenne de tous les éléments, nous nous attendons à ce que cela soit proche de 0.5"
      ]
    },
    {
      "cell_type": "markdown",
      "metadata": {
        "id": "_vqMdhbZDhQJ"
      },
      "source": [
        "Numpy (et PyTorch) prennent en charge l'indexation avancée pour les arrays / tenseurs :"
      ]
    },
    {
      "cell_type": "code",
      "execution_count": null,
      "metadata": {
        "colab": {
          "base_uri": "https://localhost:8080/"
        },
        "id": "mNmvYoZZDf_4",
        "outputId": "70b1638b-4a77-4d80-c313-b1fdf9388a39"
      },
      "outputs": [],
      "source": [
        "x[:, 0] # retourne le premier élément le long de la 2e dimension"
      ]
    },
    {
      "cell_type": "code",
      "execution_count": null,
      "metadata": {
        "colab": {
          "base_uri": "https://localhost:8080/"
        },
        "id": "G3TBUQiiDpu0",
        "outputId": "0de60397-c94a-4574-c1d9-86fdfa696d14"
      },
      "outputs": [],
      "source": [
        "x[..., :3]  # retourne uniquement les 3 premiers éléments le long de la dernière dimension"
      ]
    },
    {
      "cell_type": "code",
      "execution_count": null,
      "metadata": {
        "colab": {
          "base_uri": "https://localhost:8080/"
        },
        "id": "WkimptUNDtjL",
        "outputId": "d4d13411-8c56-445c-ff46-963484b367a1"
      },
      "outputs": [],
      "source": [
        "x[[True, False, False]] # Indexation booléenne"
      ]
    },
    {
      "cell_type": "code",
      "execution_count": null,
      "metadata": {
        "colab": {
          "base_uri": "https://localhost:8080/"
        },
        "id": "iI9SlOSVDwST",
        "outputId": "e5b29017-008b-4b41-f30d-55a97a659fba"
      },
      "outputs": [],
      "source": [
        "x[:, [1, 2, 0], :]  # Indexation avec des int"
      ]
    },
    {
      "cell_type": "markdown",
      "metadata": {
        "id": "KKeP7rPcrZhD"
      },
      "source": [
        "PyTorch prend en charge de nombreuses opérations similaires à Numpy avec une interface très proche. Cependant, PyTorch fournit des fonctionnalités supplémentaires très utiles pour l'apprentissage automatique.\n",
        "\n",
        "Dans PyTorch, ce qui était appelé un \"array\" dans Numpy est désormais appelé un \"tensor\". Les tenseurs peuvent exister sur différents appareils, notamment le CPU ou le GPU (cuda). Cela nous permet de tirer parti des capacités de parallélisme extrême des GPU pour nos opérations sur les tenseurs.\n"
      ]
    },
    {
      "cell_type": "code",
      "execution_count": null,
      "metadata": {
        "colab": {
          "base_uri": "https://localhost:8080/"
        },
        "id": "i7aeoiKDrYTy",
        "outputId": "66d13a57-f6cc-46f7-b4a4-7f8f7bc9441f"
      },
      "outputs": [],
      "source": [
        "import torch\n",
        "\n",
        "\n",
        "# REMARQUE : pour utiliser \"cuda\", nous avons besoin d'un GPU disponible. Cela peut être fait en modifiant le\n",
        "#            runtime dans Google Colab en allant sur Runtime -> Change Runtime Type\n",
        "device = \"cuda\" if torch.cuda.is_available() else \"cpu\"\n",
        "\n",
        "x = torch.rand((3, 4, 4))\n",
        "x"
      ]
    },
    {
      "cell_type": "code",
      "execution_count": null,
      "metadata": {
        "colab": {
          "base_uri": "https://localhost:8080/"
        },
        "id": "-hjhU5xjsFxJ",
        "outputId": "8de526ef-8399-4573-b30e-b1df0cba1d50"
      },
      "outputs": [],
      "source": [
        "x = x.to(device) # nous pouvons déplacer le tenseur sur un autre appareil, si disponible\n",
        "x"
      ]
    },
    {
      "cell_type": "code",
      "execution_count": null,
      "metadata": {
        "colab": {
          "base_uri": "https://localhost:8080/"
        },
        "id": "exnos-dlsKoZ",
        "outputId": "e85bc13a-1079-4657-9ba2-2c1afe852b9c"
      },
      "outputs": [],
      "source": [
        "x.sum(dim=1)  # \"axis\" est maintenant appelé \"dim\" dans pytorch"
      ]
    },
    {
      "cell_type": "markdown",
      "metadata": {
        "id": "O1wNOPj-yPXP"
      },
      "source": [
        "De plus, PyTorch prend en charge la **différentiation automatique** (autograd) pour calculer automatiquement les gradients, et inclut de nombreuses classes et fonctions utiles pour l'apprentissage profond. La fonctionnalité autograd est activée en définissant `requires_grad=True` sur un tenseur. Nous pourrons ensuite appliquer la **rétropropagation du gradient (backpropagation)** pour calculer le gradient d'une fonction par rapport à ce tenseur. Les modules dans `torch.nn` définissent automatiquement cela pour leurs paramètres :\n"
      ]
    },
    {
      "cell_type": "code",
      "execution_count": null,
      "metadata": {
        "colab": {
          "base_uri": "https://localhost:8080/"
        },
        "id": "suTfs1MsCxGs",
        "outputId": "214d6baf-ca33-417c-ec1b-639b52a51c3b"
      },
      "outputs": [],
      "source": [
        "x = torch.randn((3, 5, 5), requires_grad=True)  # distribution normale moyenne=0, std=1\n",
        "loss = (x**2).mean()\n",
        "loss.backward() # calcule les gradients par rapport à \"x\"\n",
        "x.grad"
      ]
    },
    {
      "cell_type": "markdown",
      "metadata": {
        "id": "ESzQMQiJEjyg"
      },
      "source": [
        "\n",
        "Autograd nous permet de construire des architectures de modèles avancées et de les entraîner avec l'algorithme du **descente de gradient** sans nous soucier du calcul manuel des gradients.\n",
        "\n",
        "Divers optimisateurs (par exemple, `SGD`, `Adam`, etc.) sont inclus dans le module `torch.optim` et peuvent être utilisés pour optimiser une liste de `nn.Parameter` (encapsule un tenseur pour que PyTorch sache que nous voulons l'optimiser) appartenant à un modèle.\n",
        "\n",
        "Les modules les plus utiles dans PyTorch sont :\n",
        "\n",
        "- `torch.nn` : Implémente de nombreuses couches de réseaux de neurones et des fonctions utiles. `nn.Module` forme la base de tous les réseaux neuronaux que nous concevons.\n",
        "- `torch.optim` : Implémente diverses variantes de descente de gradient.\n",
        "- `torch.utils.data` : Implémente une interface standard pour `Dataset` et fournit `DataLoader` pour itérer dynamiquement sur les données par lots.\n",
        "\n",
        "Quelques autres bibliothèques utiles incluent :\n",
        "- `torch_geometric` : Implémente les réseaux neuronaux graphiques. Nous utiliserons cela dans l'atelier GNN !\n",
        "- `torchvision` : Utile pour les tâches de vision par ordinateur\n",
        "- `torchaudio` : Utile pour les tâches audio et de traitement du signal\n",
        "- `matplotlib` / `seaborn` : Bibliothèques communes pour les graphiques\n",
        "- `pandas` : Travailler avec des données tabulaires\n",
        "- `dask` : Big data, traitement parallèle sur CPU (avec prise en charge de divers clusters HPC)"
      ]
    }
  ],
  "metadata": {
    "accelerator": "GPU",
    "colab": {
      "gpuType": "T4",
      "provenance": [],
      "toc_visible": true
    },
    "kernelspec": {
      "display_name": "Python 3",
      "name": "python3"
    },
    "language_info": {
      "name": "python"
    }
  },
  "nbformat": 4,
  "nbformat_minor": 0
}
