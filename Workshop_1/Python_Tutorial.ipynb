{
  "nbformat": 4,
  "nbformat_minor": 0,
  "metadata": {
    "colab": {
      "provenance": [],
      "gpuType": "T4",
      "toc_visible": true
    },
    "kernelspec": {
      "name": "python3",
      "display_name": "Python 3"
    },
    "language_info": {
      "name": "python"
    },
    "accelerator": "GPU"
  },
  "cells": [
    {
      "cell_type": "markdown",
      "source": [
        "# Python Crash Course"
      ],
      "metadata": {
        "id": "jlwOlHF_HaSX"
      }
    },
    {
      "cell_type": "markdown",
      "source": [
        "## Setting Up Your Environment\n",
        "As you probably know, setting up your environment can be the most difficult part of learning a new tool. Luckily Python makes it very easy for us with its built-in package manager `pip`. Other package managers exist as well, such as `conda` which is very commonly used.\n",
        "\n",
        "It is good practice to keep **an isolated environment** for each project, in order to avoid conflicts with the base system environment. In the first part of this tutorial we will see how to do this for:\n",
        "- Google Colab\n",
        "- a local environment on your workstation\n",
        "- basic setup for a SLURM computing environment (e.g DRAC / Compute Canada)\n",
        "\n",
        "In Google Colab, we do not need to choose which package manager to use, as it comes preconfigured with `pip`, and automatically creates a new environment for you with each session (this is a blessing and a curse).\n",
        "\n",
        "For a local environment on your workstation, `conda` is recommended as it is a more powerful package manager than `pip`, and makes it easy to use different versons of python for different projects. Conda supports both `conda install` and `pip install` commands.\n",
        "\n",
        "In a SLURM environment, it is generally recommended to create your environment with `virtualenv` rather than `conda` as it is more light-weight. Packages can then be install with `pip`. DRAC / Compute Canada provides excellent instructions for [setting up a python environment on their cluster.](https://docs.alliancecan.ca/wiki/Python)"
      ],
      "metadata": {
        "id": "hAsrUzn3MYBi"
      }
    },
    {
      "cell_type": "markdown",
      "source": [
        "### Getting Setup in Google Colab\n",
        "Conveniently, Google Colab comes with most of the libraries that we need for machine learning and datascience pre-installed. Sometimes however, we need access to code libraries or datasets which are not pre-installed. In this case, Colab makes it easy to install them, however the method is slightly different from how we install libraries locally.\n",
        "\n",
        "Google Colab is based on Jupyter Notebooks, which have special syntax for executing system commands. We can execute bash commands using the `!command` syntax. For example, we can check the list of packages currently installed:"
      ],
      "metadata": {
        "id": "qZtVv1eTMbu9"
      }
    },
    {
      "cell_type": "code",
      "source": [
        "!pip list"
      ],
      "metadata": {
        "colab": {
          "base_uri": "https://localhost:8080/"
        },
        "id": "SQXv194nMdhC",
        "outputId": "321de0d1-287f-460b-dfe9-b23ef709f1f2"
      },
      "execution_count": null,
      "outputs": [
        {
          "output_type": "stream",
          "name": "stdout",
          "text": [
            "Package                            Version\n",
            "---------------------------------- ------------------\n",
            "absl-py                            1.4.0\n",
            "accelerate                         1.3.0\n",
            "aiohappyeyeballs                   2.4.4\n",
            "aiohttp                            3.11.12\n",
            "aiosignal                          1.3.2\n",
            "alabaster                          1.0.0\n",
            "albucore                           0.0.23\n",
            "albumentations                     2.0.3\n",
            "ale-py                             0.10.1\n",
            "altair                             5.5.0\n",
            "annotated-types                    0.7.0\n",
            "anyio                              3.7.1\n",
            "argon2-cffi                        23.1.0\n",
            "argon2-cffi-bindings               21.2.0\n",
            "array_record                       0.6.0\n",
            "arviz                              0.20.0\n",
            "astropy                            7.0.0\n",
            "astropy-iers-data                  0.2025.2.3.0.32.42\n",
            "astunparse                         1.6.3\n",
            "atpublic                           4.1.0\n",
            "attrs                              25.1.0\n",
            "audioread                          3.0.1\n",
            "autograd                           1.7.0\n",
            "babel                              2.17.0\n",
            "backcall                           0.2.0\n",
            "beautifulsoup4                     4.13.3\n",
            "bigframes                          1.35.0\n",
            "bigquery-magics                    0.5.0\n",
            "bleach                             6.2.0\n",
            "blinker                            1.9.0\n",
            "blis                               0.7.11\n",
            "blosc2                             3.0.0\n",
            "bokeh                              3.6.3\n",
            "Bottleneck                         1.4.2\n",
            "bqplot                             0.12.44\n",
            "branca                             0.8.1\n",
            "CacheControl                       0.14.2\n",
            "cachetools                         5.5.1\n",
            "catalogue                          2.0.10\n",
            "certifi                            2025.1.31\n",
            "cffi                               1.17.1\n",
            "chardet                            5.2.0\n",
            "charset-normalizer                 3.4.1\n",
            "chex                               0.1.88\n",
            "clarabel                           0.10.0\n",
            "click                              8.1.8\n",
            "cloudpathlib                       0.20.0\n",
            "cloudpickle                        3.1.1\n",
            "cmake                              3.31.4\n",
            "cmdstanpy                          1.2.5\n",
            "colorcet                           3.1.0\n",
            "colorlover                         0.3.0\n",
            "colour                             0.1.5\n",
            "community                          1.0.0b1\n",
            "confection                         0.1.5\n",
            "cons                               0.4.6\n",
            "contourpy                          1.3.1\n",
            "cramjam                            2.9.1\n",
            "cryptography                       43.0.3\n",
            "cuda-python                        12.6.0\n",
            "cudf-cu12                          24.12.0\n",
            "cufflinks                          0.17.3\n",
            "cupy-cuda12x                       13.3.0\n",
            "cvxopt                             1.3.2\n",
            "cvxpy                              1.6.0\n",
            "cycler                             0.12.1\n",
            "cyipopt                            1.5.0\n",
            "cymem                              2.0.11\n",
            "Cython                             3.0.11\n",
            "dask                               2024.10.0\n",
            "datascience                        0.17.6\n",
            "db-dtypes                          1.4.1\n",
            "dbus-python                        1.2.18\n",
            "debugpy                            1.8.0\n",
            "decorator                          4.4.2\n",
            "defusedxml                         0.7.1\n",
            "Deprecated                         1.2.18\n",
            "diffusers                          0.32.2\n",
            "distro                             1.9.0\n",
            "dlib                               19.24.2\n",
            "dm-tree                            0.1.9\n",
            "docker-pycreds                     0.4.0\n",
            "docstring_parser                   0.16\n",
            "docutils                           0.21.2\n",
            "dopamine_rl                        4.1.2\n",
            "duckdb                             1.1.3\n",
            "earthengine-api                    1.5.1\n",
            "easydict                           1.13\n",
            "editdistance                       0.8.1\n",
            "eerepr                             0.1.0\n",
            "einops                             0.8.0\n",
            "en-core-web-sm                     3.7.1\n",
            "entrypoints                        0.4\n",
            "et_xmlfile                         2.0.0\n",
            "etils                              1.11.0\n",
            "etuples                            0.3.9\n",
            "Farama-Notifications               0.0.4\n",
            "fastai                             2.7.18\n",
            "fastcore                           1.7.29\n",
            "fastdownload                       0.0.7\n",
            "fastjsonschema                     2.21.1\n",
            "fastprogress                       1.0.3\n",
            "fastrlock                          0.8.3\n",
            "filelock                           3.17.0\n",
            "firebase-admin                     6.6.0\n",
            "Flask                              3.1.0\n",
            "flatbuffers                        25.1.24\n",
            "flax                               0.10.2\n",
            "folium                             0.19.4\n",
            "fonttools                          4.55.8\n",
            "frozendict                         2.4.6\n",
            "frozenlist                         1.5.0\n",
            "fsspec                             2024.10.0\n",
            "future                             1.0.0\n",
            "gast                               0.6.0\n",
            "gcsfs                              2024.10.0\n",
            "GDAL                               3.6.4\n",
            "gdown                              5.2.0\n",
            "geemap                             0.35.1\n",
            "gensim                             4.3.3\n",
            "geocoder                           1.38.1\n",
            "geographiclib                      2.0\n",
            "geopandas                          1.0.1\n",
            "geopy                              2.4.1\n",
            "gin-config                         0.5.0\n",
            "gitdb                              4.0.12\n",
            "GitPython                          3.1.44\n",
            "glob2                              0.7\n",
            "google                             2.0.3\n",
            "google-ai-generativelanguage       0.6.15\n",
            "google-api-core                    2.19.2\n",
            "google-api-python-client           2.160.0\n",
            "google-auth                        2.27.0\n",
            "google-auth-httplib2               0.2.0\n",
            "google-auth-oauthlib               1.2.1\n",
            "google-cloud-aiplatform            1.79.0\n",
            "google-cloud-bigquery              3.25.0\n",
            "google-cloud-bigquery-connection   1.17.0\n",
            "google-cloud-bigquery-storage      2.28.0\n",
            "google-cloud-bigtable              2.28.1\n",
            "google-cloud-core                  2.4.1\n",
            "google-cloud-dataproc              5.16.0\n",
            "google-cloud-datastore             2.20.2\n",
            "google-cloud-firestore             2.20.0\n",
            "google-cloud-functions             1.19.0\n",
            "google-cloud-iam                   2.17.0\n",
            "google-cloud-language              2.16.0\n",
            "google-cloud-pubsub                2.25.0\n",
            "google-cloud-resource-manager      1.14.0\n",
            "google-cloud-spanner               3.51.0\n",
            "google-cloud-storage               2.19.0\n",
            "google-cloud-translate             3.19.0\n",
            "google-colab                       1.0.0\n",
            "google-crc32c                      1.6.0\n",
            "google-genai                       0.8.0\n",
            "google-generativeai                0.8.4\n",
            "google-pasta                       0.2.0\n",
            "google-resumable-media             2.7.2\n",
            "google-spark-connect               0.5.1\n",
            "googleapis-common-protos           1.66.0\n",
            "googledrivedownloader              1.1.0\n",
            "graphviz                           0.20.3\n",
            "greenlet                           3.1.1\n",
            "grpc-google-iam-v1                 0.14.0\n",
            "grpc-interceptor                   0.15.4\n",
            "grpcio                             1.70.0\n",
            "grpcio-status                      1.62.3\n",
            "gspread                            6.1.4\n",
            "gspread-dataframe                  4.0.0\n",
            "gym                                0.25.2\n",
            "gym-notices                        0.0.8\n",
            "gymnasium                          1.0.0\n",
            "h11                                0.14.0\n",
            "h5netcdf                           1.5.0\n",
            "h5py                               3.12.1\n",
            "highspy                            1.9.0\n",
            "holidays                           0.66\n",
            "holoviews                          1.20.0\n",
            "html5lib                           1.1\n",
            "httpcore                           1.0.7\n",
            "httpimport                         1.4.0\n",
            "httplib2                           0.22.0\n",
            "httpx                              0.28.1\n",
            "huggingface-hub                    0.28.1\n",
            "humanize                           4.11.0\n",
            "hyperopt                           0.2.7\n",
            "ibis-framework                     9.2.0\n",
            "idna                               3.10\n",
            "imageio                            2.37.0\n",
            "imageio-ffmpeg                     0.6.0\n",
            "imagesize                          1.4.1\n",
            "imbalanced-learn                   0.13.0\n",
            "imgaug                             0.4.0\n",
            "immutabledict                      4.2.1\n",
            "importlib_metadata                 8.6.1\n",
            "importlib_resources                6.5.2\n",
            "imutils                            0.5.4\n",
            "inflect                            7.5.0\n",
            "iniconfig                          2.0.0\n",
            "intel-cmplr-lib-ur                 2025.0.4\n",
            "intel-openmp                       2025.0.4\n",
            "ipyevents                          2.0.2\n",
            "ipyfilechooser                     0.6.0\n",
            "ipykernel                          5.5.6\n",
            "ipyleaflet                         0.19.2\n",
            "ipyparallel                        8.8.0\n",
            "ipython                            7.34.0\n",
            "ipython-genutils                   0.2.0\n",
            "ipython-sql                        0.5.0\n",
            "ipytree                            0.2.2\n",
            "ipywidgets                         7.7.1\n",
            "itsdangerous                       2.2.0\n",
            "jax                                0.4.33\n",
            "jax-cuda12-pjrt                    0.4.33\n",
            "jax-cuda12-plugin                  0.4.33\n",
            "jaxlib                             0.4.33\n",
            "jeepney                            0.7.1\n",
            "jellyfish                          1.1.0\n",
            "jieba                              0.42.1\n",
            "Jinja2                             3.1.5\n",
            "jiter                              0.8.2\n",
            "joblib                             1.4.2\n",
            "jsonpatch                          1.33\n",
            "jsonpickle                         4.0.1\n",
            "jsonpointer                        3.0.0\n",
            "jsonschema                         4.23.0\n",
            "jsonschema-specifications          2024.10.1\n",
            "jupyter-client                     6.1.12\n",
            "jupyter-console                    6.1.0\n",
            "jupyter_core                       5.7.2\n",
            "jupyter-leaflet                    0.19.2\n",
            "jupyter-server                     1.24.0\n",
            "jupyterlab_pygments                0.3.0\n",
            "jupyterlab_widgets                 3.0.13\n",
            "kaggle                             1.6.17\n",
            "kagglehub                          0.3.6\n",
            "keras                              3.8.0\n",
            "keras-hub                          0.18.1\n",
            "keras-nlp                          0.18.1\n",
            "keyring                            23.5.0\n",
            "kiwisolver                         1.4.8\n",
            "langchain                          0.3.17\n",
            "langchain-core                     0.3.33\n",
            "langchain-text-splitters           0.3.5\n",
            "langcodes                          3.5.0\n",
            "langsmith                          0.3.6\n",
            "language_data                      1.3.0\n",
            "launchpadlib                       1.10.16\n",
            "lazr.restfulclient                 0.14.4\n",
            "lazr.uri                           1.0.6\n",
            "lazy_loader                        0.4\n",
            "libclang                           18.1.1\n",
            "libcudf-cu12                       24.12.0\n",
            "libkvikio-cu12                     24.12.1\n",
            "librosa                            0.10.2.post1\n",
            "lightgbm                           4.5.0\n",
            "linkify-it-py                      2.0.3\n",
            "llvmlite                           0.44.0\n",
            "locket                             1.0.0\n",
            "logical-unification                0.4.6\n",
            "lxml                               5.3.0\n",
            "marisa-trie                        1.2.1\n",
            "Markdown                           3.7\n",
            "markdown-it-py                     3.0.0\n",
            "MarkupSafe                         3.0.2\n",
            "matplotlib                         3.10.0\n",
            "matplotlib-inline                  0.1.7\n",
            "matplotlib-venn                    1.1.1\n",
            "mdit-py-plugins                    0.4.2\n",
            "mdurl                              0.1.2\n",
            "miniKanren                         1.0.3\n",
            "missingno                          0.5.2\n",
            "mistune                            3.1.1\n",
            "mizani                             0.13.1\n",
            "mkl                                2025.0.1\n",
            "ml-dtypes                          0.4.1\n",
            "mlxtend                            0.23.4\n",
            "more-itertools                     10.6.0\n",
            "moviepy                            1.0.3\n",
            "mpmath                             1.3.0\n",
            "msgpack                            1.1.0\n",
            "multidict                          6.1.0\n",
            "multipledispatch                   1.0.0\n",
            "multitasking                       0.0.11\n",
            "murmurhash                         1.0.12\n",
            "music21                            9.3.0\n",
            "namex                              0.0.8\n",
            "narwhals                           1.25.1\n",
            "natsort                            8.4.0\n",
            "nbclassic                          1.2.0\n",
            "nbclient                           0.10.2\n",
            "nbconvert                          7.16.6\n",
            "nbformat                           5.10.4\n",
            "ndindex                            1.9.2\n",
            "nest-asyncio                       1.6.0\n",
            "networkx                           3.4.2\n",
            "nibabel                            5.3.2\n",
            "nltk                               3.9.1\n",
            "notebook                           6.5.5\n",
            "notebook_shim                      0.2.4\n",
            "numba                              0.61.0\n",
            "numba-cuda                         0.0.17.1\n",
            "numexpr                            2.10.2\n",
            "numpy                              1.26.4\n",
            "nvidia-cublas-cu12                 12.5.3.2\n",
            "nvidia-cuda-cupti-cu12             12.5.82\n",
            "nvidia-cuda-nvcc-cu12              12.5.82\n",
            "nvidia-cuda-nvrtc-cu12             12.5.82\n",
            "nvidia-cuda-runtime-cu12           12.5.82\n",
            "nvidia-cudnn-cu12                  9.3.0.75\n",
            "nvidia-cufft-cu12                  11.2.3.61\n",
            "nvidia-curand-cu12                 10.3.6.82\n",
            "nvidia-cusolver-cu12               11.6.3.83\n",
            "nvidia-cusparse-cu12               12.5.1.3\n",
            "nvidia-nccl-cu12                   2.21.5\n",
            "nvidia-nvcomp-cu12                 4.1.0.6\n",
            "nvidia-nvjitlink-cu12              12.5.82\n",
            "nvidia-nvtx-cu12                   12.4.127\n",
            "nvtx                               0.2.10\n",
            "nx-cugraph-cu12                    24.12.0\n",
            "oauth2client                       4.1.3\n",
            "oauthlib                           3.2.2\n",
            "openai                             1.61.1\n",
            "opencv-contrib-python              4.11.0.86\n",
            "opencv-python                      4.11.0.86\n",
            "opencv-python-headless             4.11.0.86\n",
            "openpyxl                           3.1.5\n",
            "opentelemetry-api                  1.16.0\n",
            "opentelemetry-sdk                  1.16.0\n",
            "opentelemetry-semantic-conventions 0.37b0\n",
            "opt_einsum                         3.4.0\n",
            "optax                              0.2.4\n",
            "optree                             0.14.0\n",
            "orbax-checkpoint                   0.6.4\n",
            "orjson                             3.10.15\n",
            "osqp                               0.6.7.post3\n",
            "packaging                          24.2\n",
            "pandas                             2.2.2\n",
            "pandas-datareader                  0.10.0\n",
            "pandas-gbq                         0.26.1\n",
            "pandas-stubs                       2.2.2.240909\n",
            "pandocfilters                      1.5.1\n",
            "panel                              1.6.0\n",
            "param                              2.2.0\n",
            "parso                              0.8.4\n",
            "parsy                              2.1\n",
            "partd                              1.4.2\n",
            "pathlib                            1.0.1\n",
            "patsy                              1.0.1\n",
            "peewee                             3.17.9\n",
            "peft                               0.14.0\n",
            "pexpect                            4.9.0\n",
            "pickleshare                        0.7.5\n",
            "pillow                             11.1.0\n",
            "pip                                24.1.2\n",
            "platformdirs                       4.3.6\n",
            "plotly                             5.24.1\n",
            "plotnine                           0.14.5\n",
            "pluggy                             1.5.0\n",
            "ply                                3.11\n",
            "polars                             1.9.0\n",
            "pooch                              1.8.2\n",
            "portpicker                         1.5.2\n",
            "preshed                            3.0.9\n",
            "prettytable                        3.14.0\n",
            "proglog                            0.1.10\n",
            "progressbar2                       4.5.0\n",
            "prometheus_client                  0.21.1\n",
            "promise                            2.3\n",
            "prompt_toolkit                     3.0.50\n",
            "propcache                          0.2.1\n",
            "prophet                            1.1.6\n",
            "proto-plus                         1.26.0\n",
            "protobuf                           4.25.6\n",
            "psutil                             5.9.5\n",
            "psycopg2                           2.9.10\n",
            "ptyprocess                         0.7.0\n",
            "py-cpuinfo                         9.0.0\n",
            "py4j                               0.10.9.7\n",
            "pyarrow                            17.0.0\n",
            "pyasn1                             0.6.1\n",
            "pyasn1_modules                     0.4.1\n",
            "pycocotools                        2.0.8\n",
            "pycparser                          2.22\n",
            "pydantic                           2.10.6\n",
            "pydantic_core                      2.27.2\n",
            "pydata-google-auth                 1.9.1\n",
            "pydot                              3.0.4\n",
            "pydotplus                          2.0.2\n",
            "PyDrive                            1.3.1\n",
            "PyDrive2                           1.21.3\n",
            "pyerfa                             2.0.1.5\n",
            "pygame                             2.6.1\n",
            "pygit2                             1.17.0\n",
            "Pygments                           2.18.0\n",
            "PyGObject                          3.42.1\n",
            "PyJWT                              2.10.1\n",
            "pylibcudf-cu12                     24.12.0\n",
            "pylibcugraph-cu12                  24.12.0\n",
            "pylibraft-cu12                     24.12.0\n",
            "pymc                               5.20.0\n",
            "pymystem3                          0.2.0\n",
            "pynvjitlink-cu12                   0.5.0\n",
            "pyogrio                            0.10.0\n",
            "Pyomo                              6.8.2\n",
            "PyOpenGL                           3.1.9\n",
            "pyOpenSSL                          24.2.1\n",
            "pyparsing                          3.2.1\n",
            "pyperclip                          1.9.0\n",
            "pyproj                             3.7.0\n",
            "pyshp                              2.3.1\n",
            "PySocks                            1.7.1\n",
            "pyspark                            3.5.4\n",
            "pytensor                           2.26.4\n",
            "pytest                             8.3.4\n",
            "python-apt                         0.0.0\n",
            "python-box                         7.3.2\n",
            "python-dateutil                    2.8.2\n",
            "python-louvain                     0.16\n",
            "python-slugify                     8.0.4\n",
            "python-snappy                      0.7.3\n",
            "python-utils                       3.9.1\n",
            "pytz                               2025.1\n",
            "pyviz_comms                        3.0.4\n",
            "PyYAML                             6.0.2\n",
            "pyzmq                              24.0.1\n",
            "qdldl                              0.1.7.post5\n",
            "ratelim                            0.1.6\n",
            "referencing                        0.36.2\n",
            "regex                              2024.11.6\n",
            "requests                           2.32.3\n",
            "requests-oauthlib                  2.0.0\n",
            "requests-toolbelt                  1.0.0\n",
            "requirements-parser                0.9.0\n",
            "rich                               13.9.4\n",
            "rmm-cu12                           24.12.1\n",
            "rpds-py                            0.22.3\n",
            "rpy2                               3.4.2\n",
            "rsa                                4.9\n",
            "safetensors                        0.5.2\n",
            "scikit-image                       0.25.1\n",
            "scikit-learn                       1.6.1\n",
            "scipy                              1.13.1\n",
            "scooby                             0.10.0\n",
            "scs                                3.2.7.post2\n",
            "seaborn                            0.13.2\n",
            "SecretStorage                      3.3.1\n",
            "Send2Trash                         1.8.3\n",
            "sentence-transformers              3.4.1\n",
            "sentencepiece                      0.2.0\n",
            "sentry-sdk                         2.20.0\n",
            "setproctitle                       1.3.4\n",
            "setuptools                         75.1.0\n",
            "shap                               0.46.0\n",
            "shapely                            2.0.7\n",
            "shellingham                        1.5.4\n",
            "simple-parsing                     0.1.7\n",
            "simsimd                            6.2.1\n",
            "six                                1.17.0\n",
            "sklearn-compat                     0.1.3\n",
            "sklearn-pandas                     2.2.0\n",
            "slicer                             0.0.8\n",
            "smart-open                         7.1.0\n",
            "smmap                              5.0.2\n",
            "sniffio                            1.3.1\n",
            "snowballstemmer                    2.2.0\n",
            "soundfile                          0.13.1\n",
            "soupsieve                          2.6\n",
            "soxr                               0.5.0.post1\n",
            "spacy                              3.7.5\n",
            "spacy-legacy                       3.0.12\n",
            "spacy-loggers                      1.0.5\n",
            "spanner-graph-notebook             1.0.9\n",
            "Sphinx                             8.1.3\n",
            "sphinxcontrib-applehelp            2.0.0\n",
            "sphinxcontrib-devhelp              2.0.0\n",
            "sphinxcontrib-htmlhelp             2.1.0\n",
            "sphinxcontrib-jsmath               1.0.1\n",
            "sphinxcontrib-qthelp               2.0.0\n",
            "sphinxcontrib-serializinghtml      2.0.0\n",
            "SQLAlchemy                         2.0.37\n",
            "sqlglot                            25.6.1\n",
            "sqlparse                           0.5.3\n",
            "srsly                              2.5.1\n",
            "stanio                             0.5.1\n",
            "statsmodels                        0.14.4\n",
            "stringzilla                        3.11.3\n",
            "sympy                              1.13.1\n",
            "tables                             3.10.2\n",
            "tabulate                           0.9.0\n",
            "tbb                                2022.0.0\n",
            "tcmlib                             1.2.0\n",
            "tenacity                           9.0.0\n",
            "tensorboard                        2.18.0\n",
            "tensorboard-data-server            0.7.2\n",
            "tensorflow                         2.18.0\n",
            "tensorflow-datasets                4.9.7\n",
            "tensorflow-hub                     0.16.1\n",
            "tensorflow-io-gcs-filesystem       0.37.1\n",
            "tensorflow-metadata                1.16.1\n",
            "tensorflow-probability             0.25.0\n",
            "tensorflow-text                    2.18.1\n",
            "tensorstore                        0.1.71\n",
            "termcolor                          2.5.0\n",
            "terminado                          0.18.1\n",
            "text-unidecode                     1.3\n",
            "textblob                           0.19.0\n",
            "tf_keras                           2.18.0\n",
            "tf-slim                            1.1.0\n",
            "thinc                              8.2.5\n",
            "threadpoolctl                      3.5.0\n",
            "tifffile                           2025.1.10\n",
            "timm                               1.0.14\n",
            "tinycss2                           1.4.0\n",
            "tokenizers                         0.21.0\n",
            "toml                               0.10.2\n",
            "toolz                              0.12.1\n",
            "torch                              2.5.1+cu124\n",
            "torchaudio                         2.5.1+cu124\n",
            "torchsummary                       1.5.1\n",
            "torchvision                        0.20.1+cu124\n",
            "tornado                            6.4.2\n",
            "tqdm                               4.67.1\n",
            "traitlets                          5.7.1\n",
            "traittypes                         0.2.1\n",
            "transformers                       4.48.2\n",
            "triton                             3.1.0\n",
            "tweepy                             4.15.0\n",
            "typeguard                          4.4.1\n",
            "typer                              0.15.1\n",
            "types-pytz                         2025.1.0.20250204\n",
            "types-setuptools                   75.8.0.20250210\n",
            "typing_extensions                  4.12.2\n",
            "tzdata                             2025.1\n",
            "tzlocal                            5.2\n",
            "uc-micro-py                        1.0.3\n",
            "umf                                0.9.1\n",
            "uritemplate                        4.1.1\n",
            "urllib3                            2.3.0\n",
            "vega-datasets                      0.9.0\n",
            "wadllib                            1.3.6\n",
            "wandb                              0.19.6\n",
            "wasabi                             1.1.3\n",
            "wcwidth                            0.2.13\n",
            "weasel                             0.4.1\n",
            "webcolors                          24.11.1\n",
            "webencodings                       0.5.1\n",
            "websocket-client                   1.8.0\n",
            "websockets                         14.2\n",
            "Werkzeug                           3.1.3\n",
            "wheel                              0.45.1\n",
            "widgetsnbextension                 3.6.10\n",
            "wordcloud                          1.9.4\n",
            "wrapt                              1.17.2\n",
            "xarray                             2025.1.2\n",
            "xarray-einstats                    0.8.0\n",
            "xgboost                            2.1.3\n",
            "xlrd                               2.0.1\n",
            "xyzservices                        2025.1.0\n",
            "yarl                               1.18.3\n",
            "yellowbrick                        1.5\n",
            "yfinance                           0.2.52\n",
            "zipp                               3.21.0\n",
            "zstandard                          0.23.0\n"
          ]
        }
      ]
    },
    {
      "cell_type": "markdown",
      "source": [],
      "metadata": {
        "id": "AZudkIUbWPRu"
      }
    },
    {
      "cell_type": "markdown",
      "source": [
        "We can also install and manage packages using pip in the same way, however it is better to use the special `%pip` command as this will help ensure that everything works well with the Jupyter notebook environment."
      ],
      "metadata": {
        "id": "ioZ5sDI1Wzer"
      }
    },
    {
      "cell_type": "code",
      "source": [
        "# We can install PyTorch Geometric which will be used during the GNN tutorial\n",
        "%pip install torch_geometric"
      ],
      "metadata": {
        "colab": {
          "base_uri": "https://localhost:8080/"
        },
        "id": "ykmf-tvSWxX4",
        "outputId": "c7204770-bece-469b-8aad-a331410e352f"
      },
      "execution_count": null,
      "outputs": [
        {
          "output_type": "stream",
          "name": "stdout",
          "text": [
            "Collecting torch_geometric\n",
            "  Downloading torch_geometric-2.6.1-py3-none-any.whl.metadata (63 kB)\n",
            "\u001b[?25l     \u001b[90m━━━━━━━━━━━━━━━━━━━━━━━━━━━━━━━━━━━━━━━━\u001b[0m \u001b[32m0.0/63.1 kB\u001b[0m \u001b[31m?\u001b[0m eta \u001b[36m-:--:--\u001b[0m\r\u001b[2K     \u001b[90m━━━━━━━━━━━━━━━━━━━━━━━━━━━━━━━━━━━━━━━━\u001b[0m \u001b[32m63.1/63.1 kB\u001b[0m \u001b[31m1.8 MB/s\u001b[0m eta \u001b[36m0:00:00\u001b[0m\n",
            "\u001b[?25hRequirement already satisfied: aiohttp in /usr/local/lib/python3.11/dist-packages (from torch_geometric) (3.11.12)\n",
            "Requirement already satisfied: fsspec in /usr/local/lib/python3.11/dist-packages (from torch_geometric) (2024.10.0)\n",
            "Requirement already satisfied: jinja2 in /usr/local/lib/python3.11/dist-packages (from torch_geometric) (3.1.5)\n",
            "Requirement already satisfied: numpy in /usr/local/lib/python3.11/dist-packages (from torch_geometric) (1.26.4)\n",
            "Requirement already satisfied: psutil>=5.8.0 in /usr/local/lib/python3.11/dist-packages (from torch_geometric) (5.9.5)\n",
            "Requirement already satisfied: pyparsing in /usr/local/lib/python3.11/dist-packages (from torch_geometric) (3.2.1)\n",
            "Requirement already satisfied: requests in /usr/local/lib/python3.11/dist-packages (from torch_geometric) (2.32.3)\n",
            "Requirement already satisfied: tqdm in /usr/local/lib/python3.11/dist-packages (from torch_geometric) (4.67.1)\n",
            "Requirement already satisfied: aiohappyeyeballs>=2.3.0 in /usr/local/lib/python3.11/dist-packages (from aiohttp->torch_geometric) (2.4.4)\n",
            "Requirement already satisfied: aiosignal>=1.1.2 in /usr/local/lib/python3.11/dist-packages (from aiohttp->torch_geometric) (1.3.2)\n",
            "Requirement already satisfied: attrs>=17.3.0 in /usr/local/lib/python3.11/dist-packages (from aiohttp->torch_geometric) (25.1.0)\n",
            "Requirement already satisfied: frozenlist>=1.1.1 in /usr/local/lib/python3.11/dist-packages (from aiohttp->torch_geometric) (1.5.0)\n",
            "Requirement already satisfied: multidict<7.0,>=4.5 in /usr/local/lib/python3.11/dist-packages (from aiohttp->torch_geometric) (6.1.0)\n",
            "Requirement already satisfied: propcache>=0.2.0 in /usr/local/lib/python3.11/dist-packages (from aiohttp->torch_geometric) (0.2.1)\n",
            "Requirement already satisfied: yarl<2.0,>=1.17.0 in /usr/local/lib/python3.11/dist-packages (from aiohttp->torch_geometric) (1.18.3)\n",
            "Requirement already satisfied: MarkupSafe>=2.0 in /usr/local/lib/python3.11/dist-packages (from jinja2->torch_geometric) (3.0.2)\n",
            "Requirement already satisfied: charset-normalizer<4,>=2 in /usr/local/lib/python3.11/dist-packages (from requests->torch_geometric) (3.4.1)\n",
            "Requirement already satisfied: idna<4,>=2.5 in /usr/local/lib/python3.11/dist-packages (from requests->torch_geometric) (3.10)\n",
            "Requirement already satisfied: urllib3<3,>=1.21.1 in /usr/local/lib/python3.11/dist-packages (from requests->torch_geometric) (2.3.0)\n",
            "Requirement already satisfied: certifi>=2017.4.17 in /usr/local/lib/python3.11/dist-packages (from requests->torch_geometric) (2025.1.31)\n",
            "Downloading torch_geometric-2.6.1-py3-none-any.whl (1.1 MB)\n",
            "\u001b[2K   \u001b[90m━━━━━━━━━━━━━━━━━━━━━━━━━━━━━━━━━━━━━━━━\u001b[0m \u001b[32m1.1/1.1 MB\u001b[0m \u001b[31m18.2 MB/s\u001b[0m eta \u001b[36m0:00:00\u001b[0m\n",
            "\u001b[?25hInstalling collected packages: torch_geometric\n",
            "Successfully installed torch_geometric-2.6.1\n"
          ]
        }
      ]
    },
    {
      "cell_type": "markdown",
      "source": [
        "Often we are not interested in seeing the logging output of the install process, as it just clutters up our notebooks. We can use the `%%capture` cell \"magic\" command to disable output:"
      ],
      "metadata": {
        "id": "jz3pMNFsc170"
      }
    },
    {
      "cell_type": "code",
      "source": [
        "%%capture\n",
        "%pip install torch_geometric"
      ],
      "metadata": {
        "id": "4yXlP7v3c0CV"
      },
      "execution_count": null,
      "outputs": []
    },
    {
      "cell_type": "markdown",
      "source": [
        "### Getting Setup on your Local Workstation\n",
        "We will now see how to setup an environment on your local workstation. First, we will install `conda`. If you do not have a version of `conda` installed already follow the [official instructions](https://docs.anaconda.com/miniconda/install/) to install Miniconda3. **NOTE** To avoid interfering with the Colab or Jupyter environment, the following code snippets are not executable.\n",
        "\n",
        "For example, to install on Linux, we can copy the quick-install command provided by Miniconda:\n",
        "```bash\n",
        "mkdir -p ~/miniconda3\n",
        "wget https://repo.anaconda.com/miniconda/Miniconda3-latest-Linux-x86_64.sh -O ~/miniconda3/miniconda.sh\n",
        "bash ~/miniconda3/miniconda.sh -b -u -p ~/miniconda3\n",
        "rm ~/miniconda3/miniconda.sh\n",
        "```\n",
        "\n",
        "Then we can activate the environment for the first time, and configure it to activate automatically in future terminal sessions:\n",
        "```bash\n",
        "source ~/miniconda3/bin/activate\n",
        "conda init --all\n",
        "```\n",
        "\n",
        "Next we can create a new environment for this project:\n",
        "```bash\n",
        "conda create -n gnn python=3.11\n",
        "```\n",
        "This will create a new conda environment called `gnn` using Python 3.11. We can then activate the environment and install any packages without interfering with other projects.\n",
        "```bash\n",
        "conda activate gnn\n",
        "```\n",
        "\n",
        "\n"
      ],
      "metadata": {
        "id": "KGcPPGBsMZXU"
      }
    },
    {
      "cell_type": "markdown",
      "source": [
        "It is good practice to keep track of the packages required by your code using a `requirements.txt` file. This file lists each pip package (and optionally versions) required on a separate line. For example, we can define a requirements file for the GNN tutorial like this:\n",
        "\n",
        "```\n",
        "# requirements.txt\n",
        "emmet\n",
        "matplotlib\n",
        "mp-api\n",
        "networkx\n",
        "numpy\n",
        "pymatgen\n",
        "scikit-learn\n",
        "torch\n",
        "torch_geometric\n",
        "```\n",
        "\n",
        "Then, we can install in our conda environment (after running `conda activate gnn`) with the following command:\n",
        "```bash\n",
        "pip install -r requirements.txt\n",
        "```"
      ],
      "metadata": {
        "id": "HslDoifsuvt3"
      }
    },
    {
      "cell_type": "markdown",
      "source": [
        "## Python Basics"
      ],
      "metadata": {
        "id": "ZF4vjkslMk0a"
      }
    },
    {
      "cell_type": "markdown",
      "source": [
        "### Importing Modules\n",
        "One of the hallmarks of Python is its module system. Python makes it very easy to load and use code libraries. Some libraries are built-in, while others need to be installed from a third party. Furthermore, it is possible to break your code up into multiple files, and \"import\" code from another file.\n"
      ],
      "metadata": {
        "id": "LNDhPq75Mm8g"
      }
    },
    {
      "cell_type": "code",
      "source": [
        "import numpy as np  # here we import the third party libary \"numpy\" under the alias \"np\"\n",
        "import torch\n",
        "\n",
        "# math is a built-in library\n",
        "from math import sin # we can import specific functions using \"from ... import ...\"\n",
        "\n",
        "np.sum([0, 1, 2]), sin(np.pi / 2), torch.rand(1)  # we can now use functionality from numpy, torch, or the \"sin\" function from \"math\""
      ],
      "metadata": {
        "colab": {
          "base_uri": "https://localhost:8080/"
        },
        "id": "G7W4ik4FjtDA",
        "outputId": "06034d00-22e6-42b9-f70e-4d744582bc98"
      },
      "execution_count": null,
      "outputs": [
        {
          "output_type": "execute_result",
          "data": {
            "text/plain": [
              "(3, 1.0, tensor([0.6108]))"
            ]
          },
          "metadata": {},
          "execution_count": 4
        }
      ]
    },
    {
      "cell_type": "markdown",
      "source": [
        "Python will first check the current directory for a matching file, then it will check the installed libraries and built-ins."
      ],
      "metadata": {
        "id": "q52frnQ6kARU"
      }
    },
    {
      "cell_type": "markdown",
      "source": [
        "\n",
        "\n",
        "### Variables and Data Types\n",
        "Like other programming languages, Python allows us to create and store data in **variables**. It is important to think of a variable as a **container** for data. The data itself can exist even without the variable, or be referenced by multiple containers. Understanding this concept will help you avoid many common bugs in your code.\n",
        "\n",
        "In Python, everything is an _object_ which can store data and contain methods which act on the data. This means that there are **no primitive types** in Python. Moreover, Python uses the concept of **duck typing** (\"if it quacks like a duck then it's a duck\"). This means that programs in general should not depend on receiving specific types, but rather depend on objects implementing specific methods. We will see that many built-in functions in Python follow this idea.\n",
        "\n",
        "We can create variables to hold some of the common data types in python as follows:"
      ],
      "metadata": {
        "id": "33dK9le7Mp43"
      }
    },
    {
      "cell_type": "code",
      "source": [
        "a = 5  # Number, specifically an integer\n",
        "b = 3.14  # Number, specifically a float\n",
        "c = \"hello world\"  # String\n",
        "d = 'a'  # Also a string, Python does not have \"char\"\n",
        "e = [\"a\", \"list\", \"of\", \"strings\"]  # Lists uses square brackets [ ]\n",
        "f = [1, 3.14, \"string\"]  # lists can mix different types (each entry is just a \"container\")\n",
        "g = True  # A boolean takes the values True / False\n",
        "h = None  # Used similarily to \"null\" in other languages\n",
        "i = { \"Drew\": 28, \"Jama\": None}\n",
        "type(a), type(b), type(c), type(d), type(e), type(f), type(g), type(h), type(i)"
      ],
      "metadata": {
        "colab": {
          "base_uri": "https://localhost:8080/"
        },
        "id": "qdCSsEAFMqUz",
        "outputId": "c2c44bc1-a7e2-4754-a374-658eea62be23"
      },
      "execution_count": null,
      "outputs": [
        {
          "output_type": "execute_result",
          "data": {
            "text/plain": [
              "(int, float, str, str, list, list, bool, NoneType, dict)"
            ]
          },
          "metadata": {},
          "execution_count": 5
        }
      ]
    },
    {
      "cell_type": "markdown",
      "source": [
        "By convention we use `snake_case` for variable names in Python.\n",
        "\n",
        "Observe that we never \"declared\" the type of our variables. This is because Python is not a strictly typed language. We can even assign different types to a variable throughout the program. Sometimes this is useful, but often it can harm the readability of our programs."
      ],
      "metadata": {
        "id": "gpkzFd95tZTG"
      }
    },
    {
      "cell_type": "code",
      "source": [
        "a = \"yikes\"  # now the variable `a` holds a string instead of an integer\n",
        "type(a)"
      ],
      "metadata": {
        "colab": {
          "base_uri": "https://localhost:8080/"
        },
        "id": "CkcNo24ItYkP",
        "outputId": "6586b66b-2260-4b76-9e06-7a45ec5ee9f8"
      },
      "execution_count": null,
      "outputs": [
        {
          "output_type": "execute_result",
          "data": {
            "text/plain": [
              "str"
            ]
          },
          "metadata": {},
          "execution_count": 6
        }
      ]
    },
    {
      "cell_type": "markdown",
      "source": [
        "Since Python 3.5, it is possible to include type hints for variables. These are used to improve readbility and help the IDE with autocomplete, but they are not (usually) enforced at runtime."
      ],
      "metadata": {
        "id": "XSzWGbHzuBHs"
      }
    },
    {
      "cell_type": "code",
      "source": [
        "a: int = 5"
      ],
      "metadata": {
        "id": "kqFjKboYuAXi"
      },
      "execution_count": null,
      "outputs": []
    },
    {
      "cell_type": "markdown",
      "source": [
        "\n",
        "### Basic Operations\n",
        "Python supports basic arithmetic operations on numbers."
      ],
      "metadata": {
        "id": "jZGaffztMr3-"
      }
    },
    {
      "cell_type": "code",
      "source": [
        "a = 1\n",
        "b = 3\n",
        "c = a + b  # adding integers produces an integer\n",
        "c, type(c)"
      ],
      "metadata": {
        "colab": {
          "base_uri": "https://localhost:8080/"
        },
        "id": "NGyaiUA_Msmq",
        "outputId": "982fd356-661b-4893-8fc9-9de1efdc52fa"
      },
      "execution_count": null,
      "outputs": [
        {
          "output_type": "execute_result",
          "data": {
            "text/plain": [
              "(4, int)"
            ]
          },
          "metadata": {},
          "execution_count": 7
        }
      ]
    },
    {
      "cell_type": "code",
      "source": [
        "a = 1.5\n",
        "b = 4\n",
        "c = b - a # operations with floats produce a float\n",
        "c, type(c)"
      ],
      "metadata": {
        "colab": {
          "base_uri": "https://localhost:8080/"
        },
        "id": "bhVeJdbB1KiP",
        "outputId": "50673a98-9871-4f34-b1df-8f9c4360d885"
      },
      "execution_count": null,
      "outputs": [
        {
          "output_type": "execute_result",
          "data": {
            "text/plain": [
              "(2.5, float)"
            ]
          },
          "metadata": {},
          "execution_count": 8
        }
      ]
    },
    {
      "cell_type": "code",
      "source": [
        "a = 7\n",
        "b = 3\n",
        "c = a / b  # division of integers will naturually produce a float\n",
        "c, type(c)"
      ],
      "metadata": {
        "colab": {
          "base_uri": "https://localhost:8080/"
        },
        "id": "whYOXA_01VNt",
        "outputId": "e60c1850-6cf2-4246-dcea-e1df2f88d9f7"
      },
      "execution_count": null,
      "outputs": [
        {
          "output_type": "execute_result",
          "data": {
            "text/plain": [
              "(2.3333333333333335, float)"
            ]
          },
          "metadata": {},
          "execution_count": 9
        }
      ]
    },
    {
      "cell_type": "code",
      "source": [
        "a = 7\n",
        "b = 3\n",
        "c = a // b # we can do floored division using the // symbol\n",
        "c, type(c)"
      ],
      "metadata": {
        "colab": {
          "base_uri": "https://localhost:8080/"
        },
        "id": "Bd4vLEVK1b6k",
        "outputId": "305fce8b-6519-4100-844d-7ebb4fa9982e"
      },
      "execution_count": null,
      "outputs": [
        {
          "output_type": "execute_result",
          "data": {
            "text/plain": [
              "(2, int)"
            ]
          },
          "metadata": {},
          "execution_count": 10
        }
      ]
    },
    {
      "cell_type": "code",
      "source": [
        "a = 6\n",
        "b = 8\n",
        "c = a * b  # multiplication uses the * symbol\n",
        "c, type(c)"
      ],
      "metadata": {
        "colab": {
          "base_uri": "https://localhost:8080/"
        },
        "id": "y9-vhPJZ1hUV",
        "outputId": "91852301-de6d-42d2-c822-afe546b074ac"
      },
      "execution_count": null,
      "outputs": [
        {
          "output_type": "execute_result",
          "data": {
            "text/plain": [
              "(48, int)"
            ]
          },
          "metadata": {},
          "execution_count": 11
        }
      ]
    },
    {
      "cell_type": "code",
      "source": [
        "a = 2\n",
        "b = 4\n",
        "c = a ** b # exponentiation uses the ** symbol\n",
        "c"
      ],
      "metadata": {
        "colab": {
          "base_uri": "https://localhost:8080/"
        },
        "id": "rZGk6ZvM1sY2",
        "outputId": "8c621648-9e7e-4c53-8c0e-b9344c25f766"
      },
      "execution_count": null,
      "outputs": [
        {
          "output_type": "execute_result",
          "data": {
            "text/plain": [
              "16"
            ]
          },
          "metadata": {},
          "execution_count": 12
        }
      ]
    },
    {
      "cell_type": "markdown",
      "source": [
        "**NOTE** Python also implements a `^` symbol, but this performs bit-wise XOR not exponentiation"
      ],
      "metadata": {
        "id": "LZUADDan1zlj"
      }
    },
    {
      "cell_type": "code",
      "source": [
        "a ^ b"
      ],
      "metadata": {
        "colab": {
          "base_uri": "https://localhost:8080/"
        },
        "id": "Ipih5mKr1y1C",
        "outputId": "0ed7f9ec-c0ea-4117-f153-7b7ea03ded08"
      },
      "execution_count": null,
      "outputs": [
        {
          "output_type": "execute_result",
          "data": {
            "text/plain": [
              "6"
            ]
          },
          "metadata": {},
          "execution_count": 13
        }
      ]
    },
    {
      "cell_type": "markdown",
      "source": [
        "The mod / remainder operator is implement using the `%` symbol:"
      ],
      "metadata": {
        "id": "-jxd2_W02SEl"
      }
    },
    {
      "cell_type": "code",
      "source": [
        "a = 10\n",
        "b = 3\n",
        "c = a % b  # 10 mod 3\n",
        "c"
      ],
      "metadata": {
        "colab": {
          "base_uri": "https://localhost:8080/"
        },
        "id": "4csXvrrV2bDK",
        "outputId": "71799090-caf0-4a3f-ba8d-0e5e96f875e1"
      },
      "execution_count": null,
      "outputs": [
        {
          "output_type": "execute_result",
          "data": {
            "text/plain": [
              "1"
            ]
          },
          "metadata": {},
          "execution_count": 14
        }
      ]
    },
    {
      "cell_type": "markdown",
      "source": [
        "Python also allows us to define numbers in scientific notation, hexadecimal, or binary:"
      ],
      "metadata": {
        "id": "f5WiMdSm2j0H"
      }
    },
    {
      "cell_type": "code",
      "source": [
        "a = 1880  # standard notation\n",
        "a = 1_880 # we can separate thousands with an _ for readability\n",
        "b = 1.88e3  # scientific notation\n",
        "c = 0b11101011000 # in binary\n",
        "d = 0x758 # in hexadecimal\n",
        "a == b == c == d"
      ],
      "metadata": {
        "colab": {
          "base_uri": "https://localhost:8080/"
        },
        "id": "DL2tuIxA2i-1",
        "outputId": "521c2e4f-f7b2-46ef-aa8a-74a0423ae912"
      },
      "execution_count": null,
      "outputs": [
        {
          "output_type": "execute_result",
          "data": {
            "text/plain": [
              "True"
            ]
          },
          "metadata": {},
          "execution_count": 15
        }
      ]
    },
    {
      "cell_type": "markdown",
      "source": [
        "\n",
        "### Flow Control and Loops\n",
        "Python provides several structures for flow control, but perhaps not as many as some other languages.\n",
        "\n",
        "The most basic structure is conditional execution of code with `if` statements."
      ],
      "metadata": {
        "id": "zoDsuDgbMt7r"
      }
    },
    {
      "cell_type": "code",
      "source": [
        "# Absolute value\n",
        "x = 32\n",
        "if x >= 0:\n",
        "  y = x\n",
        "else:\n",
        "  y = -x\n",
        "y"
      ],
      "metadata": {
        "colab": {
          "base_uri": "https://localhost:8080/"
        },
        "id": "E-ZY059bMuVv",
        "outputId": "14236d92-affe-4e67-bf16-3ecce554bbcd"
      },
      "execution_count": null,
      "outputs": [
        {
          "output_type": "execute_result",
          "data": {
            "text/plain": [
              "32"
            ]
          },
          "metadata": {},
          "execution_count": 16
        }
      ]
    },
    {
      "cell_type": "code",
      "source": [
        "# Absolute value\n",
        "x = -16\n",
        "if x >= 0:\n",
        "  y = x\n",
        "else:\n",
        "  y = -x\n",
        "y"
      ],
      "metadata": {
        "colab": {
          "base_uri": "https://localhost:8080/"
        },
        "id": "g6O_4-vVNgvi",
        "outputId": "eecb498f-227c-4d6c-a0f0-42ae109f97b7"
      },
      "execution_count": null,
      "outputs": [
        {
          "output_type": "execute_result",
          "data": {
            "text/plain": [
              "16"
            ]
          },
          "metadata": {},
          "execution_count": 17
        }
      ]
    },
    {
      "cell_type": "code",
      "source": [
        "animal = 'dog'\n",
        "if animal == 'cat':\n",
        "  print('Meow!')\n",
        "elif animal == 'dog':\n",
        "  print('Bark!')\n",
        "elif animal == 'frog':\n",
        "  print('Ribbit!')\n",
        "else:\n",
        "  print('Grrr...')"
      ],
      "metadata": {
        "colab": {
          "base_uri": "https://localhost:8080/"
        },
        "id": "RaRLUjw_No8o",
        "outputId": "6aee9ff9-3503-4102-e88d-5af17d2841f3"
      },
      "execution_count": null,
      "outputs": [
        {
          "output_type": "stream",
          "name": "stdout",
          "text": [
            "Bark!\n"
          ]
        }
      ]
    },
    {
      "cell_type": "markdown",
      "source": [
        "Note that with the `if-elif-else` construction, _exactly_ one block is executed.\n",
        "\n",
        "Another useful flow control structure are loops. Python has \"foreach\" loops and \"while\" loops."
      ],
      "metadata": {
        "id": "Eirg3U6-N0YX"
      }
    },
    {
      "cell_type": "code",
      "source": [
        "names = [\"drew\", \"jama\", \"ameer\", \"mehdi\",]\n",
        "for name in names:  # iterate over ever item in the list\n",
        "  print(\"hello\", name.capitalize())"
      ],
      "metadata": {
        "colab": {
          "base_uri": "https://localhost:8080/"
        },
        "id": "qKLO35S8ZUY3",
        "outputId": "45376e0e-a7f9-4521-a1fa-c45e8bbaba8b"
      },
      "execution_count": null,
      "outputs": [
        {
          "output_type": "stream",
          "name": "stdout",
          "text": [
            "hello Drew\n",
            "hello Jama\n",
            "hello Ameer\n",
            "hello Mehdi\n"
          ]
        }
      ]
    },
    {
      "cell_type": "markdown",
      "source": [
        "There is no `for (int i=0; i < 6; i++)` like structure in Python. Instead, the idiomatic way to do this kind of for loop is:"
      ],
      "metadata": {
        "id": "M26C6p7lZjpn"
      }
    },
    {
      "cell_type": "code",
      "source": [
        "for i in range(6):\n",
        "  print(i)"
      ],
      "metadata": {
        "colab": {
          "base_uri": "https://localhost:8080/"
        },
        "id": "XEYA6_fwZico",
        "outputId": "f427ca24-f2d5-42e9-b384-5033a7fb145a"
      },
      "execution_count": null,
      "outputs": [
        {
          "output_type": "stream",
          "name": "stdout",
          "text": [
            "0\n",
            "1\n",
            "2\n",
            "3\n",
            "4\n",
            "5\n"
          ]
        }
      ]
    },
    {
      "cell_type": "markdown",
      "source": [
        "Even better though, we can use the `enumerate` function:"
      ],
      "metadata": {
        "id": "vk7lspUwaNeU"
      }
    },
    {
      "cell_type": "code",
      "source": [
        "for i, name in enumerate(names):\n",
        "  print(\"Hello\", name.capitalize(), \"you're number\", i)"
      ],
      "metadata": {
        "colab": {
          "base_uri": "https://localhost:8080/"
        },
        "id": "mkmnO9O4aL5b",
        "outputId": "c9f92645-2cf7-4264-c138-06b23da74c7a"
      },
      "execution_count": null,
      "outputs": [
        {
          "output_type": "stream",
          "name": "stdout",
          "text": [
            "Hello Drew you're number 0\n",
            "Hello Jama you're number 1\n",
            "Hello Ameer you're number 2\n",
            "Hello Mehdi you're number 3\n"
          ]
        }
      ]
    },
    {
      "cell_type": "markdown",
      "source": [
        "We can also execute a block of code repeatedly as long as a condition is true:"
      ],
      "metadata": {
        "id": "MoooNkSJaa6t"
      }
    },
    {
      "cell_type": "code",
      "source": [
        "names = [\"drew\", \"jama\", \"ameer\", \"mehdi\",]\n",
        "while len(names) > 0:\n",
        "  print(names.pop(), len(names))  # remove and return the last element of `names`"
      ],
      "metadata": {
        "colab": {
          "base_uri": "https://localhost:8080/"
        },
        "id": "VX38fu7GaacJ",
        "outputId": "3b97dd99-4a01-4854-e682-b0a4afe1451a"
      },
      "execution_count": null,
      "outputs": [
        {
          "output_type": "stream",
          "name": "stdout",
          "text": [
            "mehdi 3\n",
            "ameer 2\n",
            "jama 1\n",
            "drew 0\n"
          ]
        }
      ]
    },
    {
      "cell_type": "markdown",
      "source": [
        "\n",
        "### Defining Functions\n",
        "\n",
        "Often, we want to reuse code. We can do this by defining functions which accept some parameters, and return some result."
      ],
      "metadata": {
        "id": "oQBEpzdqMvon"
      }
    },
    {
      "cell_type": "code",
      "source": [
        "def square(x):\n",
        "  return x * x\n",
        "\n",
        "for i in range(10):\n",
        "  print(i, '->', square(i))"
      ],
      "metadata": {
        "colab": {
          "base_uri": "https://localhost:8080/"
        },
        "id": "qY8vMHfXa83B",
        "outputId": "22438435-4898-4bcc-e5ff-95216fec7dd4"
      },
      "execution_count": null,
      "outputs": [
        {
          "output_type": "stream",
          "name": "stdout",
          "text": [
            "0 -> 0\n",
            "1 -> 1\n",
            "2 -> 4\n",
            "3 -> 9\n",
            "4 -> 16\n",
            "5 -> 25\n",
            "6 -> 36\n",
            "7 -> 49\n",
            "8 -> 64\n",
            "9 -> 81\n"
          ]
        }
      ]
    },
    {
      "cell_type": "markdown",
      "source": [
        "Functions can take both positional and keyword arguments:"
      ],
      "metadata": {
        "id": "PUBRX83ybHT4"
      }
    },
    {
      "cell_type": "code",
      "source": [
        "def power(x, p=1):\n",
        "  return x ** p\n",
        "\n",
        "x = 2\n",
        "for i in range(4):\n",
        "  print(power(x, p=i))"
      ],
      "metadata": {
        "colab": {
          "base_uri": "https://localhost:8080/"
        },
        "id": "c-St239ebFot",
        "outputId": "328b1067-dee0-4ee6-e2ed-902cc13b3607"
      },
      "execution_count": null,
      "outputs": [
        {
          "output_type": "stream",
          "name": "stdout",
          "text": [
            "1\n",
            "2\n",
            "4\n",
            "8\n"
          ]
        }
      ]
    },
    {
      "cell_type": "markdown",
      "source": [
        "It is also possible to define anonymous functions called \"lambda functions\":"
      ],
      "metadata": {
        "id": "lwCcfTjzg_Vl"
      }
    },
    {
      "cell_type": "code",
      "source": [
        "x = [-3, 4, 12, -2, 8, 0, 1, 7]\n",
        "sorted(x, key=lambda x: abs(x)) # sort by absolute value"
      ],
      "metadata": {
        "colab": {
          "base_uri": "https://localhost:8080/"
        },
        "id": "GCxDXwChg-Q9",
        "outputId": "4b042697-5539-491f-8ae3-8cdab6491fb0"
      },
      "execution_count": null,
      "outputs": [
        {
          "output_type": "execute_result",
          "data": {
            "text/plain": [
              "[0, 1, -2, -3, 4, 7, 8, 12]"
            ]
          },
          "metadata": {},
          "execution_count": 26
        }
      ]
    },
    {
      "cell_type": "markdown",
      "source": [
        "\n",
        "### Defining Classes\n",
        "Classes are custom objects. They group together data, and methods which operate on the data. They are an execellent way to improve the readability and reuseability of your code. We will use custom classes all the time in PyTorch to define new models:"
      ],
      "metadata": {
        "id": "xdYGNqPbMy-P"
      }
    },
    {
      "cell_type": "code",
      "source": [
        "from torch import nn\n",
        "\n",
        "class CustomModel(nn.Module):  # we \"inherit\" from Module, meaning we reuse it's functionality\n",
        "\n",
        "  def __init__(self, in_size, out_size): # the __init__ method serves to initialize a new instance, like a constructor\n",
        "    # \"super\" allows us to call methods from the base implementation, in this case nn.Module\n",
        "    super().__init__()\n",
        "\n",
        "    # self is a special parameter which references the current instance, here\n",
        "    # we use it to store custom data on the instance\n",
        "    self.in_size = in_size\n",
        "    self.out_size = out_size\n",
        "\n",
        "    self.fc = nn.Linear(in_size, out_size)\n",
        "    self.act = nn.ReLU()\n",
        "\n",
        "  # \"forward\" is a method which is expected by nn.Module\n",
        "  def forward(self, x):\n",
        "    # We can access the data or methods of the module with `self.`\n",
        "    x = self.fc(x)\n",
        "    x = self.act(x)\n",
        "\n",
        "    return x\n"
      ],
      "metadata": {
        "id": "T6x9zE5UMzb1"
      },
      "execution_count": null,
      "outputs": []
    },
    {
      "cell_type": "markdown",
      "source": [
        "\n",
        "\n",
        "### Some Other Features"
      ],
      "metadata": {
        "id": "Ed4S7KuCM0iR"
      }
    },
    {
      "cell_type": "markdown",
      "source": [
        "Like most languages, it is possible for operations to raise errors when they encounter unexpected inputs or other issues. We can wrap code which might raise errors in a `try` clause and then catch them with `except`. This allows us to write code which handles errors gracefully."
      ],
      "metadata": {
        "id": "yg6jMr4KCk42"
      }
    },
    {
      "cell_type": "code",
      "source": [
        "try:\n",
        "  x = 10 / 0\n",
        "except ZeroDivisionError:\n",
        "  print(\"Opps, can't divide by 0...\")\n",
        "  x = 0\n",
        "except:\n",
        "  print(\"something went wrong\")\n",
        "  x = -1\n",
        "x  # the value of x is now 0"
      ],
      "metadata": {
        "colab": {
          "base_uri": "https://localhost:8080/"
        },
        "id": "gWMP34RZM1Cl",
        "outputId": "b4ddb1c3-5320-4cfe-8e0e-f00b6ced547c"
      },
      "execution_count": null,
      "outputs": [
        {
          "output_type": "stream",
          "name": "stdout",
          "text": [
            "Opps, can't divide by 0...\n"
          ]
        },
        {
          "output_type": "execute_result",
          "data": {
            "text/plain": [
              "0"
            ]
          },
          "metadata": {},
          "execution_count": 28
        }
      ]
    },
    {
      "cell_type": "markdown",
      "source": [
        "Python natively supports the idea of \"context managers.\" This allows us to execute some specific code at the beginning of a block of code, and again when the program leaves the block of code (regardless of any errors thrown):"
      ],
      "metadata": {
        "id": "DRVWbOr5DYTG"
      }
    },
    {
      "cell_type": "code",
      "source": [
        "with open('/content/sample_data/README.md') as f:  # some code is run here, and the result is provided in the variable \"f\"\n",
        "  txt = f.readline()\n",
        "\n",
        "# some exit logic is run implicitly here\n",
        "\n",
        "print(txt)"
      ],
      "metadata": {
        "colab": {
          "base_uri": "https://localhost:8080/"
        },
        "id": "C2gCQ33UDVhV",
        "outputId": "e53549b7-6ab9-46a0-8aeb-82434c4201c3"
      },
      "execution_count": null,
      "outputs": [
        {
          "output_type": "stream",
          "name": "stdout",
          "text": [
            "This directory includes a few sample datasets to get you started.\n",
            "\n"
          ]
        }
      ]
    },
    {
      "cell_type": "markdown",
      "source": [
        "In this case, upon entering the `with` context, we open the specified file and return a reference to the file object in the variable `f`. When we leave the `with` context, `f.close()` will be called automatically.\n",
        "\n",
        "We will see this `with` pattern commonly in PyTorch as:\n",
        "```python\n",
        "with torch.no_grad():  # gradient computation is disabled, which saves memory\n",
        "  model.eval()\n",
        "  ... # evaluate our model\n",
        "# gradient computation is now re-enabled (if it was enabled before entering the block)\n",
        "```\n",
        "\n",
        "Internally, the `with` context works by calling the `__enter__` and `__exit__` methods on the object pass to it. This means that you can define your own custom context managers by implementing these methods on your class."
      ],
      "metadata": {
        "id": "XadegJ31EE4v"
      }
    },
    {
      "cell_type": "markdown",
      "source": [
        "\n",
        "\n",
        "### Numpy and PyTorch\n",
        "Numpy and PyTorch are too very useful libraries used in machine learning.\n",
        "\n",
        "Numpy implements \"arrays\" which are a more efficient, and multi-dimensional form of list. In addition it defines many useful math operations.\n"
      ],
      "metadata": {
        "id": "u5M48aB9M1y4"
      }
    },
    {
      "cell_type": "code",
      "source": [
        "# First we make sure numpy is imported\n",
        "import numpy as np"
      ],
      "metadata": {
        "id": "r-lOcJPilmNS"
      },
      "execution_count": null,
      "outputs": []
    },
    {
      "cell_type": "code",
      "source": [
        "x = np.zeros((6, 6)) # we can create a 6x6 matrix of zeros\n",
        "x"
      ],
      "metadata": {
        "colab": {
          "base_uri": "https://localhost:8080/"
        },
        "id": "BzSCgFtUlpzh",
        "outputId": "6ecfd572-9be9-4ec2-cf8c-f4438f52f06d"
      },
      "execution_count": null,
      "outputs": [
        {
          "output_type": "execute_result",
          "data": {
            "text/plain": [
              "array([[0., 0., 0., 0., 0., 0.],\n",
              "       [0., 0., 0., 0., 0., 0.],\n",
              "       [0., 0., 0., 0., 0., 0.],\n",
              "       [0., 0., 0., 0., 0., 0.],\n",
              "       [0., 0., 0., 0., 0., 0.],\n",
              "       [0., 0., 0., 0., 0., 0.]])"
            ]
          },
          "metadata": {},
          "execution_count": 32
        }
      ]
    },
    {
      "cell_type": "code",
      "source": [
        "x.shape, x.dtype # the shape is 6 rows, by 6 columns, the data type is 64-bit float by default"
      ],
      "metadata": {
        "colab": {
          "base_uri": "https://localhost:8080/"
        },
        "id": "pE3oHEutlx1p",
        "outputId": "77959831-95fb-4bfc-eb72-cfcf61051edc"
      },
      "execution_count": null,
      "outputs": [
        {
          "output_type": "execute_result",
          "data": {
            "text/plain": [
              "((6, 6), dtype('float64'))"
            ]
          },
          "metadata": {},
          "execution_count": 33
        }
      ]
    },
    {
      "cell_type": "code",
      "source": [
        "x = np.ones((3, 8, 8)) # we are not limited to 2 dimensional arrays...\n",
        "x"
      ],
      "metadata": {
        "colab": {
          "base_uri": "https://localhost:8080/"
        },
        "id": "ap7g5pcPl4zP",
        "outputId": "e7253a06-3e6f-4fd9-f394-1ca72cfdcf1f"
      },
      "execution_count": null,
      "outputs": [
        {
          "output_type": "execute_result",
          "data": {
            "text/plain": [
              "array([[[1., 1., 1., 1., 1., 1., 1., 1.],\n",
              "        [1., 1., 1., 1., 1., 1., 1., 1.],\n",
              "        [1., 1., 1., 1., 1., 1., 1., 1.],\n",
              "        [1., 1., 1., 1., 1., 1., 1., 1.],\n",
              "        [1., 1., 1., 1., 1., 1., 1., 1.],\n",
              "        [1., 1., 1., 1., 1., 1., 1., 1.],\n",
              "        [1., 1., 1., 1., 1., 1., 1., 1.],\n",
              "        [1., 1., 1., 1., 1., 1., 1., 1.]],\n",
              "\n",
              "       [[1., 1., 1., 1., 1., 1., 1., 1.],\n",
              "        [1., 1., 1., 1., 1., 1., 1., 1.],\n",
              "        [1., 1., 1., 1., 1., 1., 1., 1.],\n",
              "        [1., 1., 1., 1., 1., 1., 1., 1.],\n",
              "        [1., 1., 1., 1., 1., 1., 1., 1.],\n",
              "        [1., 1., 1., 1., 1., 1., 1., 1.],\n",
              "        [1., 1., 1., 1., 1., 1., 1., 1.],\n",
              "        [1., 1., 1., 1., 1., 1., 1., 1.]],\n",
              "\n",
              "       [[1., 1., 1., 1., 1., 1., 1., 1.],\n",
              "        [1., 1., 1., 1., 1., 1., 1., 1.],\n",
              "        [1., 1., 1., 1., 1., 1., 1., 1.],\n",
              "        [1., 1., 1., 1., 1., 1., 1., 1.],\n",
              "        [1., 1., 1., 1., 1., 1., 1., 1.],\n",
              "        [1., 1., 1., 1., 1., 1., 1., 1.],\n",
              "        [1., 1., 1., 1., 1., 1., 1., 1.],\n",
              "        [1., 1., 1., 1., 1., 1., 1., 1.]]])"
            ]
          },
          "metadata": {},
          "execution_count": 33
        }
      ]
    },
    {
      "cell_type": "code",
      "source": [
        "x = np.random.rand(3, 4, 4) # creates a 3x4x4 array of random numbers between [0, 1]\n",
        "x"
      ],
      "metadata": {
        "colab": {
          "base_uri": "https://localhost:8080/"
        },
        "id": "db9AR2-2mAwn",
        "outputId": "6921749d-1691-43de-b732-3d8a5ab9850b"
      },
      "execution_count": null,
      "outputs": [
        {
          "output_type": "execute_result",
          "data": {
            "text/plain": [
              "array([[[0.45332707, 0.87913782, 0.7525274 , 0.53696492],\n",
              "        [0.34877662, 0.15144237, 0.579431  , 0.90932915],\n",
              "        [0.73254163, 0.43978424, 0.98839531, 0.32208989],\n",
              "        [0.33828115, 0.14894458, 0.19692988, 0.17602081]],\n",
              "\n",
              "       [[0.16872818, 0.97280371, 0.53619607, 0.77044525],\n",
              "        [0.33664915, 0.01134832, 0.87576268, 0.76654076],\n",
              "        [0.61105245, 0.99021261, 0.85370909, 0.55973741],\n",
              "        [0.9660159 , 0.55608984, 0.29727331, 0.06005138]],\n",
              "\n",
              "       [[0.09227107, 0.09683557, 0.3737085 , 0.81047916],\n",
              "        [0.09499326, 0.58141306, 0.28238224, 0.12204229],\n",
              "        [0.77462464, 0.47719523, 0.23991498, 0.17722404],\n",
              "        [0.09535425, 0.12413666, 0.95909546, 0.5533829 ]]])"
            ]
          },
          "metadata": {},
          "execution_count": 34
        }
      ]
    },
    {
      "cell_type": "code",
      "source": [
        "y = x.sum(axis=0) # sum along the first axis (3 elements)\n",
        "y.shape, y"
      ],
      "metadata": {
        "colab": {
          "base_uri": "https://localhost:8080/"
        },
        "id": "jtovuzifmQR1",
        "outputId": "ed6b3dbb-4862-4c30-8226-701fc87213e8"
      },
      "execution_count": null,
      "outputs": [
        {
          "output_type": "execute_result",
          "data": {
            "text/plain": [
              "((4, 4),\n",
              " array([[0.71432631, 1.9487771 , 1.66243197, 2.11788933],\n",
              "        [0.78041903, 0.74420376, 1.73757591, 1.79791219],\n",
              "        [2.11821872, 1.90719208, 2.08201938, 1.05905133],\n",
              "        [1.39965131, 0.82917109, 1.45329865, 0.7894551 ]]))"
            ]
          },
          "metadata": {},
          "execution_count": 35
        }
      ]
    },
    {
      "cell_type": "code",
      "source": [
        "x.mean() # return the average value over all elements, we'd expect this to be close to 0.5"
      ],
      "metadata": {
        "colab": {
          "base_uri": "https://localhost:8080/"
        },
        "id": "FQqwNBY1mYXx",
        "outputId": "e845f599-617c-4945-e5ee-851b35d30593"
      },
      "execution_count": null,
      "outputs": [
        {
          "output_type": "execute_result",
          "data": {
            "text/plain": [
              "0.482116526002723"
            ]
          },
          "metadata": {},
          "execution_count": 36
        }
      ]
    },
    {
      "cell_type": "markdown",
      "source": [
        "Numpy (and PyTorch) both support advanced indexing for arrays / tensors:"
      ],
      "metadata": {
        "id": "_vqMdhbZDhQJ"
      }
    },
    {
      "cell_type": "code",
      "source": [
        "x[:, 0] # return the first element along the 2nd dimension"
      ],
      "metadata": {
        "colab": {
          "base_uri": "https://localhost:8080/"
        },
        "id": "mNmvYoZZDf_4",
        "outputId": "70b1638b-4a77-4d80-c313-b1fdf9388a39"
      },
      "execution_count": null,
      "outputs": [
        {
          "output_type": "execute_result",
          "data": {
            "text/plain": [
              "array([[0.46505492, 0.69657101, 0.19713386, 0.93933096],\n",
              "       [0.90201033, 0.00325078, 0.96537857, 0.40237639],\n",
              "       [0.69278739, 0.4009709 , 0.1567754 , 0.26029281]])"
            ]
          },
          "metadata": {},
          "execution_count": 52
        }
      ]
    },
    {
      "cell_type": "code",
      "source": [
        "x[..., :3]  # return only the first 3 elements along the last dimension"
      ],
      "metadata": {
        "colab": {
          "base_uri": "https://localhost:8080/"
        },
        "id": "G3TBUQiiDpu0",
        "outputId": "0de60397-c94a-4574-c1d9-86fdfa696d14"
      },
      "execution_count": null,
      "outputs": [
        {
          "output_type": "execute_result",
          "data": {
            "text/plain": [
              "array([[[0.45332707, 0.87913782, 0.7525274 ],\n",
              "        [0.34877662, 0.15144237, 0.579431  ],\n",
              "        [0.73254163, 0.43978424, 0.98839531],\n",
              "        [0.33828115, 0.14894458, 0.19692988]],\n",
              "\n",
              "       [[0.16872818, 0.97280371, 0.53619607],\n",
              "        [0.33664915, 0.01134832, 0.87576268],\n",
              "        [0.61105245, 0.99021261, 0.85370909],\n",
              "        [0.9660159 , 0.55608984, 0.29727331]],\n",
              "\n",
              "       [[0.09227107, 0.09683557, 0.3737085 ],\n",
              "        [0.09499326, 0.58141306, 0.28238224],\n",
              "        [0.77462464, 0.47719523, 0.23991498],\n",
              "        [0.09535425, 0.12413666, 0.95909546]]])"
            ]
          },
          "metadata": {},
          "execution_count": 37
        }
      ]
    },
    {
      "cell_type": "code",
      "source": [
        "x[[True, False, False]] # Boolean indexing"
      ],
      "metadata": {
        "colab": {
          "base_uri": "https://localhost:8080/"
        },
        "id": "WkimptUNDtjL",
        "outputId": "d4d13411-8c56-445c-ff46-963484b367a1"
      },
      "execution_count": null,
      "outputs": [
        {
          "output_type": "execute_result",
          "data": {
            "text/plain": [
              "array([[[0.46505492, 0.69657101, 0.19713386, 0.93933096],\n",
              "        [0.39411086, 0.67282509, 0.92814916, 0.0061341 ],\n",
              "        [0.63186582, 0.43728924, 0.46777357, 0.91862493],\n",
              "        [0.98333132, 0.38720654, 0.45624926, 0.76001125]]])"
            ]
          },
          "metadata": {},
          "execution_count": 54
        }
      ]
    },
    {
      "cell_type": "code",
      "source": [
        "x[:, [1, 2, 0], :]  # integer indexing"
      ],
      "metadata": {
        "colab": {
          "base_uri": "https://localhost:8080/"
        },
        "id": "iI9SlOSVDwST",
        "outputId": "e5b29017-008b-4b41-f30d-55a97a659fba"
      },
      "execution_count": null,
      "outputs": [
        {
          "output_type": "execute_result",
          "data": {
            "text/plain": [
              "array([[[0.39411086, 0.67282509, 0.92814916, 0.0061341 ],\n",
              "        [0.63186582, 0.43728924, 0.46777357, 0.91862493],\n",
              "        [0.46505492, 0.69657101, 0.19713386, 0.93933096]],\n",
              "\n",
              "       [[0.64400218, 0.13739824, 0.39569877, 0.41866399],\n",
              "        [0.05900367, 0.19063073, 0.89275787, 0.31559409],\n",
              "        [0.90201033, 0.00325078, 0.96537857, 0.40237639]],\n",
              "\n",
              "       [[0.49810344, 0.25775015, 0.56243913, 0.11910501],\n",
              "        [0.73592121, 0.54315779, 0.87011818, 0.61196139],\n",
              "        [0.69278739, 0.4009709 , 0.1567754 , 0.26029281]]])"
            ]
          },
          "metadata": {},
          "execution_count": 55
        }
      ]
    },
    {
      "cell_type": "markdown",
      "source": [
        "PyTorch supports many of the same operations as Numpy with a very similar interface. However, PyTorch provides some additional functionality which is very helpful for machine learning.\n",
        "\n",
        "In PyTorch, what was called an \"array\" in Numpy is now called a \"tensor\". Tensors can exist on different devices, namely the CPU or the GPU (cuda). This allows us to leverage the extreme parallelism capabilities of GPUs for our tensor operations."
      ],
      "metadata": {
        "id": "KKeP7rPcrZhD"
      }
    },
    {
      "cell_type": "code",
      "source": [
        "import torch\n",
        "\n",
        "\n",
        "# NOTE: to use \"cuda\" we need a GPU available. This can be done by changing the\n",
        "#       runtime in Google Colab, by going to Runtime -> Change Runtime Type\n",
        "device = \"cuda\" if torch.cuda.is_available() else \"cpu\"\n",
        "\n",
        "x = torch.rand((3, 4, 4))\n",
        "x"
      ],
      "metadata": {
        "colab": {
          "base_uri": "https://localhost:8080/"
        },
        "id": "i7aeoiKDrYTy",
        "outputId": "66d13a57-f6cc-46f7-b4a4-7f8f7bc9441f"
      },
      "execution_count": null,
      "outputs": [
        {
          "output_type": "execute_result",
          "data": {
            "text/plain": [
              "tensor([[[0.5352, 0.0947, 0.7733, 0.0189],\n",
              "         [0.3561, 0.2553, 0.3326, 0.0998],\n",
              "         [0.7704, 0.8500, 0.9524, 0.7296],\n",
              "         [0.7963, 0.3886, 0.5943, 0.7973]],\n",
              "\n",
              "        [[0.4594, 0.5803, 0.7034, 0.1211],\n",
              "         [0.4443, 0.5238, 0.9516, 0.2728],\n",
              "         [0.2328, 0.7155, 0.5388, 0.1192],\n",
              "         [0.2916, 0.7087, 0.3766, 0.9178]],\n",
              "\n",
              "        [[0.6944, 0.1613, 0.5245, 0.5382],\n",
              "         [0.4946, 0.5127, 0.8687, 0.2482],\n",
              "         [0.2628, 0.6253, 0.0133, 0.6206],\n",
              "         [0.2462, 0.4264, 0.2256, 0.2895]]])"
            ]
          },
          "metadata": {},
          "execution_count": 1
        }
      ]
    },
    {
      "cell_type": "code",
      "source": [
        "x = x.to(device) # we can move the tensor to a different device, if it's available\n",
        "x"
      ],
      "metadata": {
        "colab": {
          "base_uri": "https://localhost:8080/"
        },
        "id": "-hjhU5xjsFxJ",
        "outputId": "8de526ef-8399-4573-b30e-b1df0cba1d50"
      },
      "execution_count": null,
      "outputs": [
        {
          "output_type": "execute_result",
          "data": {
            "text/plain": [
              "tensor([[[0.5352, 0.0947, 0.7733, 0.0189],\n",
              "         [0.3561, 0.2553, 0.3326, 0.0998],\n",
              "         [0.7704, 0.8500, 0.9524, 0.7296],\n",
              "         [0.7963, 0.3886, 0.5943, 0.7973]],\n",
              "\n",
              "        [[0.4594, 0.5803, 0.7034, 0.1211],\n",
              "         [0.4443, 0.5238, 0.9516, 0.2728],\n",
              "         [0.2328, 0.7155, 0.5388, 0.1192],\n",
              "         [0.2916, 0.7087, 0.3766, 0.9178]],\n",
              "\n",
              "        [[0.6944, 0.1613, 0.5245, 0.5382],\n",
              "         [0.4946, 0.5127, 0.8687, 0.2482],\n",
              "         [0.2628, 0.6253, 0.0133, 0.6206],\n",
              "         [0.2462, 0.4264, 0.2256, 0.2895]]], device='cuda:0')"
            ]
          },
          "metadata": {},
          "execution_count": 3
        }
      ]
    },
    {
      "cell_type": "code",
      "source": [
        "x.sum(dim=1)  # \"axis\" is now called \"dim\" in pytorch"
      ],
      "metadata": {
        "colab": {
          "base_uri": "https://localhost:8080/"
        },
        "id": "exnos-dlsKoZ",
        "outputId": "e85bc13a-1079-4657-9ba2-2c1afe852b9c"
      },
      "execution_count": null,
      "outputs": [
        {
          "output_type": "execute_result",
          "data": {
            "text/plain": [
              "tensor([[2.4579, 1.5886, 2.6526, 1.6456],\n",
              "        [1.4280, 2.5284, 2.5705, 1.4308],\n",
              "        [1.6981, 1.7257, 1.6321, 1.6965]], device='cuda:0')"
            ]
          },
          "metadata": {},
          "execution_count": 4
        }
      ]
    },
    {
      "cell_type": "markdown",
      "source": [
        "Moreover, PyTorch supports **automatic differentiation** (autograd) to automatically compute gradients, and includes many useful classes and functions for deep learning. The autograd functionality is enabled by setting `requires_grad=True` on a tensor. We will then be able to **back-propagate** to compute the gradient of some function with respect to this tensor. The modules in `torch.nn` all set this automatically on their parameters:"
      ],
      "metadata": {
        "id": "O1wNOPj-yPXP"
      }
    },
    {
      "cell_type": "code",
      "source": [
        "x = torch.randn((3, 5, 5), requires_grad=True)  # normal distribution mean=0, std=1\n",
        "loss = (x**2).mean()\n",
        "loss.backward() # compute the gradients with respect to \"x\"\n",
        "x.grad"
      ],
      "metadata": {
        "colab": {
          "base_uri": "https://localhost:8080/"
        },
        "id": "suTfs1MsCxGs",
        "outputId": "214d6baf-ca33-417c-ec1b-639b52a51c3b"
      },
      "execution_count": null,
      "outputs": [
        {
          "output_type": "execute_result",
          "data": {
            "text/plain": [
              "tensor([[[ 0.0891,  0.0070, -0.0238, -0.0108,  0.0372],\n",
              "         [ 0.0246, -0.0149, -0.0119, -0.0057,  0.0094],\n",
              "         [-0.0005, -0.0100,  0.0006,  0.0565, -0.0198],\n",
              "         [-0.0279, -0.0247,  0.0073, -0.0178, -0.0113],\n",
              "         [-0.0294,  0.0098, -0.0086,  0.0331,  0.0269]],\n",
              "\n",
              "        [[ 0.0407,  0.0506,  0.0296, -0.0104,  0.0140],\n",
              "         [ 0.0007, -0.0209, -0.0080,  0.0552,  0.0011],\n",
              "         [-0.0251, -0.0099,  0.0094,  0.0114, -0.0690],\n",
              "         [ 0.0130,  0.0164,  0.0124, -0.0065, -0.0140],\n",
              "         [ 0.0186,  0.0462,  0.0169, -0.0002,  0.0350]],\n",
              "\n",
              "        [[ 0.0341,  0.0105, -0.0002,  0.0191, -0.0138],\n",
              "         [-0.0165,  0.0001, -0.0308, -0.0374, -0.0460],\n",
              "         [-0.0775,  0.0375, -0.0406, -0.0025, -0.0117],\n",
              "         [-0.0118, -0.0352,  0.0542, -0.0090,  0.0196],\n",
              "         [ 0.0214,  0.0136, -0.0044, -0.0396,  0.0471]]])"
            ]
          },
          "metadata": {},
          "execution_count": 6
        }
      ]
    },
    {
      "cell_type": "markdown",
      "source": [
        "Autograd allows us to build advanced model architectures, and train them with **gradient descent** without worrying about manually calculating gradients.\n",
        "\n",
        "Various optimizers (e.g `SGD`, `Adam`, etc.) are included in the `torch.optim` module and can be used to optimizer a list of `nn.Parameter` (wraps a tensor so that pytorch knows we want to optimize it) belonging to a model.\n",
        "\n",
        "The most useful modules in PyTorch are:\n",
        "\n",
        "- `torch.nn`: Implements many different Neural Network layers and helpful functions. `nn.Module` forms the base of all neural networks we design\n",
        "- `torch.optim`: Implements various gradient descent variations.\n",
        "- `torch.utils.data`: Implements a standard interface for `Dataset`, and provides `DataLoader` to dynamically iterate over the data in batches\n",
        "\n",
        "Some other helpful libraries include:\n",
        "- `torch_geometric`: Implements graph neural networks. We will use this in the GNN workshop!\n",
        "- `torchvision`: Useful for computer vision tasks\n",
        "- `torchaudio`: Useful for audio and signal processing tasks\n",
        "- `matplotlib` / `seaborn`: Common plotting libraries\n",
        "- `pandas`: Work with tabular data\n",
        "- `dask`: Big data, parallel processing on CPU (with support for various HPC clusters)\n"
      ],
      "metadata": {
        "id": "ESzQMQiJEjyg"
      }
    }
  ]
}